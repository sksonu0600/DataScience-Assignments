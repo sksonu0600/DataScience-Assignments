{
 "cells": [
  {
   "cell_type": "markdown",
   "id": "abd3d892",
   "metadata": {},
   "source": [
    "# Q3. Three Coins are tossed, find the probability that two heads and one tail are obtained? "
   ]
  },
  {
   "cell_type": "code",
   "execution_count": 1,
   "id": "ccb192cc",
   "metadata": {},
   "outputs": [],
   "source": [
    "from scipy import stats as st"
   ]
  },
  {
   "cell_type": "markdown",
   "id": "af5af1fb",
   "metadata": {},
   "source": [
    "### Probability of getting 2 head -  "
   ]
  },
  {
   "cell_type": "markdown",
   "id": "d90cc7cd",
   "metadata": {},
   "source": [
    "### st.binom.pmf(k,np,loc)\n",
    "\n",
    "* **k   = no of success required**\n",
    "* **np  = no of trails**\n",
    "* **loc = probability of getting success in one trail**"
   ]
  },
  {
   "cell_type": "code",
   "execution_count": 2,
   "id": "c134aa27",
   "metadata": {},
   "outputs": [
    {
     "data": {
      "text/plain": [
       "0.375"
      ]
     },
     "execution_count": 2,
     "metadata": {},
     "output_type": "execute_result"
    }
   ],
   "source": [
    "st.binom.pmf(2,3,0.5).round(3)    #Default loc = 0.5"
   ]
  },
  {
   "cell_type": "markdown",
   "id": "faef6df9",
   "metadata": {},
   "source": [
    "## ===================================================================== "
   ]
  },
  {
   "cell_type": "markdown",
   "id": "0cec1cf9",
   "metadata": {},
   "source": [
    "# Q7. Calculate Mean, Median, Mode, Variance, Standard Deviation, Range &     comment about the values / draw inferences, for the given dataset.\n",
    "\n",
    "### -\tFor Points,Score,Weigh>\n",
    "\n",
    "### Find Mean, Median, Mode, Variance, Standard Deviation, and Range and also Comment about the values/ Draw some inferences.\n"
   ]
  },
  {
   "cell_type": "markdown",
   "id": "c248ce1e",
   "metadata": {},
   "source": [
    "## <u>Import Necessary libraries : -"
   ]
  },
  {
   "cell_type": "code",
   "execution_count": 21,
   "id": "d1f4d30b",
   "metadata": {},
   "outputs": [],
   "source": [
    "import pandas as pd\n",
    "import numpy as np\n",
    "from scipy import stats"
   ]
  },
  {
   "cell_type": "markdown",
   "id": "5e27ce96",
   "metadata": {},
   "source": [
    "## <u> Import warnings : - "
   ]
  },
  {
   "cell_type": "code",
   "execution_count": 27,
   "id": "54640c7c",
   "metadata": {},
   "outputs": [],
   "source": [
    "import warnings \n",
    "warnings.filterwarnings('ignore')"
   ]
  },
  {
   "cell_type": "markdown",
   "id": "8b3c48bb",
   "metadata": {},
   "source": [
    "## <u>Import Data : -"
   ]
  },
  {
   "cell_type": "code",
   "execution_count": 5,
   "id": "80856aa6",
   "metadata": {},
   "outputs": [
    {
     "data": {
      "text/html": [
       "<div>\n",
       "<style scoped>\n",
       "    .dataframe tbody tr th:only-of-type {\n",
       "        vertical-align: middle;\n",
       "    }\n",
       "\n",
       "    .dataframe tbody tr th {\n",
       "        vertical-align: top;\n",
       "    }\n",
       "\n",
       "    .dataframe thead th {\n",
       "        text-align: right;\n",
       "    }\n",
       "</style>\n",
       "<table border=\"1\" class=\"dataframe\">\n",
       "  <thead>\n",
       "    <tr style=\"text-align: right;\">\n",
       "      <th></th>\n",
       "      <th>Unnamed: 0</th>\n",
       "      <th>Points</th>\n",
       "      <th>Score</th>\n",
       "      <th>Weigh</th>\n",
       "    </tr>\n",
       "  </thead>\n",
       "  <tbody>\n",
       "    <tr>\n",
       "      <th>0</th>\n",
       "      <td>Mazda RX4</td>\n",
       "      <td>3.90</td>\n",
       "      <td>2.620</td>\n",
       "      <td>16.46</td>\n",
       "    </tr>\n",
       "    <tr>\n",
       "      <th>1</th>\n",
       "      <td>Mazda RX4 Wag</td>\n",
       "      <td>3.90</td>\n",
       "      <td>2.875</td>\n",
       "      <td>17.02</td>\n",
       "    </tr>\n",
       "    <tr>\n",
       "      <th>2</th>\n",
       "      <td>Datsun 710</td>\n",
       "      <td>3.85</td>\n",
       "      <td>2.320</td>\n",
       "      <td>18.61</td>\n",
       "    </tr>\n",
       "    <tr>\n",
       "      <th>3</th>\n",
       "      <td>Hornet 4 Drive</td>\n",
       "      <td>3.08</td>\n",
       "      <td>3.215</td>\n",
       "      <td>19.44</td>\n",
       "    </tr>\n",
       "    <tr>\n",
       "      <th>4</th>\n",
       "      <td>Hornet Sportabout</td>\n",
       "      <td>3.15</td>\n",
       "      <td>3.440</td>\n",
       "      <td>17.02</td>\n",
       "    </tr>\n",
       "    <tr>\n",
       "      <th>5</th>\n",
       "      <td>Valiant</td>\n",
       "      <td>2.76</td>\n",
       "      <td>3.460</td>\n",
       "      <td>20.22</td>\n",
       "    </tr>\n",
       "    <tr>\n",
       "      <th>6</th>\n",
       "      <td>Duster 360</td>\n",
       "      <td>3.21</td>\n",
       "      <td>3.570</td>\n",
       "      <td>15.84</td>\n",
       "    </tr>\n",
       "    <tr>\n",
       "      <th>7</th>\n",
       "      <td>Merc 240D</td>\n",
       "      <td>3.69</td>\n",
       "      <td>3.190</td>\n",
       "      <td>20.00</td>\n",
       "    </tr>\n",
       "    <tr>\n",
       "      <th>8</th>\n",
       "      <td>Merc 230</td>\n",
       "      <td>3.92</td>\n",
       "      <td>3.150</td>\n",
       "      <td>22.90</td>\n",
       "    </tr>\n",
       "    <tr>\n",
       "      <th>9</th>\n",
       "      <td>Merc 280</td>\n",
       "      <td>3.92</td>\n",
       "      <td>3.440</td>\n",
       "      <td>18.30</td>\n",
       "    </tr>\n",
       "    <tr>\n",
       "      <th>10</th>\n",
       "      <td>Merc 280C</td>\n",
       "      <td>3.92</td>\n",
       "      <td>3.440</td>\n",
       "      <td>18.90</td>\n",
       "    </tr>\n",
       "    <tr>\n",
       "      <th>11</th>\n",
       "      <td>Merc 450SE</td>\n",
       "      <td>3.07</td>\n",
       "      <td>4.070</td>\n",
       "      <td>17.40</td>\n",
       "    </tr>\n",
       "    <tr>\n",
       "      <th>12</th>\n",
       "      <td>Merc 450SL</td>\n",
       "      <td>3.07</td>\n",
       "      <td>3.730</td>\n",
       "      <td>17.60</td>\n",
       "    </tr>\n",
       "    <tr>\n",
       "      <th>13</th>\n",
       "      <td>Merc 450SLC</td>\n",
       "      <td>3.07</td>\n",
       "      <td>3.780</td>\n",
       "      <td>18.00</td>\n",
       "    </tr>\n",
       "    <tr>\n",
       "      <th>14</th>\n",
       "      <td>Cadillac Fleetwood</td>\n",
       "      <td>2.93</td>\n",
       "      <td>5.250</td>\n",
       "      <td>17.98</td>\n",
       "    </tr>\n",
       "    <tr>\n",
       "      <th>15</th>\n",
       "      <td>Lincoln Continental</td>\n",
       "      <td>3.00</td>\n",
       "      <td>5.424</td>\n",
       "      <td>17.82</td>\n",
       "    </tr>\n",
       "    <tr>\n",
       "      <th>16</th>\n",
       "      <td>Chrysler Imperial</td>\n",
       "      <td>3.23</td>\n",
       "      <td>5.345</td>\n",
       "      <td>17.42</td>\n",
       "    </tr>\n",
       "    <tr>\n",
       "      <th>17</th>\n",
       "      <td>Fiat 128</td>\n",
       "      <td>4.08</td>\n",
       "      <td>2.200</td>\n",
       "      <td>19.47</td>\n",
       "    </tr>\n",
       "    <tr>\n",
       "      <th>18</th>\n",
       "      <td>Honda Civic</td>\n",
       "      <td>4.93</td>\n",
       "      <td>1.615</td>\n",
       "      <td>18.52</td>\n",
       "    </tr>\n",
       "    <tr>\n",
       "      <th>19</th>\n",
       "      <td>Toyota Corolla</td>\n",
       "      <td>4.22</td>\n",
       "      <td>1.835</td>\n",
       "      <td>19.90</td>\n",
       "    </tr>\n",
       "    <tr>\n",
       "      <th>20</th>\n",
       "      <td>Toyota Corona</td>\n",
       "      <td>3.70</td>\n",
       "      <td>2.465</td>\n",
       "      <td>20.01</td>\n",
       "    </tr>\n",
       "    <tr>\n",
       "      <th>21</th>\n",
       "      <td>Dodge Challenger</td>\n",
       "      <td>2.76</td>\n",
       "      <td>3.520</td>\n",
       "      <td>16.87</td>\n",
       "    </tr>\n",
       "    <tr>\n",
       "      <th>22</th>\n",
       "      <td>AMC Javelin</td>\n",
       "      <td>3.15</td>\n",
       "      <td>3.435</td>\n",
       "      <td>17.30</td>\n",
       "    </tr>\n",
       "    <tr>\n",
       "      <th>23</th>\n",
       "      <td>Camaro Z28</td>\n",
       "      <td>3.73</td>\n",
       "      <td>3.840</td>\n",
       "      <td>15.41</td>\n",
       "    </tr>\n",
       "    <tr>\n",
       "      <th>24</th>\n",
       "      <td>Pontiac Firebird</td>\n",
       "      <td>3.08</td>\n",
       "      <td>3.845</td>\n",
       "      <td>17.05</td>\n",
       "    </tr>\n",
       "    <tr>\n",
       "      <th>25</th>\n",
       "      <td>Fiat X1-9</td>\n",
       "      <td>4.08</td>\n",
       "      <td>1.935</td>\n",
       "      <td>18.90</td>\n",
       "    </tr>\n",
       "    <tr>\n",
       "      <th>26</th>\n",
       "      <td>Porsche 914-2</td>\n",
       "      <td>4.43</td>\n",
       "      <td>2.140</td>\n",
       "      <td>16.70</td>\n",
       "    </tr>\n",
       "    <tr>\n",
       "      <th>27</th>\n",
       "      <td>Lotus Europa</td>\n",
       "      <td>3.77</td>\n",
       "      <td>1.513</td>\n",
       "      <td>16.90</td>\n",
       "    </tr>\n",
       "    <tr>\n",
       "      <th>28</th>\n",
       "      <td>Ford Pantera L</td>\n",
       "      <td>4.22</td>\n",
       "      <td>3.170</td>\n",
       "      <td>14.50</td>\n",
       "    </tr>\n",
       "    <tr>\n",
       "      <th>29</th>\n",
       "      <td>Ferrari Dino</td>\n",
       "      <td>3.62</td>\n",
       "      <td>2.770</td>\n",
       "      <td>15.50</td>\n",
       "    </tr>\n",
       "    <tr>\n",
       "      <th>30</th>\n",
       "      <td>Maserati Bora</td>\n",
       "      <td>3.54</td>\n",
       "      <td>3.570</td>\n",
       "      <td>14.60</td>\n",
       "    </tr>\n",
       "    <tr>\n",
       "      <th>31</th>\n",
       "      <td>Volvo 142E</td>\n",
       "      <td>4.11</td>\n",
       "      <td>2.780</td>\n",
       "      <td>18.60</td>\n",
       "    </tr>\n",
       "  </tbody>\n",
       "</table>\n",
       "</div>"
      ],
      "text/plain": [
       "             Unnamed: 0  Points  Score  Weigh\n",
       "0             Mazda RX4    3.90  2.620  16.46\n",
       "1         Mazda RX4 Wag    3.90  2.875  17.02\n",
       "2            Datsun 710    3.85  2.320  18.61\n",
       "3        Hornet 4 Drive    3.08  3.215  19.44\n",
       "4     Hornet Sportabout    3.15  3.440  17.02\n",
       "5               Valiant    2.76  3.460  20.22\n",
       "6            Duster 360    3.21  3.570  15.84\n",
       "7             Merc 240D    3.69  3.190  20.00\n",
       "8              Merc 230    3.92  3.150  22.90\n",
       "9              Merc 280    3.92  3.440  18.30\n",
       "10            Merc 280C    3.92  3.440  18.90\n",
       "11           Merc 450SE    3.07  4.070  17.40\n",
       "12           Merc 450SL    3.07  3.730  17.60\n",
       "13          Merc 450SLC    3.07  3.780  18.00\n",
       "14   Cadillac Fleetwood    2.93  5.250  17.98\n",
       "15  Lincoln Continental    3.00  5.424  17.82\n",
       "16    Chrysler Imperial    3.23  5.345  17.42\n",
       "17             Fiat 128    4.08  2.200  19.47\n",
       "18          Honda Civic    4.93  1.615  18.52\n",
       "19       Toyota Corolla    4.22  1.835  19.90\n",
       "20        Toyota Corona    3.70  2.465  20.01\n",
       "21     Dodge Challenger    2.76  3.520  16.87\n",
       "22          AMC Javelin    3.15  3.435  17.30\n",
       "23           Camaro Z28    3.73  3.840  15.41\n",
       "24     Pontiac Firebird    3.08  3.845  17.05\n",
       "25            Fiat X1-9    4.08  1.935  18.90\n",
       "26        Porsche 914-2    4.43  2.140  16.70\n",
       "27         Lotus Europa    3.77  1.513  16.90\n",
       "28       Ford Pantera L    4.22  3.170  14.50\n",
       "29         Ferrari Dino    3.62  2.770  15.50\n",
       "30        Maserati Bora    3.54  3.570  14.60\n",
       "31           Volvo 142E    4.11  2.780  18.60"
      ]
     },
     "execution_count": 5,
     "metadata": {},
     "output_type": "execute_result"
    }
   ],
   "source": [
    "question_data = pd.read_csv('Q7.csv')\n",
    "question_data"
   ]
  },
  {
   "cell_type": "markdown",
   "id": "d86d5167",
   "metadata": {},
   "source": [
    "## <u>Mean : -"
   ]
  },
  {
   "cell_type": "code",
   "execution_count": 6,
   "id": "eae40c02",
   "metadata": {},
   "outputs": [
    {
     "data": {
      "text/plain": [
       "Points     3.596563\n",
       "Score      3.217250\n",
       "Weigh     17.848750\n",
       "dtype: float64"
      ]
     },
     "execution_count": 6,
     "metadata": {},
     "output_type": "execute_result"
    }
   ],
   "source": [
    "question_data.mean()"
   ]
  },
  {
   "cell_type": "markdown",
   "id": "41bb6bce",
   "metadata": {},
   "source": [
    "## <u>Median : -"
   ]
  },
  {
   "cell_type": "code",
   "execution_count": 7,
   "id": "d62df5b8",
   "metadata": {},
   "outputs": [
    {
     "data": {
      "text/plain": [
       "Points     3.695\n",
       "Score      3.325\n",
       "Weigh     17.710\n",
       "dtype: float64"
      ]
     },
     "execution_count": 7,
     "metadata": {},
     "output_type": "execute_result"
    }
   ],
   "source": [
    "question_data.median()"
   ]
  },
  {
   "cell_type": "markdown",
   "id": "c3401e4b",
   "metadata": {},
   "source": [
    "## <u>Mode : -"
   ]
  },
  {
   "cell_type": "code",
   "execution_count": 8,
   "id": "33f9b3c4",
   "metadata": {},
   "outputs": [
    {
     "data": {
      "text/plain": [
       "ModeResult(mode=array([['AMC Javelin', 3.07, 3.44, 17.02]], dtype=object), count=array([[1, 3, 3, 2]]))"
      ]
     },
     "execution_count": 8,
     "metadata": {},
     "output_type": "execute_result"
    }
   ],
   "source": [
    "mode_of_question_data = stats.mode(question_data)\n",
    "mode_of_question_data"
   ]
  },
  {
   "cell_type": "markdown",
   "id": "722ae6b7",
   "metadata": {},
   "source": [
    "## <u>Variance : -"
   ]
  },
  {
   "cell_type": "code",
   "execution_count": 9,
   "id": "a381f635",
   "metadata": {},
   "outputs": [
    {
     "data": {
      "text/plain": [
       "Points    0.285881\n",
       "Score     0.957379\n",
       "Weigh     3.193166\n",
       "dtype: float64"
      ]
     },
     "execution_count": 9,
     "metadata": {},
     "output_type": "execute_result"
    }
   ],
   "source": [
    "question_data.var()"
   ]
  },
  {
   "cell_type": "markdown",
   "id": "7a8fb099",
   "metadata": {},
   "source": [
    "## <u>Standard Deviation : -"
   ]
  },
  {
   "cell_type": "code",
   "execution_count": 10,
   "id": "a23a6cc0",
   "metadata": {},
   "outputs": [
    {
     "data": {
      "text/plain": [
       "Points    0.534679\n",
       "Score     0.978457\n",
       "Weigh     1.786943\n",
       "dtype: float64"
      ]
     },
     "execution_count": 10,
     "metadata": {},
     "output_type": "execute_result"
    }
   ],
   "source": [
    "question_data.std()"
   ]
  },
  {
   "cell_type": "markdown",
   "id": "87fb44ac",
   "metadata": {},
   "source": [
    "## <u>Range: -"
   ]
  },
  {
   "cell_type": "code",
   "execution_count": 11,
   "id": "3e732f8e",
   "metadata": {},
   "outputs": [
    {
     "data": {
      "text/plain": [
       "4.93"
      ]
     },
     "execution_count": 11,
     "metadata": {},
     "output_type": "execute_result"
    }
   ],
   "source": [
    "range_points_max = max(question_data['Points'])\n",
    "range_points_max"
   ]
  },
  {
   "cell_type": "code",
   "execution_count": 12,
   "id": "e2754083",
   "metadata": {},
   "outputs": [
    {
     "data": {
      "text/plain": [
       "4.93"
      ]
     },
     "execution_count": 12,
     "metadata": {},
     "output_type": "execute_result"
    }
   ],
   "source": [
    "range_points_min = min(question_data['Points'])\n",
    "range_points_max"
   ]
  },
  {
   "cell_type": "code",
   "execution_count": 13,
   "id": "528a0023",
   "metadata": {},
   "outputs": [
    {
     "name": "stdout",
     "output_type": "stream",
     "text": [
      "Range of points is - 2.17\n"
     ]
    }
   ],
   "source": [
    "range_points = range_points_max - range_points_min\n",
    "print('Range of points is -',range_points)"
   ]
  },
  {
   "cell_type": "code",
   "execution_count": 14,
   "id": "7864910f",
   "metadata": {},
   "outputs": [
    {
     "data": {
      "text/plain": [
       "Score     5.424\n",
       "Weigh    22.900\n",
       "dtype: float64"
      ]
     },
     "execution_count": 14,
     "metadata": {},
     "output_type": "execute_result"
    }
   ],
   "source": [
    "range_score_and_weigh_max = question_data[['Score','Weigh']].max()\n",
    "range_score_and_weigh_max\n"
   ]
  },
  {
   "cell_type": "code",
   "execution_count": 15,
   "id": "2d3aac6e",
   "metadata": {},
   "outputs": [
    {
     "data": {
      "text/plain": [
       "Score     1.513\n",
       "Weigh    14.500\n",
       "dtype: float64"
      ]
     },
     "execution_count": 15,
     "metadata": {},
     "output_type": "execute_result"
    }
   ],
   "source": [
    "range_score_and_weigh_min = question_data[['Score','Weigh']].min()\n",
    "range_score_and_weigh_min"
   ]
  },
  {
   "cell_type": "code",
   "execution_count": 16,
   "id": "4024452b",
   "metadata": {},
   "outputs": [
    {
     "name": "stdout",
     "output_type": "stream",
     "text": [
      "Range is - \n",
      " Score    3.911\n",
      "Weigh    8.400\n",
      "dtype: float64\n"
     ]
    }
   ],
   "source": [
    "range_score_and_weigh = range_score_and_weigh_max - range_score_and_weigh_min\n",
    "print('Range is -','\\n',range_score_and_weigh)"
   ]
  },
  {
   "cell_type": "markdown",
   "id": "63a95a75",
   "metadata": {},
   "source": [
    "## <u>Inference : -\n",
    "\n",
    "### Mean of the given data - Mean is nothing but the average of the given set of values.\n",
    "* Points =   3.596563\n",
    "* Score  =  3.217250\n",
    "* Weigh  = 17.848750\n",
    "\n",
    "### Median of the given data - Median is the middle value of the given list of data, when arranged in an order.\n",
    "* Points     3.695\n",
    "* Score      3.325\n",
    "* Weigh     17.710\n",
    "\n",
    "### Mode of the given data - Mode is the value that is repeatedly occurring in a given set. \n",
    "* unnamed = 'AMC Javelin'\n",
    "* Points  = 3.07\n",
    "* Score   = 3.44\n",
    "* Weigh   = 17.02\n",
    "\n",
    "### Variance of the given data - Variance is the expected value of the squared variation of a random variable from its mean value.\n",
    "* Points = 0.285881\n",
    "* Score  = 0.957379\n",
    "* Weigh  = 3.193166\n",
    "\n",
    "### Standard Deviation of the given data -  the standard deviation is a measure of the amount of variation or dispersion of a set of values.\n",
    "* Points = 0.534679\n",
    "* Score  = 0.978457\n",
    "* Weigh  = 1.786943\n",
    "\n",
    "\n",
    "### Range of the given data - The range in statistics for a given data set is the difference between the highest and lowest values.\n",
    "* Points = 2.17\n",
    "* Score  = 3.911\n",
    "* Weigh  = 8.400   "
   ]
  },
  {
   "cell_type": "markdown",
   "id": "0cbd6f13",
   "metadata": {},
   "source": [
    "### ====================================================================================== "
   ]
  },
  {
   "cell_type": "markdown",
   "id": "d97b5d79",
   "metadata": {},
   "source": [
    "# Q9) Calculate Skewness, Kurtosis & draw inferences on the following data. "
   ]
  },
  {
   "cell_type": "markdown",
   "id": "de770727",
   "metadata": {},
   "source": [
    "## <u>Import Dataset -"
   ]
  },
  {
   "cell_type": "code",
   "execution_count": 17,
   "id": "f78babb1",
   "metadata": {},
   "outputs": [
    {
     "data": {
      "text/html": [
       "<div>\n",
       "<style scoped>\n",
       "    .dataframe tbody tr th:only-of-type {\n",
       "        vertical-align: middle;\n",
       "    }\n",
       "\n",
       "    .dataframe tbody tr th {\n",
       "        vertical-align: top;\n",
       "    }\n",
       "\n",
       "    .dataframe thead th {\n",
       "        text-align: right;\n",
       "    }\n",
       "</style>\n",
       "<table border=\"1\" class=\"dataframe\">\n",
       "  <thead>\n",
       "    <tr style=\"text-align: right;\">\n",
       "      <th></th>\n",
       "      <th>Index</th>\n",
       "      <th>speed</th>\n",
       "      <th>dist</th>\n",
       "    </tr>\n",
       "  </thead>\n",
       "  <tbody>\n",
       "    <tr>\n",
       "      <th>0</th>\n",
       "      <td>1</td>\n",
       "      <td>4</td>\n",
       "      <td>2</td>\n",
       "    </tr>\n",
       "    <tr>\n",
       "      <th>1</th>\n",
       "      <td>2</td>\n",
       "      <td>4</td>\n",
       "      <td>10</td>\n",
       "    </tr>\n",
       "    <tr>\n",
       "      <th>2</th>\n",
       "      <td>3</td>\n",
       "      <td>7</td>\n",
       "      <td>4</td>\n",
       "    </tr>\n",
       "    <tr>\n",
       "      <th>3</th>\n",
       "      <td>4</td>\n",
       "      <td>7</td>\n",
       "      <td>22</td>\n",
       "    </tr>\n",
       "    <tr>\n",
       "      <th>4</th>\n",
       "      <td>5</td>\n",
       "      <td>8</td>\n",
       "      <td>16</td>\n",
       "    </tr>\n",
       "    <tr>\n",
       "      <th>5</th>\n",
       "      <td>6</td>\n",
       "      <td>9</td>\n",
       "      <td>10</td>\n",
       "    </tr>\n",
       "    <tr>\n",
       "      <th>6</th>\n",
       "      <td>7</td>\n",
       "      <td>10</td>\n",
       "      <td>18</td>\n",
       "    </tr>\n",
       "    <tr>\n",
       "      <th>7</th>\n",
       "      <td>8</td>\n",
       "      <td>10</td>\n",
       "      <td>26</td>\n",
       "    </tr>\n",
       "    <tr>\n",
       "      <th>8</th>\n",
       "      <td>9</td>\n",
       "      <td>10</td>\n",
       "      <td>34</td>\n",
       "    </tr>\n",
       "    <tr>\n",
       "      <th>9</th>\n",
       "      <td>10</td>\n",
       "      <td>11</td>\n",
       "      <td>17</td>\n",
       "    </tr>\n",
       "  </tbody>\n",
       "</table>\n",
       "</div>"
      ],
      "text/plain": [
       "   Index  speed  dist\n",
       "0      1      4     2\n",
       "1      2      4    10\n",
       "2      3      7     4\n",
       "3      4      7    22\n",
       "4      5      8    16\n",
       "5      6      9    10\n",
       "6      7     10    18\n",
       "7      8     10    26\n",
       "8      9     10    34\n",
       "9     10     11    17"
      ]
     },
     "execution_count": 17,
     "metadata": {},
     "output_type": "execute_result"
    }
   ],
   "source": [
    "first_dataset = pd.read_csv('Q9_a.csv')\n",
    "first_dataset.head(10)"
   ]
  },
  {
   "cell_type": "code",
   "execution_count": 18,
   "id": "1d633202",
   "metadata": {},
   "outputs": [
    {
     "data": {
      "text/html": [
       "<div>\n",
       "<style scoped>\n",
       "    .dataframe tbody tr th:only-of-type {\n",
       "        vertical-align: middle;\n",
       "    }\n",
       "\n",
       "    .dataframe tbody tr th {\n",
       "        vertical-align: top;\n",
       "    }\n",
       "\n",
       "    .dataframe thead th {\n",
       "        text-align: right;\n",
       "    }\n",
       "</style>\n",
       "<table border=\"1\" class=\"dataframe\">\n",
       "  <thead>\n",
       "    <tr style=\"text-align: right;\">\n",
       "      <th></th>\n",
       "      <th>Unnamed: 0</th>\n",
       "      <th>SP</th>\n",
       "      <th>WT</th>\n",
       "    </tr>\n",
       "  </thead>\n",
       "  <tbody>\n",
       "    <tr>\n",
       "      <th>0</th>\n",
       "      <td>1</td>\n",
       "      <td>104.185353</td>\n",
       "      <td>28.762059</td>\n",
       "    </tr>\n",
       "    <tr>\n",
       "      <th>1</th>\n",
       "      <td>2</td>\n",
       "      <td>105.461264</td>\n",
       "      <td>30.466833</td>\n",
       "    </tr>\n",
       "    <tr>\n",
       "      <th>2</th>\n",
       "      <td>3</td>\n",
       "      <td>105.461264</td>\n",
       "      <td>30.193597</td>\n",
       "    </tr>\n",
       "    <tr>\n",
       "      <th>3</th>\n",
       "      <td>4</td>\n",
       "      <td>113.461264</td>\n",
       "      <td>30.632114</td>\n",
       "    </tr>\n",
       "    <tr>\n",
       "      <th>4</th>\n",
       "      <td>5</td>\n",
       "      <td>104.461264</td>\n",
       "      <td>29.889149</td>\n",
       "    </tr>\n",
       "    <tr>\n",
       "      <th>5</th>\n",
       "      <td>6</td>\n",
       "      <td>113.185353</td>\n",
       "      <td>29.591768</td>\n",
       "    </tr>\n",
       "    <tr>\n",
       "      <th>6</th>\n",
       "      <td>7</td>\n",
       "      <td>105.461264</td>\n",
       "      <td>30.308480</td>\n",
       "    </tr>\n",
       "    <tr>\n",
       "      <th>7</th>\n",
       "      <td>8</td>\n",
       "      <td>102.598513</td>\n",
       "      <td>15.847758</td>\n",
       "    </tr>\n",
       "    <tr>\n",
       "      <th>8</th>\n",
       "      <td>9</td>\n",
       "      <td>102.598513</td>\n",
       "      <td>16.359484</td>\n",
       "    </tr>\n",
       "    <tr>\n",
       "      <th>9</th>\n",
       "      <td>10</td>\n",
       "      <td>115.645204</td>\n",
       "      <td>30.920154</td>\n",
       "    </tr>\n",
       "  </tbody>\n",
       "</table>\n",
       "</div>"
      ],
      "text/plain": [
       "   Unnamed: 0          SP         WT\n",
       "0           1  104.185353  28.762059\n",
       "1           2  105.461264  30.466833\n",
       "2           3  105.461264  30.193597\n",
       "3           4  113.461264  30.632114\n",
       "4           5  104.461264  29.889149\n",
       "5           6  113.185353  29.591768\n",
       "6           7  105.461264  30.308480\n",
       "7           8  102.598513  15.847758\n",
       "8           9  102.598513  16.359484\n",
       "9          10  115.645204  30.920154"
      ]
     },
     "execution_count": 18,
     "metadata": {},
     "output_type": "execute_result"
    }
   ],
   "source": [
    "second_dataset = pd.read_csv('Q9_b.csv')\n",
    "second_dataset.head(10)"
   ]
  },
  {
   "cell_type": "markdown",
   "id": "09e2743e",
   "metadata": {},
   "source": [
    "## <u>Finding Skewness and Kurtosis -"
   ]
  },
  {
   "cell_type": "markdown",
   "id": "4744c145",
   "metadata": {},
   "source": [
    "### <u>First dataset : "
   ]
  },
  {
   "cell_type": "code",
   "execution_count": 19,
   "id": "415a523d",
   "metadata": {},
   "outputs": [
    {
     "data": {
      "text/plain": [
       "Index    0.000000\n",
       "speed   -0.117510\n",
       "dist     0.806895\n",
       "dtype: float64"
      ]
     },
     "execution_count": 19,
     "metadata": {},
     "output_type": "execute_result"
    }
   ],
   "source": [
    "first_dataset.skew()"
   ]
  },
  {
   "cell_type": "markdown",
   "id": "ff5c9029",
   "metadata": {},
   "source": [
    "* **Speed is normally distributed as the skewness is -o.11 which is close to zero.**\n",
    "* **Distance has right skewness or positively skewed as its value is 0.80 which is greater than 0.5.**"
   ]
  },
  {
   "cell_type": "code",
   "execution_count": 20,
   "id": "a55309a7",
   "metadata": {},
   "outputs": [
    {
     "data": {
      "text/plain": [
       "Index   -1.200000\n",
       "speed   -0.508994\n",
       "dist     0.405053\n",
       "dtype: float64"
      ]
     },
     "execution_count": 20,
     "metadata": {},
     "output_type": "execute_result"
    }
   ],
   "source": [
    "first_dataset.kurtosis()"
   ]
  },
  {
   "cell_type": "markdown",
   "id": "90dfd058",
   "metadata": {},
   "source": [
    "* **Speed has no outliers as the kurtosis is -0.508 whose round figure is 0.**\n",
    "* **Distance has no outliers as the kurtosis is o.40 whose round figure is 0..** "
   ]
  },
  {
   "cell_type": "markdown",
   "id": "880c36d3",
   "metadata": {},
   "source": [
    "# "
   ]
  },
  {
   "cell_type": "markdown",
   "id": "b1d29a23",
   "metadata": {},
   "source": [
    "### <u>Second dataset : "
   ]
  },
  {
   "cell_type": "code",
   "execution_count": 21,
   "id": "d45e951b",
   "metadata": {},
   "outputs": [
    {
     "data": {
      "text/plain": [
       "Unnamed: 0    0.000000\n",
       "SP            1.611450\n",
       "WT           -0.614753\n",
       "dtype: float64"
      ]
     },
     "execution_count": 21,
     "metadata": {},
     "output_type": "execute_result"
    }
   ],
   "source": [
    "second_dataset.skew()"
   ]
  },
  {
   "cell_type": "markdown",
   "id": "0e6e4efe",
   "metadata": {},
   "source": [
    "* **Speed has right skewness or positively skewed as its value is 1.611 which greater than 0.5.** \n",
    "* **Weight has left skewness or negetively skewed as its value is -o.614 which is less than -0.5.**"
   ]
  },
  {
   "cell_type": "code",
   "execution_count": 22,
   "id": "c1ff47dc",
   "metadata": {},
   "outputs": [
    {
     "data": {
      "text/plain": [
       "Unnamed: 0   -1.200000\n",
       "SP            2.977329\n",
       "WT            0.950291\n",
       "dtype: float64"
      ]
     },
     "execution_count": 22,
     "metadata": {},
     "output_type": "execute_result"
    }
   ],
   "source": [
    "second_dataset.kurtosis()"
   ]
  },
  {
   "cell_type": "markdown",
   "id": "d92d091c",
   "metadata": {},
   "source": [
    "* **Speed has less outliers because the kurtosis is 2.977 which is less than 3.**\n",
    "* **Weight has very less outliers because the kurtosis is o.95 whose round figure is 1.**  "
   ]
  },
  {
   "cell_type": "markdown",
   "id": "c09c3641",
   "metadata": {},
   "source": [
    "## <u>Visualization of given data - "
   ]
  },
  {
   "cell_type": "code",
   "execution_count": 25,
   "id": "bf1a3877",
   "metadata": {},
   "outputs": [],
   "source": [
    "import seaborn as sns\n",
    "from matplotlib import pyplot as plt"
   ]
  },
  {
   "cell_type": "markdown",
   "id": "f6d35798",
   "metadata": {},
   "source": [
    "### Seeing skewness of both dataset - "
   ]
  },
  {
   "cell_type": "code",
   "execution_count": 24,
   "id": "aae20ead",
   "metadata": {},
   "outputs": [
    {
     "data": {
      "image/png": "[encoded data removed]",
      "text/plain": [
       "<Figure size 432x288 with 1 Axes>"
      ]
     },
     "metadata": {
      "needs_background": "light"
     },
     "output_type": "display_data"
    }
   ],
   "source": [
    "sns.distplot(a=first_dataset['speed'])\n",
    "plt.title('1st dataset Speed Distribution',size = 21)\n",
    "plt.xlabel('Speed')\n",
    "plt.ylabel('Frequency')\n",
    "plt.show()"
   ]
  },
  {
   "cell_type": "markdown",
   "id": "e9bbd14e",
   "metadata": {},
   "source": [
    "* **Speed is normally distributed**"
   ]
  },
  {
   "cell_type": "code",
   "execution_count": 25,
   "id": "2baf518d",
   "metadata": {},
   "outputs": [
    {
     "data": {
      "image/png": "[encoded data removed]",
      "text/plain": [
       "<Figure size 432x288 with 1 Axes>"
      ]
     },
     "metadata": {
      "needs_background": "light"
     },
     "output_type": "display_data"
    }
   ],
   "source": [
    "sns.distplot(a=first_dataset['dist'])\n",
    "plt.title('1st dataset Distance Distribution',size = 21)\n",
    "plt.xlabel('Distance')\n",
    "plt.ylabel('Frequency')\n",
    "plt.show()"
   ]
  },
  {
   "cell_type": "markdown",
   "id": "2fab9e55",
   "metadata": {},
   "source": [
    "* **Distance is rightly skewed.** "
   ]
  },
  {
   "cell_type": "code",
   "execution_count": 26,
   "id": "80f8f11b",
   "metadata": {},
   "outputs": [
    {
     "data": {
      "image/png": "[encoded data removed]",
      "text/plain": [
       "<Figure size 432x288 with 1 Axes>"
      ]
     },
     "metadata": {
      "needs_background": "light"
     },
     "output_type": "display_data"
    }
   ],
   "source": [
    "sns.distplot(a=second_dataset['SP'])\n",
    "plt.title('2nd dataset Speed Distribution',size = 21)\n",
    "plt.xlabel('Speed')\n",
    "plt.ylabel('Frequency')\n",
    "plt.show()"
   ]
  },
  {
   "cell_type": "markdown",
   "id": "b75cd38f",
   "metadata": {},
   "source": [
    "* **Speed has right skewness or positively skewed.** "
   ]
  },
  {
   "cell_type": "code",
   "execution_count": 27,
   "id": "cbac695a",
   "metadata": {},
   "outputs": [
    {
     "data": {
      "image/png": "[encoded data removed]",
      "text/plain": [
       "<Figure size 432x288 with 1 Axes>"
      ]
     },
     "metadata": {
      "needs_background": "light"
     },
     "output_type": "display_data"
    }
   ],
   "source": [
    "sns.distplot(a=second_dataset['WT'])\n",
    "plt.title('2nd dataset Weight Distribution',size = 21)\n",
    "plt.xlabel('Weight')\n",
    "plt.ylabel('Frequency')\n",
    "plt.show()"
   ]
  },
  {
   "cell_type": "markdown",
   "id": "20a3641f",
   "metadata": {},
   "source": [
    "* **Weight has left skewness or negetively skewed.** "
   ]
  },
  {
   "cell_type": "markdown",
   "id": "a703c70e",
   "metadata": {},
   "source": [
    "## <u>Inference : -"
   ]
  },
  {
   "cell_type": "markdown",
   "id": "9c87c211",
   "metadata": {},
   "source": [
    "### <u>First dataset : "
   ]
  },
  {
   "cell_type": "markdown",
   "id": "a403d2a1",
   "metadata": {},
   "source": [
    "* **Speed is normally distributed as the skewness is -o.11 which is close to zero.**\n",
    "* **Distance has right skewness or positively skewed as its value is 0.80 which is greater than 0.5.**\n",
    "\n",
    "\n",
    "* **Speed has no outliers as the kurtosis is -0.508 whose round figure is 0.**\n",
    "* **Distance has no outliers as the kurtosis is o.40 whose round figure is 0..** "
   ]
  },
  {
   "cell_type": "markdown",
   "id": "a2e62ef2",
   "metadata": {},
   "source": [
    "### <u>Second dataset : "
   ]
  },
  {
   "cell_type": "markdown",
   "id": "b695f144",
   "metadata": {},
   "source": [
    "* **Speed has right skewness or positively skewed as its value is 1.611 which greater than 0.5.** \n",
    "* **Weight has left skewness or negetively skewed as its value is -o.614 which is less than -0.5.**\n",
    "\n",
    "\n",
    "* **Speed has less outliers because the kurtosis is 2.977 which is less than 3.**\n",
    "* **Weight has very less outliers because the kurtosis is o.95 whose round figure is 1.**  "
   ]
  },
  {
   "cell_type": "markdown",
   "id": "26865029",
   "metadata": {},
   "source": [
    "## ====================================================================== "
   ]
  },
  {
   "cell_type": "markdown",
   "id": "72cc6b83",
   "metadata": {},
   "source": [
    "# Q11)   Suppose we want to estimate the average weight of an adult male in    Mexico. We draw a random sample of 2,000 men from a population of 3,000,000 men and weigh them. We find that the average person in our sample weighs 200 pounds, and the standard deviation of the sample is 30 pounds. Calculate 94%,98%,96% confidence interval? "
   ]
  },
  {
   "cell_type": "markdown",
   "id": "730c46b5",
   "metadata": {},
   "source": [
    "### Total no of population  = 3,000,000\n",
    "### Sample men              = 2000\n",
    "### Average person in our sample weighs around = 200 pounds\n",
    "### Standard Deviation of the sample is 30 pounds"
   ]
  },
  {
   "cell_type": "markdown",
   "id": "9b844cff",
   "metadata": {},
   "source": [
    "# "
   ]
  },
  {
   "cell_type": "markdown",
   "id": "db6d3785",
   "metadata": {},
   "source": [
    "**For 94% Confidence interval.**"
   ]
  },
  {
   "cell_type": "code",
   "execution_count": 28,
   "id": "a6ae1175",
   "metadata": {},
   "outputs": [
    {
     "data": {
      "text/plain": [
       "(198.87161006007665, 201.12838993992335)"
      ]
     },
     "execution_count": 28,
     "metadata": {},
     "output_type": "execute_result"
    }
   ],
   "source": [
    "st.t.interval(alpha = 0.03, df = (2000 - 1),loc = 200, scale = 30) "
   ]
  },
  {
   "cell_type": "markdown",
   "id": "e28903d3",
   "metadata": {},
   "source": [
    "**For 98% Confidence interval.**"
   ]
  },
  {
   "cell_type": "code",
   "execution_count": 55,
   "id": "d40e35cc",
   "metadata": {},
   "outputs": [
    {
     "data": {
      "text/plain": [
       "(199.62394888040726, 200.37605111959274)"
      ]
     },
     "execution_count": 55,
     "metadata": {},
     "output_type": "execute_result"
    }
   ],
   "source": [
    "st.t.interval(alpha = 0.01, df = (2000 - 1),loc = 200, scale = 30) "
   ]
  },
  {
   "cell_type": "markdown",
   "id": "e7c98c66",
   "metadata": {},
   "source": [
    "**For 96% Confidence interval.**"
   ]
  },
  {
   "cell_type": "code",
   "execution_count": 57,
   "id": "6d5ffc97",
   "metadata": {},
   "outputs": [
    {
     "data": {
      "text/plain": [
       "(199.24783863179837, 200.75216136820163)"
      ]
     },
     "execution_count": 57,
     "metadata": {},
     "output_type": "execute_result"
    }
   ],
   "source": [
    "st.t.interval(alpha = 0.02, df = (2000 - 1),loc = 200, scale = 30) "
   ]
  },
  {
   "cell_type": "markdown",
   "id": "b59fe001",
   "metadata": {},
   "source": [
    "### ===================================================================================== "
   ]
  },
  {
   "cell_type": "markdown",
   "id": "de173d49",
   "metadata": {},
   "source": [
    "# Q12)  Below are the scores obtained by a student in tests \n",
    "# 34,36,36,38,38,39,39,40,40,41,41,41,41,42,42,45,49,56\n",
    "\n",
    "# 1)\tFind mean, median, variance, standard deviation.\n",
    "\n",
    "# 2)\tWhat can we say about the student marks? \n",
    "\n"
   ]
  },
  {
   "cell_type": "code",
   "execution_count": 31,
   "id": "3df3b8c6",
   "metadata": {},
   "outputs": [
    {
     "data": {
      "text/plain": [
       "[34, 36, 36, 38, 38, 39, 39, 40, 40, 41, 41, 41, 41, 42, 42, 45, 49, 56]"
      ]
     },
     "execution_count": 31,
     "metadata": {},
     "output_type": "execute_result"
    }
   ],
   "source": [
    "marks_obtained =[34,36,36,38,38,39,39,40,40,41,41,41,41,42,42,45,49,56]\n",
    "marks_obtained"
   ]
  },
  {
   "cell_type": "code",
   "execution_count": 46,
   "id": "8a607c56",
   "metadata": {},
   "outputs": [],
   "source": [
    "import statistics"
   ]
  },
  {
   "cell_type": "code",
   "execution_count": 47,
   "id": "ce065943",
   "metadata": {},
   "outputs": [
    {
     "data": {
      "text/plain": [
       "41"
      ]
     },
     "execution_count": 47,
     "metadata": {},
     "output_type": "execute_result"
    }
   ],
   "source": [
    "statistics.mean(marks_obtained)"
   ]
  },
  {
   "cell_type": "code",
   "execution_count": 48,
   "id": "7d19522a",
   "metadata": {},
   "outputs": [
    {
     "data": {
      "text/plain": [
       "40.5"
      ]
     },
     "execution_count": 48,
     "metadata": {},
     "output_type": "execute_result"
    }
   ],
   "source": [
    "statistics.median(marks_obtained)"
   ]
  },
  {
   "cell_type": "code",
   "execution_count": 49,
   "id": "2207d679",
   "metadata": {},
   "outputs": [
    {
     "data": {
      "text/plain": [
       "25.529411764705884"
      ]
     },
     "execution_count": 49,
     "metadata": {},
     "output_type": "execute_result"
    }
   ],
   "source": [
    "statistics.variance(marks_obtained)"
   ]
  },
  {
   "cell_type": "code",
   "execution_count": 50,
   "id": "68ea83b0",
   "metadata": {},
   "outputs": [
    {
     "data": {
      "text/plain": [
       "5.05266382858645"
      ]
     },
     "execution_count": 50,
     "metadata": {},
     "output_type": "execute_result"
    }
   ],
   "source": [
    "# Standard Deviation\n",
    "statistics.stdev(marks_obtained)"
   ]
  },
  {
   "cell_type": "code",
   "execution_count": 51,
   "id": "b21bc18d",
   "metadata": {},
   "outputs": [
    {
     "data": {
      "text/plain": [
       "56"
      ]
     },
     "execution_count": 51,
     "metadata": {},
     "output_type": "execute_result"
    }
   ],
   "source": [
    "max(marks_obtained)"
   ]
  },
  {
   "cell_type": "code",
   "execution_count": 52,
   "id": "3f6648b5",
   "metadata": {},
   "outputs": [
    {
     "data": {
      "text/plain": [
       "34"
      ]
     },
     "execution_count": 52,
     "metadata": {},
     "output_type": "execute_result"
    }
   ],
   "source": [
    "min(marks_obtained)"
   ]
  },
  {
   "cell_type": "markdown",
   "id": "c6906e43",
   "metadata": {},
   "source": [
    "### After calculation we can draw out inference as -\n",
    "\n",
    "   * **The average marks scored by the students is 41.**\n",
    "   * **41 is the most occuring mark by students.**\n",
    "   * **The amount of variation in the student marks is 5.05**\n",
    "   * **Maximum marks obtained by the students is 56**\n",
    "   * **Minimum marks obtained by the students is 34.**"
   ]
  },
  {
   "cell_type": "markdown",
   "id": "f9d815b6",
   "metadata": {},
   "source": [
    "### ====================================================================================="
   ]
  },
  {
   "cell_type": "markdown",
   "id": "435f0a7b",
   "metadata": {},
   "source": [
    "# Q 20) Calculate probability from the given dataset for the below cases\n",
    "\n",
    "### Data _set: Cars.csv\n",
    "### Calculate the probability of MPG  of Cars for the below cases.\n",
    "###       MPG <- Cars$MPG\n",
    "### a.\tP(MPG>38)\n",
    "### b.\tP(MPG<40)\n",
    "### c.    P (20<MPG<50)\n"
   ]
  },
  {
   "cell_type": "markdown",
   "id": "9152484c",
   "metadata": {},
   "source": [
    "## <u>Import Data - "
   ]
  },
  {
   "cell_type": "code",
   "execution_count": 6,
   "id": "6e0476ea",
   "metadata": {},
   "outputs": [],
   "source": [
    "cars_dataset = pd.read_csv('Cars (1).csv')"
   ]
  },
  {
   "cell_type": "code",
   "execution_count": 7,
   "id": "d2dad5db",
   "metadata": {},
   "outputs": [
    {
     "data": {
      "text/html": [
       "<div>\n",
       "<style scoped>\n",
       "    .dataframe tbody tr th:only-of-type {\n",
       "        vertical-align: middle;\n",
       "    }\n",
       "\n",
       "    .dataframe tbody tr th {\n",
       "        vertical-align: top;\n",
       "    }\n",
       "\n",
       "    .dataframe thead th {\n",
       "        text-align: right;\n",
       "    }\n",
       "</style>\n",
       "<table border=\"1\" class=\"dataframe\">\n",
       "  <thead>\n",
       "    <tr style=\"text-align: right;\">\n",
       "      <th></th>\n",
       "      <th>HP</th>\n",
       "      <th>MPG</th>\n",
       "      <th>VOL</th>\n",
       "      <th>SP</th>\n",
       "      <th>WT</th>\n",
       "    </tr>\n",
       "  </thead>\n",
       "  <tbody>\n",
       "    <tr>\n",
       "      <th>0</th>\n",
       "      <td>49</td>\n",
       "      <td>53.700681</td>\n",
       "      <td>89</td>\n",
       "      <td>104.185353</td>\n",
       "      <td>28.762059</td>\n",
       "    </tr>\n",
       "    <tr>\n",
       "      <th>1</th>\n",
       "      <td>55</td>\n",
       "      <td>50.013401</td>\n",
       "      <td>92</td>\n",
       "      <td>105.461264</td>\n",
       "      <td>30.466833</td>\n",
       "    </tr>\n",
       "    <tr>\n",
       "      <th>2</th>\n",
       "      <td>55</td>\n",
       "      <td>50.013401</td>\n",
       "      <td>92</td>\n",
       "      <td>105.461264</td>\n",
       "      <td>30.193597</td>\n",
       "    </tr>\n",
       "    <tr>\n",
       "      <th>3</th>\n",
       "      <td>70</td>\n",
       "      <td>45.696322</td>\n",
       "      <td>92</td>\n",
       "      <td>113.461264</td>\n",
       "      <td>30.632114</td>\n",
       "    </tr>\n",
       "    <tr>\n",
       "      <th>4</th>\n",
       "      <td>53</td>\n",
       "      <td>50.504232</td>\n",
       "      <td>92</td>\n",
       "      <td>104.461264</td>\n",
       "      <td>29.889149</td>\n",
       "    </tr>\n",
       "    <tr>\n",
       "      <th>...</th>\n",
       "      <td>...</td>\n",
       "      <td>...</td>\n",
       "      <td>...</td>\n",
       "      <td>...</td>\n",
       "      <td>...</td>\n",
       "    </tr>\n",
       "    <tr>\n",
       "      <th>76</th>\n",
       "      <td>322</td>\n",
       "      <td>36.900000</td>\n",
       "      <td>50</td>\n",
       "      <td>169.598513</td>\n",
       "      <td>16.132947</td>\n",
       "    </tr>\n",
       "    <tr>\n",
       "      <th>77</th>\n",
       "      <td>238</td>\n",
       "      <td>19.197888</td>\n",
       "      <td>115</td>\n",
       "      <td>150.576579</td>\n",
       "      <td>37.923113</td>\n",
       "    </tr>\n",
       "    <tr>\n",
       "      <th>78</th>\n",
       "      <td>263</td>\n",
       "      <td>34.000000</td>\n",
       "      <td>50</td>\n",
       "      <td>151.598513</td>\n",
       "      <td>15.769625</td>\n",
       "    </tr>\n",
       "    <tr>\n",
       "      <th>79</th>\n",
       "      <td>295</td>\n",
       "      <td>19.833733</td>\n",
       "      <td>119</td>\n",
       "      <td>167.944460</td>\n",
       "      <td>39.423099</td>\n",
       "    </tr>\n",
       "    <tr>\n",
       "      <th>80</th>\n",
       "      <td>236</td>\n",
       "      <td>12.101263</td>\n",
       "      <td>107</td>\n",
       "      <td>139.840817</td>\n",
       "      <td>34.948615</td>\n",
       "    </tr>\n",
       "  </tbody>\n",
       "</table>\n",
       "<p>81 rows × 5 columns</p>\n",
       "</div>"
      ],
      "text/plain": [
       "     HP        MPG  VOL          SP         WT\n",
       "0    49  53.700681   89  104.185353  28.762059\n",
       "1    55  50.013401   92  105.461264  30.466833\n",
       "2    55  50.013401   92  105.461264  30.193597\n",
       "3    70  45.696322   92  113.461264  30.632114\n",
       "4    53  50.504232   92  104.461264  29.889149\n",
       "..  ...        ...  ...         ...        ...\n",
       "76  322  36.900000   50  169.598513  16.132947\n",
       "77  238  19.197888  115  150.576579  37.923113\n",
       "78  263  34.000000   50  151.598513  15.769625\n",
       "79  295  19.833733  119  167.944460  39.423099\n",
       "80  236  12.101263  107  139.840817  34.948615\n",
       "\n",
       "[81 rows x 5 columns]"
      ]
     },
     "execution_count": 7,
     "metadata": {},
     "output_type": "execute_result"
    }
   ],
   "source": [
    "cars_dataset"
   ]
  },
  {
   "cell_type": "code",
   "execution_count": 15,
   "id": "2b0bbab5",
   "metadata": {},
   "outputs": [
    {
     "data": {
      "text/html": [
       "<div>\n",
       "<style scoped>\n",
       "    .dataframe tbody tr th:only-of-type {\n",
       "        vertical-align: middle;\n",
       "    }\n",
       "\n",
       "    .dataframe tbody tr th {\n",
       "        vertical-align: top;\n",
       "    }\n",
       "\n",
       "    .dataframe thead th {\n",
       "        text-align: right;\n",
       "    }\n",
       "</style>\n",
       "<table border=\"1\" class=\"dataframe\">\n",
       "  <thead>\n",
       "    <tr style=\"text-align: right;\">\n",
       "      <th></th>\n",
       "      <th>MPG</th>\n",
       "    </tr>\n",
       "  </thead>\n",
       "  <tbody>\n",
       "    <tr>\n",
       "      <th>0</th>\n",
       "      <td>53.700681</td>\n",
       "    </tr>\n",
       "    <tr>\n",
       "      <th>1</th>\n",
       "      <td>50.013401</td>\n",
       "    </tr>\n",
       "    <tr>\n",
       "      <th>2</th>\n",
       "      <td>50.013401</td>\n",
       "    </tr>\n",
       "    <tr>\n",
       "      <th>3</th>\n",
       "      <td>45.696322</td>\n",
       "    </tr>\n",
       "    <tr>\n",
       "      <th>4</th>\n",
       "      <td>50.504232</td>\n",
       "    </tr>\n",
       "    <tr>\n",
       "      <th>...</th>\n",
       "      <td>...</td>\n",
       "    </tr>\n",
       "    <tr>\n",
       "      <th>76</th>\n",
       "      <td>36.900000</td>\n",
       "    </tr>\n",
       "    <tr>\n",
       "      <th>77</th>\n",
       "      <td>19.197888</td>\n",
       "    </tr>\n",
       "    <tr>\n",
       "      <th>78</th>\n",
       "      <td>34.000000</td>\n",
       "    </tr>\n",
       "    <tr>\n",
       "      <th>79</th>\n",
       "      <td>19.833733</td>\n",
       "    </tr>\n",
       "    <tr>\n",
       "      <th>80</th>\n",
       "      <td>12.101263</td>\n",
       "    </tr>\n",
       "  </tbody>\n",
       "</table>\n",
       "<p>81 rows × 1 columns</p>\n",
       "</div>"
      ],
      "text/plain": [
       "          MPG\n",
       "0   53.700681\n",
       "1   50.013401\n",
       "2   50.013401\n",
       "3   45.696322\n",
       "4   50.504232\n",
       "..        ...\n",
       "76  36.900000\n",
       "77  19.197888\n",
       "78  34.000000\n",
       "79  19.833733\n",
       "80  12.101263\n",
       "\n",
       "[81 rows x 1 columns]"
      ]
     },
     "execution_count": 15,
     "metadata": {},
     "output_type": "execute_result"
    }
   ],
   "source": [
    "mpg = pd.DataFrame(cars_dataset['MPG'])\n",
    "mpg"
   ]
  },
  {
   "cell_type": "code",
   "execution_count": 16,
   "id": "33eba167",
   "metadata": {},
   "outputs": [
    {
     "data": {
      "text/plain": [
       "MPG    34.422076\n",
       "dtype: float64"
      ]
     },
     "execution_count": 16,
     "metadata": {},
     "output_type": "execute_result"
    }
   ],
   "source": [
    "mean_cars_dataset = mpg.mean()\n",
    "mean_cars_dataset"
   ]
  },
  {
   "cell_type": "code",
   "execution_count": 17,
   "id": "1f6e7d6b",
   "metadata": {},
   "outputs": [
    {
     "data": {
      "text/plain": [
       "MPG    9.131445\n",
       "dtype: float64"
      ]
     },
     "execution_count": 17,
     "metadata": {},
     "output_type": "execute_result"
    }
   ],
   "source": [
    "standard_deviation_cars_dataset = mpg.std()\n",
    "standard_deviation_cars_dataset"
   ]
  },
  {
   "cell_type": "markdown",
   "id": "b139c7d9",
   "metadata": {},
   "source": [
    "## a. P(MPG>38)"
   ]
  },
  {
   "cell_type": "code",
   "execution_count": 18,
   "id": "cbc5c28c",
   "metadata": {},
   "outputs": [
    {
     "data": {
      "text/plain": [
       "array([0.34759393])"
      ]
     },
     "execution_count": 18,
     "metadata": {},
     "output_type": "execute_result"
    }
   ],
   "source": [
    "prob_cars = 1-stats.norm.cdf(x = 38,loc = mean_cars_dataset,scale = standard_deviation_cars_dataset )\n",
    "prob_cars"
   ]
  },
  {
   "cell_type": "markdown",
   "id": "19c9f484",
   "metadata": {},
   "source": [
    "## b. P(MPG<40)"
   ]
  },
  {
   "cell_type": "code",
   "execution_count": 19,
   "id": "d2a07f08",
   "metadata": {},
   "outputs": [
    {
     "data": {
      "text/plain": [
       "array([0.27065012])"
      ]
     },
     "execution_count": 19,
     "metadata": {},
     "output_type": "execute_result"
    }
   ],
   "source": [
    "prob_cars = 1-stats.norm.cdf(x = 40,loc = mean_cars_dataset,scale = standard_deviation_cars_dataset )\n",
    "prob_cars"
   ]
  },
  {
   "cell_type": "markdown",
   "id": "6c8e043a",
   "metadata": {},
   "source": [
    "## c. P(20<MPG<50)"
   ]
  },
  {
   "cell_type": "code",
   "execution_count": 20,
   "id": "80450915",
   "metadata": {},
   "outputs": [
    {
     "data": {
      "text/plain": [
       "array([0.89886892])"
      ]
     },
     "execution_count": 20,
     "metadata": {},
     "output_type": "execute_result"
    }
   ],
   "source": [
    "prob_cars = stats.norm.cdf(x = 50,loc = mean_cars_dataset,scale = standard_deviation_cars_dataset ) - stats.norm.cdf(x = 20,loc = mean_cars_dataset,scale = standard_deviation_cars_dataset )\n",
    "prob_cars"
   ]
  },
  {
   "cell_type": "markdown",
   "id": "ff3a603b",
   "metadata": {},
   "source": [
    "### ====================================================================================="
   ]
  },
  {
   "cell_type": "markdown",
   "id": "86ad98b4",
   "metadata": {},
   "source": [
    "# Q 21) Check whether the data follows normal distribution\n",
    " "
   ]
  },
  {
   "cell_type": "markdown",
   "id": "6a01c136",
   "metadata": {},
   "source": [
    "## a)\tCheck whether the MPG of Cars follows Normal Distribution \n",
    "   ### Dataset: Cars.csv"
   ]
  },
  {
   "cell_type": "code",
   "execution_count": 23,
   "id": "35fdbda8",
   "metadata": {},
   "outputs": [
    {
     "data": {
      "text/html": [
       "<div>\n",
       "<style scoped>\n",
       "    .dataframe tbody tr th:only-of-type {\n",
       "        vertical-align: middle;\n",
       "    }\n",
       "\n",
       "    .dataframe tbody tr th {\n",
       "        vertical-align: top;\n",
       "    }\n",
       "\n",
       "    .dataframe thead th {\n",
       "        text-align: right;\n",
       "    }\n",
       "</style>\n",
       "<table border=\"1\" class=\"dataframe\">\n",
       "  <thead>\n",
       "    <tr style=\"text-align: right;\">\n",
       "      <th></th>\n",
       "      <th>HP</th>\n",
       "      <th>MPG</th>\n",
       "      <th>VOL</th>\n",
       "      <th>SP</th>\n",
       "      <th>WT</th>\n",
       "    </tr>\n",
       "  </thead>\n",
       "  <tbody>\n",
       "    <tr>\n",
       "      <th>0</th>\n",
       "      <td>49</td>\n",
       "      <td>53.700681</td>\n",
       "      <td>89</td>\n",
       "      <td>104.185353</td>\n",
       "      <td>28.762059</td>\n",
       "    </tr>\n",
       "    <tr>\n",
       "      <th>1</th>\n",
       "      <td>55</td>\n",
       "      <td>50.013401</td>\n",
       "      <td>92</td>\n",
       "      <td>105.461264</td>\n",
       "      <td>30.466833</td>\n",
       "    </tr>\n",
       "    <tr>\n",
       "      <th>2</th>\n",
       "      <td>55</td>\n",
       "      <td>50.013401</td>\n",
       "      <td>92</td>\n",
       "      <td>105.461264</td>\n",
       "      <td>30.193597</td>\n",
       "    </tr>\n",
       "    <tr>\n",
       "      <th>3</th>\n",
       "      <td>70</td>\n",
       "      <td>45.696322</td>\n",
       "      <td>92</td>\n",
       "      <td>113.461264</td>\n",
       "      <td>30.632114</td>\n",
       "    </tr>\n",
       "    <tr>\n",
       "      <th>4</th>\n",
       "      <td>53</td>\n",
       "      <td>50.504232</td>\n",
       "      <td>92</td>\n",
       "      <td>104.461264</td>\n",
       "      <td>29.889149</td>\n",
       "    </tr>\n",
       "    <tr>\n",
       "      <th>...</th>\n",
       "      <td>...</td>\n",
       "      <td>...</td>\n",
       "      <td>...</td>\n",
       "      <td>...</td>\n",
       "      <td>...</td>\n",
       "    </tr>\n",
       "    <tr>\n",
       "      <th>76</th>\n",
       "      <td>322</td>\n",
       "      <td>36.900000</td>\n",
       "      <td>50</td>\n",
       "      <td>169.598513</td>\n",
       "      <td>16.132947</td>\n",
       "    </tr>\n",
       "    <tr>\n",
       "      <th>77</th>\n",
       "      <td>238</td>\n",
       "      <td>19.197888</td>\n",
       "      <td>115</td>\n",
       "      <td>150.576579</td>\n",
       "      <td>37.923113</td>\n",
       "    </tr>\n",
       "    <tr>\n",
       "      <th>78</th>\n",
       "      <td>263</td>\n",
       "      <td>34.000000</td>\n",
       "      <td>50</td>\n",
       "      <td>151.598513</td>\n",
       "      <td>15.769625</td>\n",
       "    </tr>\n",
       "    <tr>\n",
       "      <th>79</th>\n",
       "      <td>295</td>\n",
       "      <td>19.833733</td>\n",
       "      <td>119</td>\n",
       "      <td>167.944460</td>\n",
       "      <td>39.423099</td>\n",
       "    </tr>\n",
       "    <tr>\n",
       "      <th>80</th>\n",
       "      <td>236</td>\n",
       "      <td>12.101263</td>\n",
       "      <td>107</td>\n",
       "      <td>139.840817</td>\n",
       "      <td>34.948615</td>\n",
       "    </tr>\n",
       "  </tbody>\n",
       "</table>\n",
       "<p>81 rows × 5 columns</p>\n",
       "</div>"
      ],
      "text/plain": [
       "     HP        MPG  VOL          SP         WT\n",
       "0    49  53.700681   89  104.185353  28.762059\n",
       "1    55  50.013401   92  105.461264  30.466833\n",
       "2    55  50.013401   92  105.461264  30.193597\n",
       "3    70  45.696322   92  113.461264  30.632114\n",
       "4    53  50.504232   92  104.461264  29.889149\n",
       "..  ...        ...  ...         ...        ...\n",
       "76  322  36.900000   50  169.598513  16.132947\n",
       "77  238  19.197888  115  150.576579  37.923113\n",
       "78  263  34.000000   50  151.598513  15.769625\n",
       "79  295  19.833733  119  167.944460  39.423099\n",
       "80  236  12.101263  107  139.840817  34.948615\n",
       "\n",
       "[81 rows x 5 columns]"
      ]
     },
     "execution_count": 23,
     "metadata": {},
     "output_type": "execute_result"
    }
   ],
   "source": [
    "cars_data = pd.read_csv('Cars (1).csv')\n",
    "cars_data"
   ]
  },
  {
   "cell_type": "code",
   "execution_count": 30,
   "id": "774d13d1",
   "metadata": {},
   "outputs": [
    {
     "data": {
      "text/html": [
       "<div>\n",
       "<style scoped>\n",
       "    .dataframe tbody tr th:only-of-type {\n",
       "        vertical-align: middle;\n",
       "    }\n",
       "\n",
       "    .dataframe tbody tr th {\n",
       "        vertical-align: top;\n",
       "    }\n",
       "\n",
       "    .dataframe thead th {\n",
       "        text-align: right;\n",
       "    }\n",
       "</style>\n",
       "<table border=\"1\" class=\"dataframe\">\n",
       "  <thead>\n",
       "    <tr style=\"text-align: right;\">\n",
       "      <th></th>\n",
       "      <th>MPG</th>\n",
       "    </tr>\n",
       "  </thead>\n",
       "  <tbody>\n",
       "    <tr>\n",
       "      <th>0</th>\n",
       "      <td>53.700681</td>\n",
       "    </tr>\n",
       "    <tr>\n",
       "      <th>1</th>\n",
       "      <td>50.013401</td>\n",
       "    </tr>\n",
       "    <tr>\n",
       "      <th>2</th>\n",
       "      <td>50.013401</td>\n",
       "    </tr>\n",
       "    <tr>\n",
       "      <th>3</th>\n",
       "      <td>45.696322</td>\n",
       "    </tr>\n",
       "    <tr>\n",
       "      <th>4</th>\n",
       "      <td>50.504232</td>\n",
       "    </tr>\n",
       "    <tr>\n",
       "      <th>...</th>\n",
       "      <td>...</td>\n",
       "    </tr>\n",
       "    <tr>\n",
       "      <th>76</th>\n",
       "      <td>36.900000</td>\n",
       "    </tr>\n",
       "    <tr>\n",
       "      <th>77</th>\n",
       "      <td>19.197888</td>\n",
       "    </tr>\n",
       "    <tr>\n",
       "      <th>78</th>\n",
       "      <td>34.000000</td>\n",
       "    </tr>\n",
       "    <tr>\n",
       "      <th>79</th>\n",
       "      <td>19.833733</td>\n",
       "    </tr>\n",
       "    <tr>\n",
       "      <th>80</th>\n",
       "      <td>12.101263</td>\n",
       "    </tr>\n",
       "  </tbody>\n",
       "</table>\n",
       "<p>81 rows × 1 columns</p>\n",
       "</div>"
      ],
      "text/plain": [
       "          MPG\n",
       "0   53.700681\n",
       "1   50.013401\n",
       "2   50.013401\n",
       "3   45.696322\n",
       "4   50.504232\n",
       "..        ...\n",
       "76  36.900000\n",
       "77  19.197888\n",
       "78  34.000000\n",
       "79  19.833733\n",
       "80  12.101263\n",
       "\n",
       "[81 rows x 1 columns]"
      ]
     },
     "execution_count": 30,
     "metadata": {},
     "output_type": "execute_result"
    }
   ],
   "source": [
    "mpg = cars_data[['MPG']]\n",
    "mpg"
   ]
  },
  {
   "cell_type": "code",
   "execution_count": 31,
   "id": "464d2c0d",
   "metadata": {},
   "outputs": [
    {
     "data": {
      "image/png": "[encoded data removed]",
      "text/plain": [
       "<Figure size 432x288 with 1 Axes>"
      ]
     },
     "metadata": {
      "needs_background": "light"
     },
     "output_type": "display_data"
    }
   ],
   "source": [
    "sns.distplot(mpg)\n",
    "plt.title('Distribution',size = 21)\n",
    "plt.xlabel('MPG')\n",
    "plt.ylabel('Frequency')\n",
    "plt.show()"
   ]
  },
  {
   "cell_type": "code",
   "execution_count": 34,
   "id": "0d7edcff",
   "metadata": {},
   "outputs": [
    {
     "name": "stdout",
     "output_type": "stream",
     "text": [
      "Skeweness is : \n",
      " MPG   -0.177947\n",
      "dtype: float64\n"
     ]
    }
   ],
   "source": [
    "skeweness = mpg.skew()\n",
    "print ('Skeweness is :','\\n',skeweness)"
   ]
  },
  {
   "cell_type": "markdown",
   "id": "3a87c5f1",
   "metadata": {},
   "source": [
    "* ### \" MPG of cars data follows normal distribution as the skeweness of MPG is between -0.5 to 0.5 .\""
   ]
  },
  {
   "cell_type": "markdown",
   "id": "ccc88f5f",
   "metadata": {},
   "source": [
    "## b)\tCheck Whether the Adipose Tissue (AT) and Waist Circumference(Waist)  from wc-at data set  follows Normal Distribution \n",
    "   ## Dataset: wc-at.csv "
   ]
  },
  {
   "cell_type": "markdown",
   "id": "98d5366e",
   "metadata": {},
   "source": [
    "## Import Dataset "
   ]
  },
  {
   "cell_type": "code",
   "execution_count": 35,
   "id": "04d45411",
   "metadata": {},
   "outputs": [
    {
     "data": {
      "text/html": [
       "<div>\n",
       "<style scoped>\n",
       "    .dataframe tbody tr th:only-of-type {\n",
       "        vertical-align: middle;\n",
       "    }\n",
       "\n",
       "    .dataframe tbody tr th {\n",
       "        vertical-align: top;\n",
       "    }\n",
       "\n",
       "    .dataframe thead th {\n",
       "        text-align: right;\n",
       "    }\n",
       "</style>\n",
       "<table border=\"1\" class=\"dataframe\">\n",
       "  <thead>\n",
       "    <tr style=\"text-align: right;\">\n",
       "      <th></th>\n",
       "      <th>Waist</th>\n",
       "      <th>AT</th>\n",
       "    </tr>\n",
       "  </thead>\n",
       "  <tbody>\n",
       "    <tr>\n",
       "      <th>0</th>\n",
       "      <td>74.75</td>\n",
       "      <td>25.72</td>\n",
       "    </tr>\n",
       "    <tr>\n",
       "      <th>1</th>\n",
       "      <td>72.60</td>\n",
       "      <td>25.89</td>\n",
       "    </tr>\n",
       "    <tr>\n",
       "      <th>2</th>\n",
       "      <td>81.80</td>\n",
       "      <td>42.60</td>\n",
       "    </tr>\n",
       "    <tr>\n",
       "      <th>3</th>\n",
       "      <td>83.95</td>\n",
       "      <td>42.80</td>\n",
       "    </tr>\n",
       "    <tr>\n",
       "      <th>4</th>\n",
       "      <td>74.65</td>\n",
       "      <td>29.84</td>\n",
       "    </tr>\n",
       "    <tr>\n",
       "      <th>...</th>\n",
       "      <td>...</td>\n",
       "      <td>...</td>\n",
       "    </tr>\n",
       "    <tr>\n",
       "      <th>104</th>\n",
       "      <td>100.10</td>\n",
       "      <td>124.00</td>\n",
       "    </tr>\n",
       "    <tr>\n",
       "      <th>105</th>\n",
       "      <td>93.30</td>\n",
       "      <td>62.20</td>\n",
       "    </tr>\n",
       "    <tr>\n",
       "      <th>106</th>\n",
       "      <td>101.80</td>\n",
       "      <td>133.00</td>\n",
       "    </tr>\n",
       "    <tr>\n",
       "      <th>107</th>\n",
       "      <td>107.90</td>\n",
       "      <td>208.00</td>\n",
       "    </tr>\n",
       "    <tr>\n",
       "      <th>108</th>\n",
       "      <td>108.50</td>\n",
       "      <td>208.00</td>\n",
       "    </tr>\n",
       "  </tbody>\n",
       "</table>\n",
       "<p>109 rows × 2 columns</p>\n",
       "</div>"
      ],
      "text/plain": [
       "      Waist      AT\n",
       "0     74.75   25.72\n",
       "1     72.60   25.89\n",
       "2     81.80   42.60\n",
       "3     83.95   42.80\n",
       "4     74.65   29.84\n",
       "..      ...     ...\n",
       "104  100.10  124.00\n",
       "105   93.30   62.20\n",
       "106  101.80  133.00\n",
       "107  107.90  208.00\n",
       "108  108.50  208.00\n",
       "\n",
       "[109 rows x 2 columns]"
      ]
     },
     "execution_count": 35,
     "metadata": {},
     "output_type": "execute_result"
    }
   ],
   "source": [
    "adipose_waist = pd.read_csv('wc-at.csv')\n",
    "adipose_waist"
   ]
  },
  {
   "cell_type": "markdown",
   "id": "faca3baa",
   "metadata": {},
   "source": [
    "## 1. Waist "
   ]
  },
  {
   "cell_type": "code",
   "execution_count": 36,
   "id": "41b49943",
   "metadata": {},
   "outputs": [
    {
     "data": {
      "text/html": [
       "<div>\n",
       "<style scoped>\n",
       "    .dataframe tbody tr th:only-of-type {\n",
       "        vertical-align: middle;\n",
       "    }\n",
       "\n",
       "    .dataframe tbody tr th {\n",
       "        vertical-align: top;\n",
       "    }\n",
       "\n",
       "    .dataframe thead th {\n",
       "        text-align: right;\n",
       "    }\n",
       "</style>\n",
       "<table border=\"1\" class=\"dataframe\">\n",
       "  <thead>\n",
       "    <tr style=\"text-align: right;\">\n",
       "      <th></th>\n",
       "      <th>Waist</th>\n",
       "    </tr>\n",
       "  </thead>\n",
       "  <tbody>\n",
       "    <tr>\n",
       "      <th>0</th>\n",
       "      <td>74.75</td>\n",
       "    </tr>\n",
       "    <tr>\n",
       "      <th>1</th>\n",
       "      <td>72.60</td>\n",
       "    </tr>\n",
       "    <tr>\n",
       "      <th>2</th>\n",
       "      <td>81.80</td>\n",
       "    </tr>\n",
       "    <tr>\n",
       "      <th>3</th>\n",
       "      <td>83.95</td>\n",
       "    </tr>\n",
       "    <tr>\n",
       "      <th>4</th>\n",
       "      <td>74.65</td>\n",
       "    </tr>\n",
       "    <tr>\n",
       "      <th>...</th>\n",
       "      <td>...</td>\n",
       "    </tr>\n",
       "    <tr>\n",
       "      <th>104</th>\n",
       "      <td>100.10</td>\n",
       "    </tr>\n",
       "    <tr>\n",
       "      <th>105</th>\n",
       "      <td>93.30</td>\n",
       "    </tr>\n",
       "    <tr>\n",
       "      <th>106</th>\n",
       "      <td>101.80</td>\n",
       "    </tr>\n",
       "    <tr>\n",
       "      <th>107</th>\n",
       "      <td>107.90</td>\n",
       "    </tr>\n",
       "    <tr>\n",
       "      <th>108</th>\n",
       "      <td>108.50</td>\n",
       "    </tr>\n",
       "  </tbody>\n",
       "</table>\n",
       "<p>109 rows × 1 columns</p>\n",
       "</div>"
      ],
      "text/plain": [
       "      Waist\n",
       "0     74.75\n",
       "1     72.60\n",
       "2     81.80\n",
       "3     83.95\n",
       "4     74.65\n",
       "..      ...\n",
       "104  100.10\n",
       "105   93.30\n",
       "106  101.80\n",
       "107  107.90\n",
       "108  108.50\n",
       "\n",
       "[109 rows x 1 columns]"
      ]
     },
     "execution_count": 36,
     "metadata": {},
     "output_type": "execute_result"
    }
   ],
   "source": [
    "waist = adipose_waist[['Waist']]\n",
    "waist"
   ]
  },
  {
   "cell_type": "code",
   "execution_count": 37,
   "id": "709fd524",
   "metadata": {},
   "outputs": [
    {
     "data": {
      "image/png": "[encoded data removed]",
      "text/plain": [
       "<Figure size 432x288 with 1 Axes>"
      ]
     },
     "metadata": {
      "needs_background": "light"
     },
     "output_type": "display_data"
    }
   ],
   "source": [
    "sns.distplot(waist)\n",
    "plt.title('Distribution',size = 21)\n",
    "plt.xlabel('Waist')\n",
    "plt.ylabel('Frequency')\n",
    "plt.show()"
   ]
  },
  {
   "cell_type": "code",
   "execution_count": 38,
   "id": "ef54d446",
   "metadata": {},
   "outputs": [
    {
     "name": "stdout",
     "output_type": "stream",
     "text": [
      "Skeweness is : \n",
      " Waist    0.134056\n",
      "dtype: float64\n"
     ]
    }
   ],
   "source": [
    "skeweness_waist = waist.skew()\n",
    "print ('Skeweness is :','\\n',skeweness_waist)"
   ]
  },
  {
   "cell_type": "markdown",
   "id": "e7b0f18e",
   "metadata": {},
   "source": [
    "* ### \" Waist of wc-at follows normal distribution as the skeweness of Waist is between -0.5 to 0.5 .\""
   ]
  },
  {
   "cell_type": "markdown",
   "id": "94f267fd",
   "metadata": {},
   "source": [
    "## 2. Adipose Tissue"
   ]
  },
  {
   "cell_type": "code",
   "execution_count": 39,
   "id": "a8e17785",
   "metadata": {},
   "outputs": [
    {
     "data": {
      "text/html": [
       "<div>\n",
       "<style scoped>\n",
       "    .dataframe tbody tr th:only-of-type {\n",
       "        vertical-align: middle;\n",
       "    }\n",
       "\n",
       "    .dataframe tbody tr th {\n",
       "        vertical-align: top;\n",
       "    }\n",
       "\n",
       "    .dataframe thead th {\n",
       "        text-align: right;\n",
       "    }\n",
       "</style>\n",
       "<table border=\"1\" class=\"dataframe\">\n",
       "  <thead>\n",
       "    <tr style=\"text-align: right;\">\n",
       "      <th></th>\n",
       "      <th>AT</th>\n",
       "    </tr>\n",
       "  </thead>\n",
       "  <tbody>\n",
       "    <tr>\n",
       "      <th>0</th>\n",
       "      <td>25.72</td>\n",
       "    </tr>\n",
       "    <tr>\n",
       "      <th>1</th>\n",
       "      <td>25.89</td>\n",
       "    </tr>\n",
       "    <tr>\n",
       "      <th>2</th>\n",
       "      <td>42.60</td>\n",
       "    </tr>\n",
       "    <tr>\n",
       "      <th>3</th>\n",
       "      <td>42.80</td>\n",
       "    </tr>\n",
       "    <tr>\n",
       "      <th>4</th>\n",
       "      <td>29.84</td>\n",
       "    </tr>\n",
       "    <tr>\n",
       "      <th>...</th>\n",
       "      <td>...</td>\n",
       "    </tr>\n",
       "    <tr>\n",
       "      <th>104</th>\n",
       "      <td>124.00</td>\n",
       "    </tr>\n",
       "    <tr>\n",
       "      <th>105</th>\n",
       "      <td>62.20</td>\n",
       "    </tr>\n",
       "    <tr>\n",
       "      <th>106</th>\n",
       "      <td>133.00</td>\n",
       "    </tr>\n",
       "    <tr>\n",
       "      <th>107</th>\n",
       "      <td>208.00</td>\n",
       "    </tr>\n",
       "    <tr>\n",
       "      <th>108</th>\n",
       "      <td>208.00</td>\n",
       "    </tr>\n",
       "  </tbody>\n",
       "</table>\n",
       "<p>109 rows × 1 columns</p>\n",
       "</div>"
      ],
      "text/plain": [
       "         AT\n",
       "0     25.72\n",
       "1     25.89\n",
       "2     42.60\n",
       "3     42.80\n",
       "4     29.84\n",
       "..      ...\n",
       "104  124.00\n",
       "105   62.20\n",
       "106  133.00\n",
       "107  208.00\n",
       "108  208.00\n",
       "\n",
       "[109 rows x 1 columns]"
      ]
     },
     "execution_count": 39,
     "metadata": {},
     "output_type": "execute_result"
    }
   ],
   "source": [
    "adipose_tissue = adipose_waist[['AT']]\n",
    "adipose_tissue"
   ]
  },
  {
   "cell_type": "code",
   "execution_count": 40,
   "id": "909cb8f7",
   "metadata": {},
   "outputs": [
    {
     "data": {
      "image/png": "[encoded data removed]",
      "text/plain": [
       "<Figure size 432x288 with 1 Axes>"
      ]
     },
     "metadata": {
      "needs_background": "light"
     },
     "output_type": "display_data"
    }
   ],
   "source": [
    "sns.distplot(adipose_tissue)\n",
    "plt.title('Distribution',size = 21)\n",
    "plt.xlabel('Adipose Tissue')\n",
    "plt.ylabel('Frequency')\n",
    "plt.show()"
   ]
  },
  {
   "cell_type": "code",
   "execution_count": 41,
   "id": "c8fbcd6f",
   "metadata": {},
   "outputs": [
    {
     "name": "stdout",
     "output_type": "stream",
     "text": [
      "Skeweness is : \n",
      " AT    0.584869\n",
      "dtype: float64\n"
     ]
    }
   ],
   "source": [
    "skeweness_adipose_tissue = adipose_tissue.skew()\n",
    "print ('Skeweness is :','\\n',skeweness_adipose_tissue)"
   ]
  },
  {
   "cell_type": "markdown",
   "id": "73b20d38",
   "metadata": {},
   "source": [
    "* ### \" Adipose Tissue of wc-at doesnot follows normal distribution as the skeweness of Waist is 0.584 which is greater than 0.5 .\""
   ]
  },
  {
   "cell_type": "markdown",
   "id": "dbce8e31",
   "metadata": {},
   "source": [
    "### ====================================================================================="
   ]
  },
  {
   "cell_type": "markdown",
   "id": "a9977024",
   "metadata": {},
   "source": [
    "# Q 22) Calculate the Z scores of  90% confidence interval,94% confidence interval, 60% confidence interval"
   ]
  },
  {
   "cell_type": "code",
   "execution_count": 3,
   "id": "1d091017",
   "metadata": {},
   "outputs": [],
   "source": [
    "import pandas as pd\n",
    "import numpy as np\n",
    "import scipy.stats as stats"
   ]
  },
  {
   "cell_type": "code",
   "execution_count": 69,
   "id": "4dccb7ff",
   "metadata": {},
   "outputs": [
    {
     "data": {
      "text/plain": [
       "1.6449"
      ]
     },
     "execution_count": 69,
     "metadata": {},
     "output_type": "execute_result"
    }
   ],
   "source": [
    "stats.norm.ppf(0.95).round(4)"
   ]
  },
  {
   "cell_type": "code",
   "execution_count": 73,
   "id": "07a325c8",
   "metadata": {},
   "outputs": [
    {
     "data": {
      "text/plain": [
       "1.8808"
      ]
     },
     "execution_count": 73,
     "metadata": {},
     "output_type": "execute_result"
    }
   ],
   "source": [
    "stats.norm.ppf(0.97).round(4)"
   ]
  },
  {
   "cell_type": "code",
   "execution_count": 74,
   "id": "95afb64e",
   "metadata": {},
   "outputs": [
    {
     "data": {
      "text/plain": [
       "0.8416"
      ]
     },
     "execution_count": 74,
     "metadata": {},
     "output_type": "execute_result"
    }
   ],
   "source": [
    "stats.norm.ppf(0.8).round(4)"
   ]
  },
  {
   "cell_type": "markdown",
   "id": "c8c1f83c",
   "metadata": {},
   "source": [
    "## <u>Inference -\n",
    "\n",
    "### Z scores of 90% confidence interval is 1.6449\n",
    "### Z scores of 94% confidence interval is 1.8808\n",
    "### Z scores of 60% confidence interval is 0.8416"
   ]
  },
  {
   "cell_type": "markdown",
   "id": "0cec8f21",
   "metadata": {},
   "source": [
    "### ===================================================================================== "
   ]
  },
  {
   "cell_type": "markdown",
   "id": "19117eff",
   "metadata": {},
   "source": [
    "#  Q 23) Calculate the t scores of 95% confidence interval, 96% confidence interval, 99% confidence interval for sample size of 25"
   ]
  },
  {
   "cell_type": "code",
   "execution_count": 62,
   "id": "f81e11b1",
   "metadata": {},
   "outputs": [
    {
     "data": {
      "text/plain": [
       "2.0638985616280205"
      ]
     },
     "execution_count": 62,
     "metadata": {},
     "output_type": "execute_result"
    }
   ],
   "source": [
    "stats.t.ppf(0.975,(25-1)) # the t scores of 95% confidence interval for sample size of 25"
   ]
  },
  {
   "cell_type": "code",
   "execution_count": 63,
   "id": "64c69c96",
   "metadata": {},
   "outputs": [
    {
     "data": {
      "text/plain": [
       "2.1715446760080677"
      ]
     },
     "execution_count": 63,
     "metadata": {},
     "output_type": "execute_result"
    }
   ],
   "source": [
    "stats.t.ppf(0.98,(25-1)) # the t scores of 96% confidence interval for sample size of 25"
   ]
  },
  {
   "cell_type": "code",
   "execution_count": 64,
   "id": "2a542192",
   "metadata": {},
   "outputs": [
    {
     "data": {
      "text/plain": [
       "2.796939504772804"
      ]
     },
     "execution_count": 64,
     "metadata": {},
     "output_type": "execute_result"
    }
   ],
   "source": [
    "stats.t.ppf(0.995,(25-1)) # the t scores of 99% confidence interval for sample size of 25"
   ]
  },
  {
   "cell_type": "markdown",
   "id": "e719a774",
   "metadata": {},
   "source": [
    "### ====================================================================================="
   ]
  },
  {
   "cell_type": "markdown",
   "id": "c1e6e997",
   "metadata": {},
   "source": [
    "# Q 24)    A Government  company claims that an average light bulb lasts 270 days. A researcher randomly selects 18 bulbs for testing. The sampled bulbs last an average of 260 days, with a               standard deviation of 90 days. If the CEO's claim were true, what is the probability that 18 randomly selected                 bulbs would have an average life of no more than 260 days "
   ]
  },
  {
   "cell_type": "markdown",
   "id": "4e545d9b",
   "metadata": {},
   "source": [
    "### mean total by government = 270 days\n",
    "\n",
    "### sample = 18 bulbs\n",
    "### mean of sample = 260 days\n",
    "### standard deviation = 90 days"
   ]
  },
  {
   "cell_type": "markdown",
   "id": "2e7cb3ab",
   "metadata": {},
   "source": [
    "sample = 18\n",
    "mean_original = 270\n",
    "mean_sample = 260"
   ]
  },
  {
   "cell_type": "markdown",
   "id": "ed8b57ce",
   "metadata": {},
   "source": [
    "To find the probability we must find the t value first - "
   ]
  },
  {
   "cell_type": "code",
   "execution_count": 9,
   "id": "8355e3c7",
   "metadata": {},
   "outputs": [
    {
     "data": {
      "text/plain": [
       "-0.4714045207910317"
      ]
     },
     "execution_count": 9,
     "metadata": {},
     "output_type": "execute_result"
    }
   ],
   "source": [
    "# t=(s_mean-P_mean)/(s_SD/sqrt(n))\n",
    "\n",
    "t_value = (260 - 270)/(90/np.sqrt(18))\n",
    "t_value"
   ]
  },
  {
   "cell_type": "code",
   "execution_count": 10,
   "id": "b834beb1",
   "metadata": {},
   "outputs": [
    {
     "data": {
      "text/plain": [
       "0.32167253567098353"
      ]
     },
     "execution_count": 10,
     "metadata": {},
     "output_type": "execute_result"
    }
   ],
   "source": [
    "# Now p = 1 -stats.t.cdf(abs(t_scores),df=n-1)\n",
    "\n",
    "probability = 1 - stats.t.cdf(abs(t_value),df =(18-1))\n",
    "probability"
   ]
  },
  {
   "cell_type": "code",
   "execution_count": 11,
   "id": "659e8bc3",
   "metadata": {},
   "outputs": [
    {
     "data": {
      "text/plain": [
       "21.213203435596427"
      ]
     },
     "execution_count": 11,
     "metadata": {},
     "output_type": "execute_result"
    }
   ],
   "source": [
    "a = (90/np.sqrt(18))\n",
    "a"
   ]
  },
  {
   "cell_type": "code",
   "execution_count": 12,
   "id": "bb42c408",
   "metadata": {},
   "outputs": [
    {
     "data": {
      "text/plain": [
       "(215.24406018430918, 304.75593981569085)"
      ]
     },
     "execution_count": 12,
     "metadata": {},
     "output_type": "execute_result"
    }
   ],
   "source": [
    "stats.t.interval(alpha = 0.95,loc = 260,scale = 21.2132,df = 17)"
   ]
  },
  {
   "cell_type": "code",
   "execution_count": null,
   "id": "43633d29",
   "metadata": {},
   "outputs": [],
   "source": []
  }
 ],
 "metadata": {
  "kernelspec": {
   "display_name": "Python 3 (ipykernel)",
   "language": "python",
   "name": "python3"
  },
  "language_info": {
   "codemirror_mode": {
    "name": "ipython",
    "version": 3
   },
   "file_extension": ".py",
   "mimetype": "text/x-python",
   "name": "python",
   "nbconvert_exporter": "python",
   "pygments_lexer": "ipython3",
   "version": "3.9.7"
  }
 },
 "nbformat": 4,
 "nbformat_minor": 5
}
