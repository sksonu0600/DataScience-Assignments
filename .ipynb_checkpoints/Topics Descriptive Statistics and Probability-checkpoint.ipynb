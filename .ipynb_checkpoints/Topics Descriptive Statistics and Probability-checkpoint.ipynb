{
 "cells": [
  {
   "cell_type": "markdown",
   "id": "f0f0d18d",
   "metadata": {},
   "source": [
    "# Q1. Look at the data given below. Plot the data find the outliers and find out mean, variance and standard deviation."
   ]
  },
  {
   "cell_type": "markdown",
   "id": "7577abd9",
   "metadata": {},
   "source": [
    "## <u>Import necessary libraries "
   ]
  },
  {
   "cell_type": "code",
   "execution_count": 32,
   "id": "477a7528",
   "metadata": {},
   "outputs": [],
   "source": [
    "import statistics\n",
    "from matplotlib import pyplot as plt"
   ]
  },
  {
   "cell_type": "markdown",
   "id": "ef8fedee",
   "metadata": {},
   "source": [
    "## <u>Listing Data  "
   ]
  },
  {
   "cell_type": "code",
   "execution_count": 29,
   "id": "91b20177",
   "metadata": {},
   "outputs": [],
   "source": [
    "measure_x = [24.23, 25.53, 25.41, 24.14, 29.62, 28.25, 25.81, 24.39, 40.26, 32.95, 91.36, 25.99, 39.42, 26.71, 35.00]\n",
    "measure_x.sort()"
   ]
  },
  {
   "cell_type": "code",
   "execution_count": 30,
   "id": "276becc2",
   "metadata": {},
   "outputs": [
    {
     "data": {
      "text/plain": [
       "[24.14,\n",
       " 24.23,\n",
       " 24.39,\n",
       " 25.41,\n",
       " 25.53,\n",
       " 25.81,\n",
       " 25.99,\n",
       " 26.71,\n",
       " 28.25,\n",
       " 29.62,\n",
       " 32.95,\n",
       " 35.0,\n",
       " 39.42,\n",
       " 40.26,\n",
       " 91.36]"
      ]
     },
     "execution_count": 30,
     "metadata": {},
     "output_type": "execute_result"
    }
   ],
   "source": [
    "measure_x"
   ]
  },
  {
   "cell_type": "code",
   "execution_count": 21,
   "id": "08bb5b28",
   "metadata": {},
   "outputs": [
    {
     "data": {
      "text/plain": [
       "33.27133333333333"
      ]
     },
     "execution_count": 21,
     "metadata": {},
     "output_type": "execute_result"
    }
   ],
   "source": [
    "statistics.mean(measure_x)"
   ]
  },
  {
   "cell_type": "code",
   "execution_count": 22,
   "id": "9367db96",
   "metadata": {},
   "outputs": [
    {
     "data": {
      "text/plain": [
       "287.1466123809524"
      ]
     },
     "execution_count": 22,
     "metadata": {},
     "output_type": "execute_result"
    }
   ],
   "source": [
    "statistics.variance(measure_x)"
   ]
  },
  {
   "cell_type": "code",
   "execution_count": 23,
   "id": "5494b756",
   "metadata": {},
   "outputs": [
    {
     "data": {
      "text/plain": [
       "16.945400921222028"
      ]
     },
     "execution_count": 23,
     "metadata": {},
     "output_type": "execute_result"
    }
   ],
   "source": [
    "statistics.stdev(measure_x)"
   ]
  },
  {
   "cell_type": "code",
   "execution_count": 31,
   "id": "5b90ac07",
   "metadata": {},
   "outputs": [
    {
     "data": {
      "image/png": "[encoded data removed]",
      "text/plain": [
       "<Figure size 648x432 with 1 Axes>"
      ]
     },
     "metadata": {
      "needs_background": "light"
     },
     "output_type": "display_data"
    }
   ],
   "source": [
    "plt.figure(figsize=(9,6))\n",
    "plt.title('Measure X',size = 21)\n",
    "plt.boxplot(x = measure_x )\n",
    "plt.show()"
   ]
  },
  {
   "cell_type": "markdown",
   "id": "2b13373a",
   "metadata": {},
   "source": [
    "## Inference -\n",
    "\n",
    "### Sigma / Mean of the given data = 33.271\n",
    "### Variance = 287.146\n",
    "### Standard Deviation = 16.945"
   ]
  },
  {
   "cell_type": "markdown",
   "id": "36d22d33",
   "metadata": {},
   "source": [
    "## ======================================================================== "
   ]
  },
  {
   "cell_type": "code",
   "execution_count": null,
   "id": "fdff1d75",
   "metadata": {},
   "outputs": [],
   "source": []
  }
 ],
 "metadata": {
  "kernelspec": {
   "display_name": "Python 3 (ipykernel)",
   "language": "python",
   "name": "python3"
  },
  "language_info": {
   "codemirror_mode": {
    "name": "ipython",
    "version": 3
   },
   "file_extension": ".py",
   "mimetype": "text/x-python",
   "name": "python",
   "nbconvert_exporter": "python",
   "pygments_lexer": "ipython3",
   "version": "3.9.7"
  }
 },
 "nbformat": 4,
 "nbformat_minor": 5
}
