{
 "cells": [
  {
   "cell_type": "markdown",
   "id": "3a761556",
   "metadata": {},
   "source": [
    "## 1. Chi- squared Test\n",
    "\n",
    "Is there any association between 2 or more qualitative features."
   ]
  },
  {
   "cell_type": "code",
   "execution_count": 1,
   "id": "0c5f0c4f",
   "metadata": {},
   "outputs": [],
   "source": [
    "import seaborn as sns"
   ]
  },
  {
   "cell_type": "code",
   "execution_count": 2,
   "id": "9437ab23",
   "metadata": {},
   "outputs": [
    {
     "data": {
      "text/plain": [
       "['anagrams',\n",
       " 'anscombe',\n",
       " 'attention',\n",
       " 'brain_networks',\n",
       " 'car_crashes',\n",
       " 'diamonds',\n",
       " 'dots',\n",
       " 'exercise',\n",
       " 'flights',\n",
       " 'fmri',\n",
       " 'gammas',\n",
       " 'geyser',\n",
       " 'iris',\n",
       " 'mpg',\n",
       " 'penguins',\n",
       " 'planets',\n",
       " 'taxis',\n",
       " 'tips',\n",
       " 'titanic']"
      ]
     },
     "execution_count": 2,
     "metadata": {},
     "output_type": "execute_result"
    }
   ],
   "source": [
    "sns.get_dataset_names()"
   ]
  },
  {
   "cell_type": "code",
   "execution_count": 3,
   "id": "5ef2a8f6",
   "metadata": {},
   "outputs": [
    {
     "data": {
      "text/html": [
       "<div>\n",
       "<style scoped>\n",
       "    .dataframe tbody tr th:only-of-type {\n",
       "        vertical-align: middle;\n",
       "    }\n",
       "\n",
       "    .dataframe tbody tr th {\n",
       "        vertical-align: top;\n",
       "    }\n",
       "\n",
       "    .dataframe thead th {\n",
       "        text-align: right;\n",
       "    }\n",
       "</style>\n",
       "<table border=\"1\" class=\"dataframe\">\n",
       "  <thead>\n",
       "    <tr style=\"text-align: right;\">\n",
       "      <th></th>\n",
       "      <th>total_bill</th>\n",
       "      <th>tip</th>\n",
       "      <th>sex</th>\n",
       "      <th>smoker</th>\n",
       "      <th>day</th>\n",
       "      <th>time</th>\n",
       "      <th>size</th>\n",
       "    </tr>\n",
       "  </thead>\n",
       "  <tbody>\n",
       "    <tr>\n",
       "      <th>0</th>\n",
       "      <td>16.99</td>\n",
       "      <td>1.01</td>\n",
       "      <td>Female</td>\n",
       "      <td>No</td>\n",
       "      <td>Sun</td>\n",
       "      <td>Dinner</td>\n",
       "      <td>2</td>\n",
       "    </tr>\n",
       "    <tr>\n",
       "      <th>1</th>\n",
       "      <td>10.34</td>\n",
       "      <td>1.66</td>\n",
       "      <td>Male</td>\n",
       "      <td>No</td>\n",
       "      <td>Sun</td>\n",
       "      <td>Dinner</td>\n",
       "      <td>3</td>\n",
       "    </tr>\n",
       "    <tr>\n",
       "      <th>2</th>\n",
       "      <td>21.01</td>\n",
       "      <td>3.50</td>\n",
       "      <td>Male</td>\n",
       "      <td>No</td>\n",
       "      <td>Sun</td>\n",
       "      <td>Dinner</td>\n",
       "      <td>3</td>\n",
       "    </tr>\n",
       "    <tr>\n",
       "      <th>3</th>\n",
       "      <td>23.68</td>\n",
       "      <td>3.31</td>\n",
       "      <td>Male</td>\n",
       "      <td>No</td>\n",
       "      <td>Sun</td>\n",
       "      <td>Dinner</td>\n",
       "      <td>2</td>\n",
       "    </tr>\n",
       "    <tr>\n",
       "      <th>4</th>\n",
       "      <td>24.59</td>\n",
       "      <td>3.61</td>\n",
       "      <td>Female</td>\n",
       "      <td>No</td>\n",
       "      <td>Sun</td>\n",
       "      <td>Dinner</td>\n",
       "      <td>4</td>\n",
       "    </tr>\n",
       "    <tr>\n",
       "      <th>...</th>\n",
       "      <td>...</td>\n",
       "      <td>...</td>\n",
       "      <td>...</td>\n",
       "      <td>...</td>\n",
       "      <td>...</td>\n",
       "      <td>...</td>\n",
       "      <td>...</td>\n",
       "    </tr>\n",
       "    <tr>\n",
       "      <th>239</th>\n",
       "      <td>29.03</td>\n",
       "      <td>5.92</td>\n",
       "      <td>Male</td>\n",
       "      <td>No</td>\n",
       "      <td>Sat</td>\n",
       "      <td>Dinner</td>\n",
       "      <td>3</td>\n",
       "    </tr>\n",
       "    <tr>\n",
       "      <th>240</th>\n",
       "      <td>27.18</td>\n",
       "      <td>2.00</td>\n",
       "      <td>Female</td>\n",
       "      <td>Yes</td>\n",
       "      <td>Sat</td>\n",
       "      <td>Dinner</td>\n",
       "      <td>2</td>\n",
       "    </tr>\n",
       "    <tr>\n",
       "      <th>241</th>\n",
       "      <td>22.67</td>\n",
       "      <td>2.00</td>\n",
       "      <td>Male</td>\n",
       "      <td>Yes</td>\n",
       "      <td>Sat</td>\n",
       "      <td>Dinner</td>\n",
       "      <td>2</td>\n",
       "    </tr>\n",
       "    <tr>\n",
       "      <th>242</th>\n",
       "      <td>17.82</td>\n",
       "      <td>1.75</td>\n",
       "      <td>Male</td>\n",
       "      <td>No</td>\n",
       "      <td>Sat</td>\n",
       "      <td>Dinner</td>\n",
       "      <td>2</td>\n",
       "    </tr>\n",
       "    <tr>\n",
       "      <th>243</th>\n",
       "      <td>18.78</td>\n",
       "      <td>3.00</td>\n",
       "      <td>Female</td>\n",
       "      <td>No</td>\n",
       "      <td>Thur</td>\n",
       "      <td>Dinner</td>\n",
       "      <td>2</td>\n",
       "    </tr>\n",
       "  </tbody>\n",
       "</table>\n",
       "<p>244 rows × 7 columns</p>\n",
       "</div>"
      ],
      "text/plain": [
       "     total_bill   tip     sex smoker   day    time  size\n",
       "0         16.99  1.01  Female     No   Sun  Dinner     2\n",
       "1         10.34  1.66    Male     No   Sun  Dinner     3\n",
       "2         21.01  3.50    Male     No   Sun  Dinner     3\n",
       "3         23.68  3.31    Male     No   Sun  Dinner     2\n",
       "4         24.59  3.61  Female     No   Sun  Dinner     4\n",
       "..          ...   ...     ...    ...   ...     ...   ...\n",
       "239       29.03  5.92    Male     No   Sat  Dinner     3\n",
       "240       27.18  2.00  Female    Yes   Sat  Dinner     2\n",
       "241       22.67  2.00    Male    Yes   Sat  Dinner     2\n",
       "242       17.82  1.75    Male     No   Sat  Dinner     2\n",
       "243       18.78  3.00  Female     No  Thur  Dinner     2\n",
       "\n",
       "[244 rows x 7 columns]"
      ]
     },
     "execution_count": 3,
     "metadata": {},
     "output_type": "execute_result"
    }
   ],
   "source": [
    "tips_data = sns.load_dataset('tips')\n",
    "tips_data"
   ]
  },
  {
   "cell_type": "markdown",
   "id": "e2277ffa",
   "metadata": {},
   "source": [
    "### Hypothesis Formulation:\n",
    "* H0: There is no association between Sex and Smoker.\n",
    "* Ha: There is a association between Sex and Smoker.\n",
    "##### Note: Check with level of significance = 5%"
   ]
  },
  {
   "cell_type": "code",
   "execution_count": 12,
   "id": "3493e358",
   "metadata": {},
   "outputs": [
    {
     "data": {
      "text/html": [
       "<div>\n",
       "<style scoped>\n",
       "    .dataframe tbody tr th:only-of-type {\n",
       "        vertical-align: middle;\n",
       "    }\n",
       "\n",
       "    .dataframe tbody tr th {\n",
       "        vertical-align: top;\n",
       "    }\n",
       "\n",
       "    .dataframe thead th {\n",
       "        text-align: right;\n",
       "    }\n",
       "</style>\n",
       "<table border=\"1\" class=\"dataframe\">\n",
       "  <thead>\n",
       "    <tr style=\"text-align: right;\">\n",
       "      <th>smoker</th>\n",
       "      <th>Yes</th>\n",
       "      <th>No</th>\n",
       "    </tr>\n",
       "    <tr>\n",
       "      <th>sex</th>\n",
       "      <th></th>\n",
       "      <th></th>\n",
       "    </tr>\n",
       "  </thead>\n",
       "  <tbody>\n",
       "    <tr>\n",
       "      <th>Male</th>\n",
       "      <td>60</td>\n",
       "      <td>97</td>\n",
       "    </tr>\n",
       "    <tr>\n",
       "      <th>Female</th>\n",
       "      <td>33</td>\n",
       "      <td>54</td>\n",
       "    </tr>\n",
       "  </tbody>\n",
       "</table>\n",
       "</div>"
      ],
      "text/plain": [
       "smoker  Yes  No\n",
       "sex            \n",
       "Male     60  97\n",
       "Female   33  54"
      ]
     },
     "execution_count": 12,
     "metadata": {},
     "output_type": "execute_result"
    }
   ],
   "source": [
    "import pandas as pd\n",
    "sex_vs_smoker = pd.crosstab(index =tips_data['sex'] ,columns= tips_data['smoker'])#,margins=True)\n",
    "\n",
    "sex_vs_smoker"
   ]
  },
  {
   "cell_type": "code",
   "execution_count": 6,
   "id": "d3cd4f72",
   "metadata": {},
   "outputs": [
    {
     "data": {
      "text/plain": [
       "(0.008763290531773594,\n",
       " 0.925417020494423,\n",
       " 1,\n",
       " array([[59.84016393, 97.15983607],\n",
       "        [33.15983607, 53.84016393]]))"
      ]
     },
     "execution_count": 6,
     "metadata": {},
     "output_type": "execute_result"
    }
   ],
   "source": [
    "stats.chi2_contingency(observed = sex_vs_smoker)"
   ]
  },
  {
   "cell_type": "code",
   "execution_count": 10,
   "id": "da6ff0b9",
   "metadata": {},
   "outputs": [
    {
     "name": "stdout",
     "output_type": "stream",
     "text": [
      "***************************************************\n",
      "CHI-SQAURE TEST RESULTS\n",
      "Chi2 Value        :  0.008763290531773594\n",
      "P-value           :  0.925417020494423\n",
      "Degree of Freedom :  1\n",
      "Expected Table    :\n",
      " [[59.84016393 97.15983607]\n",
      " [33.15983607 53.84016393]]\n",
      "***************************************************\n"
     ]
    }
   ],
   "source": [
    "from scipy import stats\n",
    "chi2_score,p_val,dof,expected = stats.chi2_contingency(observed = sex_vs_smoker)\n",
    "print('***************************************************')\n",
    "print('CHI-SQAURE TEST RESULTS')\n",
    "print('Chi2 Value        : ',chi2_score)\n",
    "print('P-value           : ',p_val)\n",
    "print('Degree of Freedom : ',dof)\n",
    "print('Expected Table    :\\n',expected)\n",
    "print('***************************************************')"
   ]
  },
  {
   "cell_type": "code",
   "execution_count": 33,
   "id": "db7fcc11",
   "metadata": {},
   "outputs": [
    {
     "name": "stdout",
     "output_type": "stream",
     "text": [
      "We do not reject the null hypothesis and we can that there is no significant association between male smokers abd female smokers.\n"
     ]
    }
   ],
   "source": [
    "if p_val<0.05:\n",
    "    print('We reject the null hypothesis and we can that there is a association between male smokers abd female smokers.')\n",
    "else:\n",
    "    print('We do not reject the null hypothesis and we can that there is no significant association between male smokers abd female smokers.')"
   ]
  },
  {
   "cell_type": "markdown",
   "id": "1f1888e0",
   "metadata": {},
   "source": [
    "## 2. T - test\n",
    "* 1 sample t test\n",
    "* 2 sample t test\n",
    "* Paired t test\n",
    "* 3 sample test - ANOVA### "
   ]
  },
  {
   "cell_type": "markdown",
   "id": "eeecf142",
   "metadata": {},
   "source": [
    "### 1 Sample T test"
   ]
  },
  {
   "cell_type": "code",
   "execution_count": 8,
   "id": "fe071906",
   "metadata": {},
   "outputs": [
    {
     "data": {
      "text/plain": [
       "25"
      ]
     },
     "execution_count": 8,
     "metadata": {},
     "output_type": "execute_result"
    }
   ],
   "source": [
    "ages = [20,25,30,35,20,19,20,25,27,28,40,35,40,20,23,26,27,28,29,30,31,33,36,21,22] #population\n",
    "len(ages)"
   ]
  },
  {
   "cell_type": "code",
   "execution_count": 9,
   "id": "5046db27",
   "metadata": {},
   "outputs": [
    {
     "data": {
      "text/plain": [
       "array([26, 29, 27, 20, 30])"
      ]
     },
     "execution_count": 9,
     "metadata": {},
     "output_type": "execute_result"
    }
   ],
   "source": [
    "import numpy as np\n",
    "sample_ages = np.random.choice(a = ages,size=5)\n",
    "sample_ages"
   ]
  },
  {
   "cell_type": "markdown",
   "id": "a5e1e323",
   "metadata": {},
   "source": [
    "### Hypothesis\n",
    "\n",
    "* H0: There is no significant difference in the average age of population and sample.\n",
    "* Ha: There is a significant difference in the average age of population and sample.\n",
    "##### Level of significance of 5%."
   ]
  },
  {
   "cell_type": "code",
   "execution_count": 10,
   "id": "36d32e1d",
   "metadata": {},
   "outputs": [
    {
     "data": {
      "text/plain": [
       "27.6"
      ]
     },
     "execution_count": 10,
     "metadata": {},
     "output_type": "execute_result"
    }
   ],
   "source": [
    "np.mean(ages)"
   ]
  },
  {
   "cell_type": "code",
   "execution_count": 11,
   "id": "3b7369e2",
   "metadata": {},
   "outputs": [
    {
     "data": {
      "text/plain": [
       "26.4"
      ]
     },
     "execution_count": 11,
     "metadata": {},
     "output_type": "execute_result"
    }
   ],
   "source": [
    "np.mean(sample_ages)"
   ]
  },
  {
   "cell_type": "code",
   "execution_count": null,
   "id": "18560d24",
   "metadata": {},
   "outputs": [],
   "source": [
    "stats.ttest_1samp(a = sample_ages,popmean= 27.6 )"
   ]
  },
  {
   "cell_type": "code",
   "execution_count": null,
   "id": "e75fcf16",
   "metadata": {},
   "outputs": [],
   "source": []
  },
  {
   "cell_type": "code",
   "execution_count": 12,
   "id": "61eae915",
   "metadata": {},
   "outputs": [
    {
     "data": {
      "text/plain": [
       "(-0.685994340570037, 0.5304116756741079)"
      ]
     },
     "execution_count": 12,
     "metadata": {},
     "output_type": "execute_result"
    }
   ],
   "source": [
    "from scipy import stats\n",
    "t_val,p_val = stats.ttest_1samp(a = sample_ages,popmean= 27.6 )\n",
    "t_val,p_val"
   ]
  },
  {
   "cell_type": "code",
   "execution_count": 13,
   "id": "d53af23e",
   "metadata": {},
   "outputs": [
    {
     "data": {
      "text/plain": [
       "0.2652058378370539"
      ]
     },
     "execution_count": 13,
     "metadata": {},
     "output_type": "execute_result"
    }
   ],
   "source": [
    "p_val = p_val/2\n",
    "p_val"
   ]
  },
  {
   "cell_type": "code",
   "execution_count": 14,
   "id": "830a6c6f",
   "metadata": {},
   "outputs": [
    {
     "name": "stdout",
     "output_type": "stream",
     "text": [
      "We do not reject the null hypothesis and we can that there is no significant difference  in the average age of population and sample..\n"
     ]
    }
   ],
   "source": [
    "if p_val<0.05:\n",
    "    print('We reject the null hypothesis and we can say that there is a significant difference in the average age of population and sample.')\n",
    "else:\n",
    "    print('We do not reject the null hypothesis and we can that there is no significant difference  in the average age of population and sample..')"
   ]
  },
  {
   "cell_type": "markdown",
   "id": "16d678ac",
   "metadata": {},
   "source": [
    "### 2 Sample T test"
   ]
  },
  {
   "cell_type": "code",
   "execution_count": 35,
   "id": "cd2f5359",
   "metadata": {},
   "outputs": [],
   "source": [
    "control_group   = [24,48,24,24,24,48] #CovidShield\n",
    "treatment_group = [0,0,0,0,0,0] #Cowaxin"
   ]
  },
  {
   "cell_type": "markdown",
   "id": "2232eed3",
   "metadata": {},
   "source": [
    "#### Hypothesis\n",
    "\n",
    "* H0: There is no significant differene in the average response time of the vaccination given for the control group and treatment group.\n",
    "* Ha: There is a significant differene in the average response time of the vaccination given.\n",
    "##### Level of significance = 1%."
   ]
  },
  {
   "cell_type": "code",
   "execution_count": null,
   "id": "86ec420e",
   "metadata": {},
   "outputs": [],
   "source": [
    "stats.ttest_ind()"
   ]
  },
  {
   "cell_type": "code",
   "execution_count": 41,
   "id": "4ffdff75",
   "metadata": {},
   "outputs": [
    {
     "data": {
      "text/plain": [
       "(6.324555320336758, 8.630216153154254e-05)"
      ]
     },
     "execution_count": 41,
     "metadata": {},
     "output_type": "execute_result"
    }
   ],
   "source": [
    "t_val,p_val = stats.ttest_ind(a = control_group, b = treatment_group)\n",
    "t_val,p_val"
   ]
  },
  {
   "cell_type": "code",
   "execution_count": 42,
   "id": "b3084a51",
   "metadata": {},
   "outputs": [
    {
     "data": {
      "text/plain": [
       "4.315108076577127e-05"
      ]
     },
     "execution_count": 42,
     "metadata": {},
     "output_type": "execute_result"
    }
   ],
   "source": [
    "p_val = p_val/2\n",
    "p_val"
   ]
  },
  {
   "cell_type": "code",
   "execution_count": 45,
   "id": "8c4ff24c",
   "metadata": {},
   "outputs": [
    {
     "name": "stdout",
     "output_type": "stream",
     "text": [
      "We reject the null hypothesis and we can say that there is a significant difference in the average response time of the control group and the treatment group.\n"
     ]
    }
   ],
   "source": [
    "if p_val<0.01:\n",
    "    print('We reject the null hypothesis and we can say that there is a significant difference in the average response time of the control group and the treatment group.')\n",
    "else:\n",
    "    print('We do not reject the null hypothesis and we can that there is no significant difference in the average response time of the control group and the treatment group.')"
   ]
  },
  {
   "cell_type": "markdown",
   "id": "59d0e21a",
   "metadata": {},
   "source": [
    "### Paied T test"
   ]
  },
  {
   "cell_type": "code",
   "execution_count": 48,
   "id": "6a6c00b4",
   "metadata": {},
   "outputs": [
    {
     "name": "stdout",
     "output_type": "stream",
     "text": [
      "Statistics is 5.07655590683381 \n",
      " pvalue is 0.0002722070875643695\n",
      "We reject null hypothesis saying that there is a significant difference between average weight before and after the Weight loss program\n"
     ]
    }
   ],
   "source": [
    "weight_preworkout  = [89,85,35,95,79,82,99,88,101,72,84,86,92]\n",
    "weight_postworkout = [55,62,65,56,42,46,68,52,70,60,55,51,69]\n",
    "\n",
    "statistics,pval = stats.ttest_rel(weight_preworkout,weight_postworkout)\n",
    "print(\"Statistics is {} \\n pvalue is {}\".format(statistics,pval))\n",
    "\n",
    "if pval < 0.05:\n",
    "    print(\"We reject null hypothesis saying that there is a significant difference between average weight before and after the Weight loss program\")\n",
    "else:\n",
    "    print(\"We do not reject null hypothesis saying that there is no significant difference between average weight before and after the Weight loss program\")\n"
   ]
  },
  {
   "cell_type": "markdown",
   "id": "8078f0b7",
   "metadata": {},
   "source": [
    "### ANOVA test"
   ]
  },
  {
   "cell_type": "code",
   "execution_count": null,
   "id": "189d0e05",
   "metadata": {},
   "outputs": [],
   "source": [
    "stats.f_oneway()"
   ]
  },
  {
   "cell_type": "code",
   "execution_count": null,
   "id": "60bf558b",
   "metadata": {},
   "outputs": [],
   "source": [
    "#Proportion Test"
   ]
  },
  {
   "cell_type": "markdown",
   "id": "68eea65a",
   "metadata": {},
   "source": [
    "# TASK\n",
    "\n",
    "## Formulate 2 hypothesis statement for each statistical tests along with scripts."
   ]
  }
 ],
 "metadata": {
  "kernelspec": {
   "display_name": "Python 3",
   "language": "python",
   "name": "python3"
  },
  "language_info": {
   "codemirror_mode": {
    "name": "ipython",
    "version": 3
   },
   "file_extension": ".py",
   "mimetype": "text/x-python",
   "name": "python",
   "nbconvert_exporter": "python",
   "pygments_lexer": "ipython3",
   "version": "3.8.8"
  }
 },
 "nbformat": 4,
 "nbformat_minor": 5
}
