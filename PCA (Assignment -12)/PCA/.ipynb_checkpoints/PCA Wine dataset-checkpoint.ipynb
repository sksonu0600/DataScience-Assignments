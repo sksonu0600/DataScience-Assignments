{
 "cells": [
  {
   "cell_type": "markdown",
   "id": "f6985a7e",
   "metadata": {},
   "source": [
    "# PCA Wine Dataset "
   ]
  },
  {
   "cell_type": "markdown",
   "id": "3a30c336",
   "metadata": {},
   "source": [
    "## Problem Statement -   "
   ]
  },
  {
   "cell_type": "markdown",
   "id": "3344a649",
   "metadata": {},
   "source": [
    "### Perform Principal component analysis and perform clustering using first  3 principal component scores (both heirarchial and k mean clustering(scree plot or elbow curve) and obtain optimum number of clusters and check whether we have obtained same number of clusters with the original data (class column we have ignored at the begining who shows it has 3 clusters)df\n",
    " "
   ]
  },
  {
   "cell_type": "markdown",
   "id": "23749292",
   "metadata": {},
   "source": [
    "## ======================================================================== "
   ]
  },
  {
   "cell_type": "markdown",
   "id": "8214b841",
   "metadata": {},
   "source": [
    "# 1. Import Necessery Libraries -  "
   ]
  },
  {
   "cell_type": "code",
   "execution_count": 1,
   "id": "12f978b6",
   "metadata": {},
   "outputs": [],
   "source": [
    "import numpy as np\n",
    "import pandas as pd\n",
    "import matplotlib.pyplot as plt\n",
    "import seaborn as sns\n",
    "from sklearn.decomposition import PCA\n",
    "from sklearn.preprocessing import MinMaxScaler\n",
    "import scipy.cluster.hierarchy as sch\n",
    "from sklearn.cluster import AgglomerativeClustering, KMeans"
   ]
  },
  {
   "cell_type": "markdown",
   "id": "12bc6b83",
   "metadata": {},
   "source": [
    "# 2. Import Warnings -  "
   ]
  },
  {
   "cell_type": "code",
   "execution_count": 2,
   "id": "41d7d53b",
   "metadata": {},
   "outputs": [],
   "source": [
    "import warnings\n",
    "warnings.filterwarnings('ignore')"
   ]
  },
  {
   "cell_type": "markdown",
   "id": "13132aa4",
   "metadata": {},
   "source": [
    "# 3. Import Data Set -  "
   ]
  },
  {
   "cell_type": "code",
   "execution_count": 5,
   "id": "96d744b5",
   "metadata": {},
   "outputs": [
    {
     "data": {
      "text/html": [
       "<div>\n",
       "<style scoped>\n",
       "    .dataframe tbody tr th:only-of-type {\n",
       "        vertical-align: middle;\n",
       "    }\n",
       "\n",
       "    .dataframe tbody tr th {\n",
       "        vertical-align: top;\n",
       "    }\n",
       "\n",
       "    .dataframe thead th {\n",
       "        text-align: right;\n",
       "    }\n",
       "</style>\n",
       "<table border=\"1\" class=\"dataframe\">\n",
       "  <thead>\n",
       "    <tr style=\"text-align: right;\">\n",
       "      <th></th>\n",
       "      <th>Type</th>\n",
       "      <th>Alcohol</th>\n",
       "      <th>Malic</th>\n",
       "      <th>Ash</th>\n",
       "      <th>Alcalinity</th>\n",
       "      <th>Magnesium</th>\n",
       "      <th>Phenols</th>\n",
       "      <th>Flavanoids</th>\n",
       "      <th>Nonflavanoids</th>\n",
       "      <th>Proanthocyanins</th>\n",
       "      <th>Color</th>\n",
       "      <th>Hue</th>\n",
       "      <th>Dilution</th>\n",
       "      <th>Proline</th>\n",
       "    </tr>\n",
       "  </thead>\n",
       "  <tbody>\n",
       "    <tr>\n",
       "      <th>0</th>\n",
       "      <td>1</td>\n",
       "      <td>14.23</td>\n",
       "      <td>1.71</td>\n",
       "      <td>2.43</td>\n",
       "      <td>15.6</td>\n",
       "      <td>127</td>\n",
       "      <td>2.80</td>\n",
       "      <td>3.06</td>\n",
       "      <td>0.28</td>\n",
       "      <td>2.29</td>\n",
       "      <td>5.64</td>\n",
       "      <td>1.04</td>\n",
       "      <td>3.92</td>\n",
       "      <td>1065</td>\n",
       "    </tr>\n",
       "    <tr>\n",
       "      <th>1</th>\n",
       "      <td>1</td>\n",
       "      <td>13.20</td>\n",
       "      <td>1.78</td>\n",
       "      <td>2.14</td>\n",
       "      <td>11.2</td>\n",
       "      <td>100</td>\n",
       "      <td>2.65</td>\n",
       "      <td>2.76</td>\n",
       "      <td>0.26</td>\n",
       "      <td>1.28</td>\n",
       "      <td>4.38</td>\n",
       "      <td>1.05</td>\n",
       "      <td>3.40</td>\n",
       "      <td>1050</td>\n",
       "    </tr>\n",
       "    <tr>\n",
       "      <th>2</th>\n",
       "      <td>1</td>\n",
       "      <td>13.16</td>\n",
       "      <td>2.36</td>\n",
       "      <td>2.67</td>\n",
       "      <td>18.6</td>\n",
       "      <td>101</td>\n",
       "      <td>2.80</td>\n",
       "      <td>3.24</td>\n",
       "      <td>0.30</td>\n",
       "      <td>2.81</td>\n",
       "      <td>5.68</td>\n",
       "      <td>1.03</td>\n",
       "      <td>3.17</td>\n",
       "      <td>1185</td>\n",
       "    </tr>\n",
       "    <tr>\n",
       "      <th>3</th>\n",
       "      <td>1</td>\n",
       "      <td>14.37</td>\n",
       "      <td>1.95</td>\n",
       "      <td>2.50</td>\n",
       "      <td>16.8</td>\n",
       "      <td>113</td>\n",
       "      <td>3.85</td>\n",
       "      <td>3.49</td>\n",
       "      <td>0.24</td>\n",
       "      <td>2.18</td>\n",
       "      <td>7.80</td>\n",
       "      <td>0.86</td>\n",
       "      <td>3.45</td>\n",
       "      <td>1480</td>\n",
       "    </tr>\n",
       "    <tr>\n",
       "      <th>4</th>\n",
       "      <td>1</td>\n",
       "      <td>13.24</td>\n",
       "      <td>2.59</td>\n",
       "      <td>2.87</td>\n",
       "      <td>21.0</td>\n",
       "      <td>118</td>\n",
       "      <td>2.80</td>\n",
       "      <td>2.69</td>\n",
       "      <td>0.39</td>\n",
       "      <td>1.82</td>\n",
       "      <td>4.32</td>\n",
       "      <td>1.04</td>\n",
       "      <td>2.93</td>\n",
       "      <td>735</td>\n",
       "    </tr>\n",
       "    <tr>\n",
       "      <th>...</th>\n",
       "      <td>...</td>\n",
       "      <td>...</td>\n",
       "      <td>...</td>\n",
       "      <td>...</td>\n",
       "      <td>...</td>\n",
       "      <td>...</td>\n",
       "      <td>...</td>\n",
       "      <td>...</td>\n",
       "      <td>...</td>\n",
       "      <td>...</td>\n",
       "      <td>...</td>\n",
       "      <td>...</td>\n",
       "      <td>...</td>\n",
       "      <td>...</td>\n",
       "    </tr>\n",
       "    <tr>\n",
       "      <th>173</th>\n",
       "      <td>3</td>\n",
       "      <td>13.71</td>\n",
       "      <td>5.65</td>\n",
       "      <td>2.45</td>\n",
       "      <td>20.5</td>\n",
       "      <td>95</td>\n",
       "      <td>1.68</td>\n",
       "      <td>0.61</td>\n",
       "      <td>0.52</td>\n",
       "      <td>1.06</td>\n",
       "      <td>7.70</td>\n",
       "      <td>0.64</td>\n",
       "      <td>1.74</td>\n",
       "      <td>740</td>\n",
       "    </tr>\n",
       "    <tr>\n",
       "      <th>174</th>\n",
       "      <td>3</td>\n",
       "      <td>13.40</td>\n",
       "      <td>3.91</td>\n",
       "      <td>2.48</td>\n",
       "      <td>23.0</td>\n",
       "      <td>102</td>\n",
       "      <td>1.80</td>\n",
       "      <td>0.75</td>\n",
       "      <td>0.43</td>\n",
       "      <td>1.41</td>\n",
       "      <td>7.30</td>\n",
       "      <td>0.70</td>\n",
       "      <td>1.56</td>\n",
       "      <td>750</td>\n",
       "    </tr>\n",
       "    <tr>\n",
       "      <th>175</th>\n",
       "      <td>3</td>\n",
       "      <td>13.27</td>\n",
       "      <td>4.28</td>\n",
       "      <td>2.26</td>\n",
       "      <td>20.0</td>\n",
       "      <td>120</td>\n",
       "      <td>1.59</td>\n",
       "      <td>0.69</td>\n",
       "      <td>0.43</td>\n",
       "      <td>1.35</td>\n",
       "      <td>10.20</td>\n",
       "      <td>0.59</td>\n",
       "      <td>1.56</td>\n",
       "      <td>835</td>\n",
       "    </tr>\n",
       "    <tr>\n",
       "      <th>176</th>\n",
       "      <td>3</td>\n",
       "      <td>13.17</td>\n",
       "      <td>2.59</td>\n",
       "      <td>2.37</td>\n",
       "      <td>20.0</td>\n",
       "      <td>120</td>\n",
       "      <td>1.65</td>\n",
       "      <td>0.68</td>\n",
       "      <td>0.53</td>\n",
       "      <td>1.46</td>\n",
       "      <td>9.30</td>\n",
       "      <td>0.60</td>\n",
       "      <td>1.62</td>\n",
       "      <td>840</td>\n",
       "    </tr>\n",
       "    <tr>\n",
       "      <th>177</th>\n",
       "      <td>3</td>\n",
       "      <td>14.13</td>\n",
       "      <td>4.10</td>\n",
       "      <td>2.74</td>\n",
       "      <td>24.5</td>\n",
       "      <td>96</td>\n",
       "      <td>2.05</td>\n",
       "      <td>0.76</td>\n",
       "      <td>0.56</td>\n",
       "      <td>1.35</td>\n",
       "      <td>9.20</td>\n",
       "      <td>0.61</td>\n",
       "      <td>1.60</td>\n",
       "      <td>560</td>\n",
       "    </tr>\n",
       "  </tbody>\n",
       "</table>\n",
       "<p>178 rows × 14 columns</p>\n",
       "</div>"
      ],
      "text/plain": [
       "     Type  Alcohol  Malic   Ash  Alcalinity  Magnesium  Phenols  Flavanoids  \\\n",
       "0       1    14.23   1.71  2.43        15.6        127     2.80        3.06   \n",
       "1       1    13.20   1.78  2.14        11.2        100     2.65        2.76   \n",
       "2       1    13.16   2.36  2.67        18.6        101     2.80        3.24   \n",
       "3       1    14.37   1.95  2.50        16.8        113     3.85        3.49   \n",
       "4       1    13.24   2.59  2.87        21.0        118     2.80        2.69   \n",
       "..    ...      ...    ...   ...         ...        ...      ...         ...   \n",
       "173     3    13.71   5.65  2.45        20.5         95     1.68        0.61   \n",
       "174     3    13.40   3.91  2.48        23.0        102     1.80        0.75   \n",
       "175     3    13.27   4.28  2.26        20.0        120     1.59        0.69   \n",
       "176     3    13.17   2.59  2.37        20.0        120     1.65        0.68   \n",
       "177     3    14.13   4.10  2.74        24.5         96     2.05        0.76   \n",
       "\n",
       "     Nonflavanoids  Proanthocyanins  Color   Hue  Dilution  Proline  \n",
       "0             0.28             2.29   5.64  1.04      3.92     1065  \n",
       "1             0.26             1.28   4.38  1.05      3.40     1050  \n",
       "2             0.30             2.81   5.68  1.03      3.17     1185  \n",
       "3             0.24             2.18   7.80  0.86      3.45     1480  \n",
       "4             0.39             1.82   4.32  1.04      2.93      735  \n",
       "..             ...              ...    ...   ...       ...      ...  \n",
       "173           0.52             1.06   7.70  0.64      1.74      740  \n",
       "174           0.43             1.41   7.30  0.70      1.56      750  \n",
       "175           0.43             1.35  10.20  0.59      1.56      835  \n",
       "176           0.53             1.46   9.30  0.60      1.62      840  \n",
       "177           0.56             1.35   9.20  0.61      1.60      560  \n",
       "\n",
       "[178 rows x 14 columns]"
      ]
     },
     "execution_count": 5,
     "metadata": {},
     "output_type": "execute_result"
    }
   ],
   "source": [
    "wine_data = pd.read_csv(\"wine.csv\")\n",
    "wine_data"
   ]
  },
  {
   "cell_type": "markdown",
   "id": "bcb60bc3",
   "metadata": {},
   "source": [
    "# 4. EDA -  "
   ]
  },
  {
   "cell_type": "code",
   "execution_count": 7,
   "id": "5ae68292",
   "metadata": {},
   "outputs": [
    {
     "data": {
      "text/plain": [
       "(178, 14)"
      ]
     },
     "execution_count": 7,
     "metadata": {},
     "output_type": "execute_result"
    }
   ],
   "source": [
    "wine_data.shape"
   ]
  },
  {
   "cell_type": "code",
   "execution_count": 8,
   "id": "8c16f299",
   "metadata": {},
   "outputs": [
    {
     "data": {
      "text/plain": [
       "Type               0\n",
       "Alcohol            0\n",
       "Malic              0\n",
       "Ash                0\n",
       "Alcalinity         0\n",
       "Magnesium          0\n",
       "Phenols            0\n",
       "Flavanoids         0\n",
       "Nonflavanoids      0\n",
       "Proanthocyanins    0\n",
       "Color              0\n",
       "Hue                0\n",
       "Dilution           0\n",
       "Proline            0\n",
       "dtype: int64"
      ]
     },
     "execution_count": 8,
     "metadata": {},
     "output_type": "execute_result"
    }
   ],
   "source": [
    "wine_data.isna().sum()"
   ]
  },
  {
   "cell_type": "code",
   "execution_count": 9,
   "id": "e9e7de78",
   "metadata": {},
   "outputs": [
    {
     "data": {
      "text/plain": [
       "Type                 int64\n",
       "Alcohol            float64\n",
       "Malic              float64\n",
       "Ash                float64\n",
       "Alcalinity         float64\n",
       "Magnesium            int64\n",
       "Phenols            float64\n",
       "Flavanoids         float64\n",
       "Nonflavanoids      float64\n",
       "Proanthocyanins    float64\n",
       "Color              float64\n",
       "Hue                float64\n",
       "Dilution           float64\n",
       "Proline              int64\n",
       "dtype: object"
      ]
     },
     "execution_count": 9,
     "metadata": {},
     "output_type": "execute_result"
    }
   ],
   "source": [
    "wine_data.dtypes"
   ]
  },
  {
   "cell_type": "code",
   "execution_count": 10,
   "id": "05ec6fcc",
   "metadata": {},
   "outputs": [
    {
     "name": "stdout",
     "output_type": "stream",
     "text": [
      "<class 'pandas.core.frame.DataFrame'>\n",
      "RangeIndex: 178 entries, 0 to 177\n",
      "Data columns (total 14 columns):\n",
      " #   Column           Non-Null Count  Dtype  \n",
      "---  ------           --------------  -----  \n",
      " 0   Type             178 non-null    int64  \n",
      " 1   Alcohol          178 non-null    float64\n",
      " 2   Malic            178 non-null    float64\n",
      " 3   Ash              178 non-null    float64\n",
      " 4   Alcalinity       178 non-null    float64\n",
      " 5   Magnesium        178 non-null    int64  \n",
      " 6   Phenols          178 non-null    float64\n",
      " 7   Flavanoids       178 non-null    float64\n",
      " 8   Nonflavanoids    178 non-null    float64\n",
      " 9   Proanthocyanins  178 non-null    float64\n",
      " 10  Color            178 non-null    float64\n",
      " 11  Hue              178 non-null    float64\n",
      " 12  Dilution         178 non-null    float64\n",
      " 13  Proline          178 non-null    int64  \n",
      "dtypes: float64(11), int64(3)\n",
      "memory usage: 19.6 KB\n"
     ]
    }
   ],
   "source": [
    "wine_data.info()"
   ]
  },
  {
   "cell_type": "code",
   "execution_count": 13,
   "id": "d3193ba2",
   "metadata": {},
   "outputs": [
    {
     "data": {
      "text/plain": [
       "Type                 3\n",
       "Alcohol            126\n",
       "Malic              133\n",
       "Ash                 79\n",
       "Alcalinity          63\n",
       "Magnesium           53\n",
       "Phenols             97\n",
       "Flavanoids         132\n",
       "Nonflavanoids       39\n",
       "Proanthocyanins    101\n",
       "Color              132\n",
       "Hue                 78\n",
       "Dilution           122\n",
       "Proline            121\n",
       "dtype: int64"
      ]
     },
     "execution_count": 13,
     "metadata": {},
     "output_type": "execute_result"
    }
   ],
   "source": [
    "wine_data.nunique()"
   ]
  },
  {
   "cell_type": "code",
   "execution_count": 14,
   "id": "1ee0920d",
   "metadata": {},
   "outputs": [
    {
     "data": {
      "text/plain": [
       "0"
      ]
     },
     "execution_count": 14,
     "metadata": {},
     "output_type": "execute_result"
    }
   ],
   "source": [
    "wine_data.duplicated().sum()"
   ]
  },
  {
   "cell_type": "code",
   "execution_count": 16,
   "id": "79f28642",
   "metadata": {},
   "outputs": [
    {
     "data": {
      "text/html": [
       "<div>\n",
       "<style scoped>\n",
       "    .dataframe tbody tr th:only-of-type {\n",
       "        vertical-align: middle;\n",
       "    }\n",
       "\n",
       "    .dataframe tbody tr th {\n",
       "        vertical-align: top;\n",
       "    }\n",
       "\n",
       "    .dataframe thead th {\n",
       "        text-align: right;\n",
       "    }\n",
       "</style>\n",
       "<table border=\"1\" class=\"dataframe\">\n",
       "  <thead>\n",
       "    <tr style=\"text-align: right;\">\n",
       "      <th></th>\n",
       "      <th>Type</th>\n",
       "      <th>Alcohol</th>\n",
       "      <th>Malic</th>\n",
       "      <th>Ash</th>\n",
       "      <th>Alcalinity</th>\n",
       "      <th>Magnesium</th>\n",
       "      <th>Phenols</th>\n",
       "      <th>Flavanoids</th>\n",
       "      <th>Nonflavanoids</th>\n",
       "      <th>Proanthocyanins</th>\n",
       "      <th>Color</th>\n",
       "      <th>Hue</th>\n",
       "      <th>Dilution</th>\n",
       "      <th>Proline</th>\n",
       "    </tr>\n",
       "  </thead>\n",
       "  <tbody>\n",
       "    <tr>\n",
       "      <th>count</th>\n",
       "      <td>178.000000</td>\n",
       "      <td>178.000000</td>\n",
       "      <td>178.000000</td>\n",
       "      <td>178.000000</td>\n",
       "      <td>178.000000</td>\n",
       "      <td>178.000000</td>\n",
       "      <td>178.000000</td>\n",
       "      <td>178.000000</td>\n",
       "      <td>178.000000</td>\n",
       "      <td>178.000000</td>\n",
       "      <td>178.000000</td>\n",
       "      <td>178.000000</td>\n",
       "      <td>178.000000</td>\n",
       "      <td>178.000000</td>\n",
       "    </tr>\n",
       "    <tr>\n",
       "      <th>mean</th>\n",
       "      <td>1.938202</td>\n",
       "      <td>13.000618</td>\n",
       "      <td>2.336348</td>\n",
       "      <td>2.366517</td>\n",
       "      <td>19.494944</td>\n",
       "      <td>99.741573</td>\n",
       "      <td>2.295112</td>\n",
       "      <td>2.029270</td>\n",
       "      <td>0.361854</td>\n",
       "      <td>1.590899</td>\n",
       "      <td>5.058090</td>\n",
       "      <td>0.957449</td>\n",
       "      <td>2.611685</td>\n",
       "      <td>746.893258</td>\n",
       "    </tr>\n",
       "    <tr>\n",
       "      <th>std</th>\n",
       "      <td>0.775035</td>\n",
       "      <td>0.811827</td>\n",
       "      <td>1.117146</td>\n",
       "      <td>0.274344</td>\n",
       "      <td>3.339564</td>\n",
       "      <td>14.282484</td>\n",
       "      <td>0.625851</td>\n",
       "      <td>0.998859</td>\n",
       "      <td>0.124453</td>\n",
       "      <td>0.572359</td>\n",
       "      <td>2.318286</td>\n",
       "      <td>0.228572</td>\n",
       "      <td>0.709990</td>\n",
       "      <td>314.907474</td>\n",
       "    </tr>\n",
       "    <tr>\n",
       "      <th>min</th>\n",
       "      <td>1.000000</td>\n",
       "      <td>11.030000</td>\n",
       "      <td>0.740000</td>\n",
       "      <td>1.360000</td>\n",
       "      <td>10.600000</td>\n",
       "      <td>70.000000</td>\n",
       "      <td>0.980000</td>\n",
       "      <td>0.340000</td>\n",
       "      <td>0.130000</td>\n",
       "      <td>0.410000</td>\n",
       "      <td>1.280000</td>\n",
       "      <td>0.480000</td>\n",
       "      <td>1.270000</td>\n",
       "      <td>278.000000</td>\n",
       "    </tr>\n",
       "    <tr>\n",
       "      <th>25%</th>\n",
       "      <td>1.000000</td>\n",
       "      <td>12.362500</td>\n",
       "      <td>1.602500</td>\n",
       "      <td>2.210000</td>\n",
       "      <td>17.200000</td>\n",
       "      <td>88.000000</td>\n",
       "      <td>1.742500</td>\n",
       "      <td>1.205000</td>\n",
       "      <td>0.270000</td>\n",
       "      <td>1.250000</td>\n",
       "      <td>3.220000</td>\n",
       "      <td>0.782500</td>\n",
       "      <td>1.937500</td>\n",
       "      <td>500.500000</td>\n",
       "    </tr>\n",
       "    <tr>\n",
       "      <th>50%</th>\n",
       "      <td>2.000000</td>\n",
       "      <td>13.050000</td>\n",
       "      <td>1.865000</td>\n",
       "      <td>2.360000</td>\n",
       "      <td>19.500000</td>\n",
       "      <td>98.000000</td>\n",
       "      <td>2.355000</td>\n",
       "      <td>2.135000</td>\n",
       "      <td>0.340000</td>\n",
       "      <td>1.555000</td>\n",
       "      <td>4.690000</td>\n",
       "      <td>0.965000</td>\n",
       "      <td>2.780000</td>\n",
       "      <td>673.500000</td>\n",
       "    </tr>\n",
       "    <tr>\n",
       "      <th>75%</th>\n",
       "      <td>3.000000</td>\n",
       "      <td>13.677500</td>\n",
       "      <td>3.082500</td>\n",
       "      <td>2.557500</td>\n",
       "      <td>21.500000</td>\n",
       "      <td>107.000000</td>\n",
       "      <td>2.800000</td>\n",
       "      <td>2.875000</td>\n",
       "      <td>0.437500</td>\n",
       "      <td>1.950000</td>\n",
       "      <td>6.200000</td>\n",
       "      <td>1.120000</td>\n",
       "      <td>3.170000</td>\n",
       "      <td>985.000000</td>\n",
       "    </tr>\n",
       "    <tr>\n",
       "      <th>max</th>\n",
       "      <td>3.000000</td>\n",
       "      <td>14.830000</td>\n",
       "      <td>5.800000</td>\n",
       "      <td>3.230000</td>\n",
       "      <td>30.000000</td>\n",
       "      <td>162.000000</td>\n",
       "      <td>3.880000</td>\n",
       "      <td>5.080000</td>\n",
       "      <td>0.660000</td>\n",
       "      <td>3.580000</td>\n",
       "      <td>13.000000</td>\n",
       "      <td>1.710000</td>\n",
       "      <td>4.000000</td>\n",
       "      <td>1680.000000</td>\n",
       "    </tr>\n",
       "  </tbody>\n",
       "</table>\n",
       "</div>"
      ],
      "text/plain": [
       "             Type     Alcohol       Malic         Ash  Alcalinity   Magnesium  \\\n",
       "count  178.000000  178.000000  178.000000  178.000000  178.000000  178.000000   \n",
       "mean     1.938202   13.000618    2.336348    2.366517   19.494944   99.741573   \n",
       "std      0.775035    0.811827    1.117146    0.274344    3.339564   14.282484   \n",
       "min      1.000000   11.030000    0.740000    1.360000   10.600000   70.000000   \n",
       "25%      1.000000   12.362500    1.602500    2.210000   17.200000   88.000000   \n",
       "50%      2.000000   13.050000    1.865000    2.360000   19.500000   98.000000   \n",
       "75%      3.000000   13.677500    3.082500    2.557500   21.500000  107.000000   \n",
       "max      3.000000   14.830000    5.800000    3.230000   30.000000  162.000000   \n",
       "\n",
       "          Phenols  Flavanoids  Nonflavanoids  Proanthocyanins       Color  \\\n",
       "count  178.000000  178.000000     178.000000       178.000000  178.000000   \n",
       "mean     2.295112    2.029270       0.361854         1.590899    5.058090   \n",
       "std      0.625851    0.998859       0.124453         0.572359    2.318286   \n",
       "min      0.980000    0.340000       0.130000         0.410000    1.280000   \n",
       "25%      1.742500    1.205000       0.270000         1.250000    3.220000   \n",
       "50%      2.355000    2.135000       0.340000         1.555000    4.690000   \n",
       "75%      2.800000    2.875000       0.437500         1.950000    6.200000   \n",
       "max      3.880000    5.080000       0.660000         3.580000   13.000000   \n",
       "\n",
       "              Hue    Dilution      Proline  \n",
       "count  178.000000  178.000000   178.000000  \n",
       "mean     0.957449    2.611685   746.893258  \n",
       "std      0.228572    0.709990   314.907474  \n",
       "min      0.480000    1.270000   278.000000  \n",
       "25%      0.782500    1.937500   500.500000  \n",
       "50%      0.965000    2.780000   673.500000  \n",
       "75%      1.120000    3.170000   985.000000  \n",
       "max      1.710000    4.000000  1680.000000  "
      ]
     },
     "execution_count": 16,
     "metadata": {},
     "output_type": "execute_result"
    }
   ],
   "source": [
    "wine_data.describe()"
   ]
  },
  {
   "cell_type": "markdown",
   "id": "2053b543",
   "metadata": {},
   "source": [
    "# 5. Data Visualization -  "
   ]
  },
  {
   "cell_type": "code",
   "execution_count": 21,
   "id": "58ffb720",
   "metadata": {},
   "outputs": [],
   "source": [
    "corr_matrix = wine_data.corr()"
   ]
  },
  {
   "cell_type": "code",
   "execution_count": 22,
   "id": "37543282",
   "metadata": {},
   "outputs": [
    {
     "data": {
      "text/plain": [
       "<AxesSubplot:>"
      ]
     },
     "execution_count": 22,
     "metadata": {},
     "output_type": "execute_result"
    },
    {
     "data": {
      "image/png": "[encoded data removed]",
      "text/plain": [
       "<Figure size 576x360 with 2 Axes>"
      ]
     },
     "metadata": {
      "needs_background": "light"
     },
     "output_type": "display_data"
    }
   ],
   "source": [
    "plt.figure(figsize=(8,5))\n",
    "sns.heatmap(wine_data.corr(),annot=True)"
   ]
  },
  {
   "cell_type": "code",
   "execution_count": 23,
   "id": "ab97f99a",
   "metadata": {},
   "outputs": [
    {
     "data": {
      "text/plain": [
       "Type               1.000000\n",
       "Alcalinity         0.517859\n",
       "Nonflavanoids      0.489109\n",
       "Malic              0.437776\n",
       "Color              0.265668\n",
       "Ash               -0.049643\n",
       "Magnesium         -0.209179\n",
       "Alcohol           -0.328222\n",
       "Proanthocyanins   -0.499130\n",
       "Hue               -0.617369\n",
       "Proline           -0.633717\n",
       "Phenols           -0.719163\n",
       "Dilution          -0.788230\n",
       "Flavanoids        -0.847498\n",
       "Name: Type, dtype: float64"
      ]
     },
     "execution_count": 23,
     "metadata": {},
     "output_type": "execute_result"
    }
   ],
   "source": [
    "corr_matrix['Type'].sort_values(ascending=False)"
   ]
  },
  {
   "cell_type": "markdown",
   "id": "87915acf",
   "metadata": {},
   "source": [
    "### By seeing the corelation matrix , we observe that Alcalinity  ,Nonflavanoids and Malic have high correlation with label data (type of wine ) and Phenols -0.719163,Dilution          -0.788230,Flavanoids        -0.847498 has high non -relation"
   ]
  },
  {
   "cell_type": "code",
   "execution_count": 24,
   "id": "64e46ed5",
   "metadata": {},
   "outputs": [
    {
     "data": {
      "image/png": "[encoded data removed]",
      "text/plain": [
       "<Figure size 1440x432 with 14 Axes>"
      ]
     },
     "metadata": {
      "needs_background": "light"
     },
     "output_type": "display_data"
    }
   ],
   "source": [
    "#Most of  observed outliers is present. Eliminate the outliers for better accuracy or prediction of model\n",
    "wine_data.plot(kind='box', subplots=True, figsize=(20,6))\n",
    "plt.tight_layout()"
   ]
  },
  {
   "cell_type": "code",
   "execution_count": 27,
   "id": "2653aabe",
   "metadata": {},
   "outputs": [],
   "source": [
    "#Remove outlier\n",
    "wine_data.drop(wine_data.index[wine_data['Malic']>5.2], inplace=True)\n",
    "wine_data.drop(wine_data.index[wine_data['Ash']>3], inplace=True)\n",
    "wine_data.drop(wine_data.index[wine_data['Ash']<1.8], inplace=True)\n",
    "wine_data.drop(wine_data.index[wine_data['Alcalinity']>25], inplace=True)\n",
    "wine_data.drop(wine_data.index[wine_data['Alcalinity']<11], inplace=True)\n",
    "wine_data.drop(wine_data.index[wine_data['Magnesium']>132], inplace=True)\n",
    "wine_data.drop(wine_data.index[wine_data['Proanthocyanins']>2.5], inplace=True)\n",
    "wine_data.drop(wine_data.index[wine_data['Color']>10.5], inplace=True)\n",
    "wine_data.drop(wine_data.index[wine_data['Hue']>1.6], inplace=True)"
   ]
  },
  {
   "cell_type": "code",
   "execution_count": 28,
   "id": "0e02d4e1",
   "metadata": {},
   "outputs": [
    {
     "data": {
      "image/png": "[encoded data removed]",
      "text/plain": [
       "<Figure size 1440x432 with 14 Axes>"
      ]
     },
     "metadata": {
      "needs_background": "light"
     },
     "output_type": "display_data"
    }
   ],
   "source": [
    "wine_data.plot(kind='box', subplots=True, figsize=(20,6))\n",
    "plt.tight_layout()# no outlier in data "
   ]
  },
  {
   "cell_type": "markdown",
   "id": "90572f4d",
   "metadata": {},
   "source": [
    "# 6. Data Preparation -  "
   ]
  },
  {
   "cell_type": "code",
   "execution_count": 51,
   "id": "f55c6692",
   "metadata": {},
   "outputs": [
    {
     "data": {
      "text/html": [
       "<div>\n",
       "<style scoped>\n",
       "    .dataframe tbody tr th:only-of-type {\n",
       "        vertical-align: middle;\n",
       "    }\n",
       "\n",
       "    .dataframe tbody tr th {\n",
       "        vertical-align: top;\n",
       "    }\n",
       "\n",
       "    .dataframe thead th {\n",
       "        text-align: right;\n",
       "    }\n",
       "</style>\n",
       "<table border=\"1\" class=\"dataframe\">\n",
       "  <thead>\n",
       "    <tr style=\"text-align: right;\">\n",
       "      <th></th>\n",
       "      <th>Malic</th>\n",
       "      <th>Ash</th>\n",
       "      <th>Alcalinity</th>\n",
       "      <th>Magnesium</th>\n",
       "      <th>Phenols</th>\n",
       "      <th>Flavanoids</th>\n",
       "      <th>Nonflavanoids</th>\n",
       "      <th>Proanthocyanins</th>\n",
       "      <th>Color</th>\n",
       "      <th>Hue</th>\n",
       "      <th>Dilution</th>\n",
       "      <th>Proline</th>\n",
       "    </tr>\n",
       "  </thead>\n",
       "  <tbody>\n",
       "    <tr>\n",
       "      <th>0</th>\n",
       "      <td>1.71</td>\n",
       "      <td>2.43</td>\n",
       "      <td>15.6</td>\n",
       "      <td>127</td>\n",
       "      <td>2.80</td>\n",
       "      <td>3.06</td>\n",
       "      <td>0.28</td>\n",
       "      <td>2.29</td>\n",
       "      <td>5.64</td>\n",
       "      <td>1.04</td>\n",
       "      <td>3.92</td>\n",
       "      <td>1065</td>\n",
       "    </tr>\n",
       "    <tr>\n",
       "      <th>1</th>\n",
       "      <td>1.78</td>\n",
       "      <td>2.14</td>\n",
       "      <td>11.2</td>\n",
       "      <td>100</td>\n",
       "      <td>2.65</td>\n",
       "      <td>2.76</td>\n",
       "      <td>0.26</td>\n",
       "      <td>1.28</td>\n",
       "      <td>4.38</td>\n",
       "      <td>1.05</td>\n",
       "      <td>3.40</td>\n",
       "      <td>1050</td>\n",
       "    </tr>\n",
       "    <tr>\n",
       "      <th>3</th>\n",
       "      <td>1.95</td>\n",
       "      <td>2.50</td>\n",
       "      <td>16.8</td>\n",
       "      <td>113</td>\n",
       "      <td>3.85</td>\n",
       "      <td>3.49</td>\n",
       "      <td>0.24</td>\n",
       "      <td>2.18</td>\n",
       "      <td>7.80</td>\n",
       "      <td>0.86</td>\n",
       "      <td>3.45</td>\n",
       "      <td>1480</td>\n",
       "    </tr>\n",
       "    <tr>\n",
       "      <th>4</th>\n",
       "      <td>2.59</td>\n",
       "      <td>2.87</td>\n",
       "      <td>21.0</td>\n",
       "      <td>118</td>\n",
       "      <td>2.80</td>\n",
       "      <td>2.69</td>\n",
       "      <td>0.39</td>\n",
       "      <td>1.82</td>\n",
       "      <td>4.32</td>\n",
       "      <td>1.04</td>\n",
       "      <td>2.93</td>\n",
       "      <td>735</td>\n",
       "    </tr>\n",
       "    <tr>\n",
       "      <th>5</th>\n",
       "      <td>1.76</td>\n",
       "      <td>2.45</td>\n",
       "      <td>15.2</td>\n",
       "      <td>112</td>\n",
       "      <td>3.27</td>\n",
       "      <td>3.39</td>\n",
       "      <td>0.34</td>\n",
       "      <td>1.97</td>\n",
       "      <td>6.75</td>\n",
       "      <td>1.05</td>\n",
       "      <td>2.85</td>\n",
       "      <td>1450</td>\n",
       "    </tr>\n",
       "  </tbody>\n",
       "</table>\n",
       "</div>"
      ],
      "text/plain": [
       "   Malic   Ash  Alcalinity  Magnesium  Phenols  Flavanoids  Nonflavanoids  \\\n",
       "0   1.71  2.43        15.6        127     2.80        3.06           0.28   \n",
       "1   1.78  2.14        11.2        100     2.65        2.76           0.26   \n",
       "3   1.95  2.50        16.8        113     3.85        3.49           0.24   \n",
       "4   2.59  2.87        21.0        118     2.80        2.69           0.39   \n",
       "5   1.76  2.45        15.2        112     3.27        3.39           0.34   \n",
       "\n",
       "   Proanthocyanins  Color   Hue  Dilution  Proline  \n",
       "0             2.29   5.64  1.04      3.92     1065  \n",
       "1             1.28   4.38  1.05      3.40     1050  \n",
       "3             2.18   7.80  0.86      3.45     1480  \n",
       "4             1.82   4.32  1.04      2.93      735  \n",
       "5             1.97   6.75  1.05      2.85     1450  "
      ]
     },
     "execution_count": 51,
     "metadata": {},
     "output_type": "execute_result"
    }
   ],
   "source": [
    "#remove type column in dataset\n",
    "wine_data.drop(wine_data.columns[0],axis=1, inplace=True)\n",
    "wine_data.head()"
   ]
  },
  {
   "cell_type": "code",
   "execution_count": 52,
   "id": "56182b5a",
   "metadata": {},
   "outputs": [
    {
     "data": {
      "text/html": [
       "<div>\n",
       "<style scoped>\n",
       "    .dataframe tbody tr th:only-of-type {\n",
       "        vertical-align: middle;\n",
       "    }\n",
       "\n",
       "    .dataframe tbody tr th {\n",
       "        vertical-align: top;\n",
       "    }\n",
       "\n",
       "    .dataframe thead th {\n",
       "        text-align: right;\n",
       "    }\n",
       "</style>\n",
       "<table border=\"1\" class=\"dataframe\">\n",
       "  <thead>\n",
       "    <tr style=\"text-align: right;\">\n",
       "      <th></th>\n",
       "      <th>Malic</th>\n",
       "      <th>Ash</th>\n",
       "      <th>Alcalinity</th>\n",
       "      <th>Magnesium</th>\n",
       "      <th>Phenols</th>\n",
       "      <th>Flavanoids</th>\n",
       "      <th>Nonflavanoids</th>\n",
       "      <th>Proanthocyanins</th>\n",
       "      <th>Color</th>\n",
       "      <th>Hue</th>\n",
       "      <th>Dilution</th>\n",
       "      <th>Proline</th>\n",
       "    </tr>\n",
       "  </thead>\n",
       "  <tbody>\n",
       "    <tr>\n",
       "      <th>0</th>\n",
       "      <td>0.217978</td>\n",
       "      <td>0.528846</td>\n",
       "      <td>0.318841</td>\n",
       "      <td>0.919355</td>\n",
       "      <td>0.627586</td>\n",
       "      <td>0.757660</td>\n",
       "      <td>0.283019</td>\n",
       "      <td>0.903846</td>\n",
       "      <td>0.485523</td>\n",
       "      <td>0.549451</td>\n",
       "      <td>0.970696</td>\n",
       "      <td>0.561341</td>\n",
       "    </tr>\n",
       "    <tr>\n",
       "      <th>1</th>\n",
       "      <td>0.233708</td>\n",
       "      <td>0.250000</td>\n",
       "      <td>0.000000</td>\n",
       "      <td>0.483871</td>\n",
       "      <td>0.575862</td>\n",
       "      <td>0.674095</td>\n",
       "      <td>0.245283</td>\n",
       "      <td>0.418269</td>\n",
       "      <td>0.345212</td>\n",
       "      <td>0.560440</td>\n",
       "      <td>0.780220</td>\n",
       "      <td>0.550642</td>\n",
       "    </tr>\n",
       "    <tr>\n",
       "      <th>2</th>\n",
       "      <td>0.271910</td>\n",
       "      <td>0.596154</td>\n",
       "      <td>0.405797</td>\n",
       "      <td>0.693548</td>\n",
       "      <td>0.989655</td>\n",
       "      <td>0.877437</td>\n",
       "      <td>0.207547</td>\n",
       "      <td>0.850962</td>\n",
       "      <td>0.726058</td>\n",
       "      <td>0.351648</td>\n",
       "      <td>0.798535</td>\n",
       "      <td>0.857347</td>\n",
       "    </tr>\n",
       "    <tr>\n",
       "      <th>3</th>\n",
       "      <td>0.415730</td>\n",
       "      <td>0.951923</td>\n",
       "      <td>0.710145</td>\n",
       "      <td>0.774194</td>\n",
       "      <td>0.627586</td>\n",
       "      <td>0.654596</td>\n",
       "      <td>0.490566</td>\n",
       "      <td>0.677885</td>\n",
       "      <td>0.338530</td>\n",
       "      <td>0.549451</td>\n",
       "      <td>0.608059</td>\n",
       "      <td>0.325963</td>\n",
       "    </tr>\n",
       "    <tr>\n",
       "      <th>4</th>\n",
       "      <td>0.229213</td>\n",
       "      <td>0.548077</td>\n",
       "      <td>0.289855</td>\n",
       "      <td>0.677419</td>\n",
       "      <td>0.789655</td>\n",
       "      <td>0.849582</td>\n",
       "      <td>0.396226</td>\n",
       "      <td>0.750000</td>\n",
       "      <td>0.609131</td>\n",
       "      <td>0.560440</td>\n",
       "      <td>0.578755</td>\n",
       "      <td>0.835949</td>\n",
       "    </tr>\n",
       "  </tbody>\n",
       "</table>\n",
       "</div>"
      ],
      "text/plain": [
       "      Malic       Ash  Alcalinity  Magnesium   Phenols  Flavanoids  \\\n",
       "0  0.217978  0.528846    0.318841   0.919355  0.627586    0.757660   \n",
       "1  0.233708  0.250000    0.000000   0.483871  0.575862    0.674095   \n",
       "2  0.271910  0.596154    0.405797   0.693548  0.989655    0.877437   \n",
       "3  0.415730  0.951923    0.710145   0.774194  0.627586    0.654596   \n",
       "4  0.229213  0.548077    0.289855   0.677419  0.789655    0.849582   \n",
       "\n",
       "   Nonflavanoids  Proanthocyanins     Color       Hue  Dilution   Proline  \n",
       "0       0.283019         0.903846  0.485523  0.549451  0.970696  0.561341  \n",
       "1       0.245283         0.418269  0.345212  0.560440  0.780220  0.550642  \n",
       "2       0.207547         0.850962  0.726058  0.351648  0.798535  0.857347  \n",
       "3       0.490566         0.677885  0.338530  0.549451  0.608059  0.325963  \n",
       "4       0.396226         0.750000  0.609131  0.560440  0.578755  0.835949  "
      ]
     },
     "execution_count": 52,
     "metadata": {},
     "output_type": "execute_result"
    }
   ],
   "source": [
    "scale = MinMaxScaler()\n",
    "data_std = scale.fit_transform(wine_data)\n",
    "data_std = pd.DataFrame(data_std, columns=wine_data.columns)\n",
    "data_std.head()"
   ]
  },
  {
   "cell_type": "code",
   "execution_count": 53,
   "id": "2fbb63f7",
   "metadata": {},
   "outputs": [
    {
     "data": {
      "text/plain": [
       "(146, 12)"
      ]
     },
     "execution_count": 53,
     "metadata": {},
     "output_type": "execute_result"
    }
   ],
   "source": [
    "data_std.shape"
   ]
  },
  {
   "cell_type": "markdown",
   "id": "fdebc41f",
   "metadata": {},
   "source": [
    "# 7. Applying PCA -  "
   ]
  },
  {
   "cell_type": "markdown",
   "id": "9cd4b024",
   "metadata": {},
   "source": [
    "### Applying PCA to reduce dimensions "
   ]
  },
  {
   "cell_type": "code",
   "execution_count": 54,
   "id": "6a34c349",
   "metadata": {},
   "outputs": [],
   "source": [
    "pca = PCA(random_state=40)\n",
    "pca_values = pca.fit_transform(data_std)"
   ]
  },
  {
   "cell_type": "code",
   "execution_count": 55,
   "id": "cbeba170",
   "metadata": {},
   "outputs": [
    {
     "data": {
      "text/plain": [
       "array([[-0.78646377, -0.27955572, -0.05008769, ..., -0.1331653 ,\n",
       "        -0.10399725,  0.01579335],\n",
       "       [-0.51687538,  0.05764394, -0.39680774, ...,  0.06625533,\n",
       "        -0.08875686, -0.02719411],\n",
       "       [-0.84689398, -0.612955  , -0.118937  , ..., -0.02245205,\n",
       "         0.13326052,  0.09819181],\n",
       "       ...,\n",
       "       [ 0.73492787, -0.70419848, -0.26805336, ..., -0.17371859,\n",
       "        -0.02279586,  0.02604749],\n",
       "       [ 0.64068081, -0.56028364, -0.07872882, ..., -0.10930034,\n",
       "         0.00537281,  0.05134257],\n",
       "       [ 0.84432637, -0.51840181,  0.29937018, ..., -0.0360613 ,\n",
       "        -0.05722825,  0.06889187]])"
      ]
     },
     "execution_count": 55,
     "metadata": {},
     "output_type": "execute_result"
    }
   ],
   "source": [
    "pca_values"
   ]
  },
  {
   "cell_type": "markdown",
   "id": "88903830",
   "metadata": {},
   "source": [
    "### The amount of variance that each PCA has "
   ]
  },
  {
   "cell_type": "code",
   "execution_count": 56,
   "id": "ed560120",
   "metadata": {},
   "outputs": [
    {
     "data": {
      "text/plain": [
       "array([0.45705372, 0.17653229, 0.08063096, 0.07112777, 0.04667542,\n",
       "       0.04441862, 0.0311169 , 0.02635377, 0.02346244, 0.01801341,\n",
       "       0.01655209, 0.00806262])"
      ]
     },
     "execution_count": 56,
     "metadata": {},
     "output_type": "execute_result"
    }
   ],
   "source": [
    "var = pca.explained_variance_ratio_\n",
    "var"
   ]
  },
  {
   "cell_type": "markdown",
   "id": "6b069c3b",
   "metadata": {},
   "source": [
    "### Cummulative variance of each PCA "
   ]
  },
  {
   "cell_type": "code",
   "execution_count": 57,
   "id": "6e1e913d",
   "metadata": {},
   "outputs": [
    {
     "data": {
      "text/plain": [
       "array([ 45.71,  63.36,  71.42,  78.53,  83.2 ,  87.64,  90.75,  93.39,\n",
       "        95.74,  97.54,  99.2 , 100.01])"
      ]
     },
     "execution_count": 57,
     "metadata": {},
     "output_type": "execute_result"
    }
   ],
   "source": [
    "var1 = np.cumsum(np.round(var,4)*100)\n",
    "var1"
   ]
  },
  {
   "cell_type": "markdown",
   "id": "a94d8c74",
   "metadata": {},
   "source": [
    "### Variance plot for PCA components obtained  "
   ]
  },
  {
   "cell_type": "code",
   "execution_count": 58,
   "id": "d02b9e9c",
   "metadata": {},
   "outputs": [
    {
     "data": {
      "text/plain": [
       "[<matplotlib.lines.Line2D at 0x1f4b65a3c70>]"
      ]
     },
     "execution_count": 58,
     "metadata": {},
     "output_type": "execute_result"
    },
    {
     "data": {
      "image/png": "[encoded data removed]",
      "text/plain": [
       "<Figure size 432x288 with 1 Axes>"
      ]
     },
     "metadata": {
      "needs_background": "light"
     },
     "output_type": "display_data"
    }
   ],
   "source": [
    "plt.plot(var1,color='magenta')"
   ]
  },
  {
   "cell_type": "code",
   "execution_count": 59,
   "id": "848ad10d",
   "metadata": {
    "scrolled": true
   },
   "outputs": [
    {
     "data": {
      "text/plain": [
       "array([[-0.78646377, -0.27955572, -0.05008769],\n",
       "       [-0.51687538,  0.05764394, -0.39680774],\n",
       "       [-0.84689398, -0.612955  , -0.118937  ],\n",
       "       [-0.27851192, -0.23297551,  0.50186094],\n",
       "       [-0.68159859, -0.44906448, -0.04714086],\n",
       "       [-0.55402523, -0.14082497, -0.09714941],\n",
       "       [-0.45355578, -0.3044267 ,  0.16917842],\n",
       "       [-0.5366378 , -0.01527897, -0.29005415],\n",
       "       [-0.65593717, -0.14655296, -0.26083673],\n",
       "       [-0.81257027, -0.25377968, -0.07461922],\n",
       "       [-0.37937963, -0.01379651, -0.08546229],\n",
       "       [-0.49124978, -0.10308354, -0.05539381],\n",
       "       [-0.53227018, -0.41004134,  0.24209005],\n",
       "       [-0.49068573, -0.46966241,  0.30388431],\n",
       "       [-0.45277364, -0.34553907,  0.29730973],\n",
       "       [-0.81158253, -0.56677741,  0.02569138],\n",
       "       [-0.49556474, -0.2871634 , -0.08666497],\n",
       "       [-0.74252021, -0.13841234, -0.14650324],\n",
       "       [-0.31135784, -0.14504692,  0.13423656],\n",
       "       [-0.62753602,  0.0891962 , -0.04096135],\n",
       "       [-0.43658162,  0.08810748,  0.08690306],\n",
       "       [-0.46910143,  0.13862133,  0.248379  ],\n",
       "       [-0.4357856 , -0.15119426,  0.074055  ],\n",
       "       [-0.26304839,  0.06154777, -0.23747838],\n",
       "       [-0.54771453, -0.0885488 ,  0.4664621 ],\n",
       "       [-0.51833241,  0.06805085, -0.22806376],\n",
       "       [-0.62225987, -0.25793855,  0.37242312],\n",
       "       [-0.62698493, -0.36212576, -0.0720083 ],\n",
       "       [-0.39762409,  0.06857186,  0.11212384],\n",
       "       [-0.43234987, -0.33591462,  0.5002186 ],\n",
       "       [-0.33912461, -0.13665185,  0.24296937],\n",
       "       [-0.49209725, -0.01138451,  0.04732226],\n",
       "       [-0.34323014, -0.17900063,  0.30391195],\n",
       "       [-0.27328286, -0.04507638,  0.13559194],\n",
       "       [-0.35650709,  0.18527099, -0.22695945],\n",
       "       [-0.56869985, -0.42513687, -0.18750712],\n",
       "       [-0.64080234, -0.19821521, -0.13270583],\n",
       "       [-0.15072542, -0.01580137, -0.27854394],\n",
       "       [-0.7347616 , -0.25997215, -0.1054077 ],\n",
       "       [-0.11539301, -0.10458271, -0.18219625],\n",
       "       [-0.52652148, -0.02900173, -0.31408511],\n",
       "       [-0.21662354, -0.33545008, -0.03203264],\n",
       "       [-0.61664895, -0.18924663, -0.19172397],\n",
       "       [-0.66895591, -0.10955326, -0.39216492],\n",
       "       [-0.46934906, -0.21230638,  0.0068652 ],\n",
       "       [-0.6423453 , -0.39538413, -0.14741141],\n",
       "       [-0.70910594, -0.13485325,  0.10768036],\n",
       "       [-0.81520184, -0.39561553, -0.1277235 ],\n",
       "       [-0.50300327, -0.42582027,  0.24755985],\n",
       "       [-0.48938098, -0.2225411 , -0.25736718],\n",
       "       [-0.59219213, -0.33605893,  0.00889624],\n",
       "       [-0.61755965, -0.26977639, -0.19479252],\n",
       "       [-0.52973426, -0.336575  ,  0.15524804],\n",
       "       [-0.73872053, -0.43744199, -0.12327424],\n",
       "       [ 0.39236548,  0.33072631,  0.19102596],\n",
       "       [ 0.47146409,  0.20607285, -0.19402231],\n",
       "       [ 0.04081099,  0.45876502, -0.23440815],\n",
       "       [-0.55847072,  0.35579077, -0.1373265 ],\n",
       "       [ 0.08592742,  0.39061721,  0.42073903],\n",
       "       [-0.2905741 ,  0.07460468,  0.21824551],\n",
       "       [-0.10635224,  0.56110228, -0.29558391],\n",
       "       [ 0.26801501,  0.16878153,  0.15987838],\n",
       "       [ 0.36442945,  0.16978493, -0.04976327],\n",
       "       [-0.45343502,  0.36570279,  0.48158543],\n",
       "       [ 0.16008648,  0.39483561,  0.0288818 ],\n",
       "       [-0.47640452,  0.14921968, -0.06426515],\n",
       "       [ 0.16431069,  0.43508348, -0.29570366],\n",
       "       [ 0.31692862,  0.19960826, -0.02674573],\n",
       "       [-0.16100442,  0.20622109,  0.30646808],\n",
       "       [-0.27435635,  0.73886301, -0.08100585],\n",
       "       [-0.31125168,  0.3183428 , -0.10431559],\n",
       "       [ 0.02609334,  0.5485624 ,  0.45210036],\n",
       "       [ 0.5836156 ,  0.08449547,  0.13881511],\n",
       "       [-0.31605148,  0.18067061,  0.0115842 ],\n",
       "       [-0.23828548,  0.48079872,  0.0123851 ],\n",
       "       [ 0.11642543,  0.50364139,  0.29952345],\n",
       "       [ 0.17034002,  0.31782596,  0.26232258],\n",
       "       [ 0.03969461,  0.63716918,  0.21378386],\n",
       "       [ 0.24729115,  0.46811724,  0.12697912],\n",
       "       [ 0.27957065,  0.39664835,  0.2638219 ],\n",
       "       [ 0.40836146,  0.44598132,  0.12977148],\n",
       "       [-0.2640806 ,  0.46090493, -0.09677147],\n",
       "       [-0.29766337,  0.32078317, -0.08936688],\n",
       "       [-0.30929764,  0.54293245, -0.269482  ],\n",
       "       [-0.61389977,  0.22841503, -0.2307897 ],\n",
       "       [ 0.10410338,  0.57642194, -0.31842692],\n",
       "       [-0.02970119,  0.20886409,  0.10244649],\n",
       "       [ 0.11350031,  0.55934262, -0.28027676],\n",
       "       [-0.15225003,  0.5023763 , -0.19323925],\n",
       "       [ 0.32316416,  0.44035604,  0.20847197],\n",
       "       [-0.00527476,  0.47943435, -0.14277297],\n",
       "       [ 0.31888258,  0.3787274 ,  0.10159689],\n",
       "       [-0.09756198,  0.50425134, -0.27376457],\n",
       "       [-0.5277137 ,  0.1361409 ,  0.2718775 ],\n",
       "       [ 0.0202027 ,  0.43913401, -0.11441752],\n",
       "       [ 0.20863967,  0.03321014,  0.70467189],\n",
       "       [ 0.00433916,  0.3859828 ,  0.29456659],\n",
       "       [ 0.01699491,  0.41473   ,  0.28197641],\n",
       "       [-0.02527913,  0.59659311, -0.20151312],\n",
       "       [-0.04962978,  0.43375889,  0.08272981],\n",
       "       [ 0.60043518,  0.33126499, -0.42606852],\n",
       "       [ 0.06642592,  0.44325567, -0.22886132],\n",
       "       [-0.29746079,  0.10480496,  0.01676505],\n",
       "       [-0.07501077,  0.42759838, -0.07207676],\n",
       "       [-0.1100045 ,  0.25402634, -0.04143003],\n",
       "       [ 0.00721884,  0.45327245,  0.16695326],\n",
       "       [ 0.36848095,  0.18168229,  0.06748072],\n",
       "       [ 0.37299827, -0.07301032, -0.18473148],\n",
       "       [ 0.60674595, -0.11997811, -0.12861047],\n",
       "       [ 0.72109182, -0.0598986 , -0.02705469],\n",
       "       [ 0.56355699, -0.15957459, -0.13838593],\n",
       "       [ 0.59557581,  0.12482584, -0.0746573 ],\n",
       "       [ 0.77086983, -0.08715416, -0.10822135],\n",
       "       [ 0.96211907, -0.09795731,  0.17731515],\n",
       "       [ 0.81232497,  0.04996924, -0.0803353 ],\n",
       "       [ 0.59819584, -0.03794145,  0.40041523],\n",
       "       [ 0.68060618, -0.01872196,  0.32766097],\n",
       "       [ 0.60245211,  0.01156874, -0.10843573],\n",
       "       [ 0.75752821,  0.02321534,  0.44536727],\n",
       "       [ 0.63952383, -0.00966649,  0.03117098],\n",
       "       [ 0.56789579, -0.44762423, -0.38335681],\n",
       "       [ 0.69793888, -0.07485082, -0.19681776],\n",
       "       [ 1.12134153,  0.01306995, -0.25861528],\n",
       "       [ 0.89892285, -0.32140417, -0.04379617],\n",
       "       [ 0.73543958, -0.33314684, -0.11718543],\n",
       "       [ 0.74100793, -0.5477529 , -0.19988734],\n",
       "       [ 0.60064304, -0.57635748,  0.02917498],\n",
       "       [ 0.68497571, -0.11019047, -0.24571285],\n",
       "       [ 0.92145251, -0.4116348 , -0.04571703],\n",
       "       [ 0.76416762, -0.36944945, -0.18126793],\n",
       "       [ 0.77899309, -0.26295129, -0.08603699],\n",
       "       [ 0.62285398, -0.16949727,  0.21583818],\n",
       "       [ 0.69913249, -0.11173294,  0.33830485],\n",
       "       [ 0.67793698, -0.17069402, -0.13134108],\n",
       "       [ 0.77737771, -0.2527083 , -0.1501317 ],\n",
       "       [ 0.9086067 , -0.0651446 , -0.02799144],\n",
       "       [ 0.74767091, -0.35292318, -0.24708342],\n",
       "       [ 0.56197778, -0.436772  ,  0.23970573],\n",
       "       [ 0.62488902, -0.647086  ,  0.26582983],\n",
       "       [ 0.78404498, -0.01881724, -0.15381335],\n",
       "       [ 0.92185607, -0.20906647, -0.24252001],\n",
       "       [ 0.68005609, -0.37186857, -0.08953004],\n",
       "       [ 0.68793051, -0.38139182,  0.06401906],\n",
       "       [ 0.73492787, -0.70419848, -0.26805336],\n",
       "       [ 0.64068081, -0.56028364, -0.07872882],\n",
       "       [ 0.84432637, -0.51840181,  0.29937018]])"
      ]
     },
     "execution_count": 59,
     "metadata": {},
     "output_type": "execute_result"
    }
   ],
   "source": [
    "#First 3 principal components have more contribution i.e about 72%.\n",
    "#So we are considering first 3 components for the building model.\n",
    "pca_values[:,:3]"
   ]
  },
  {
   "cell_type": "code",
   "execution_count": 60,
   "id": "9bf56cbc",
   "metadata": {},
   "outputs": [
    {
     "data": {
      "text/html": [
       "<div>\n",
       "<style scoped>\n",
       "    .dataframe tbody tr th:only-of-type {\n",
       "        vertical-align: middle;\n",
       "    }\n",
       "\n",
       "    .dataframe tbody tr th {\n",
       "        vertical-align: top;\n",
       "    }\n",
       "\n",
       "    .dataframe thead th {\n",
       "        text-align: right;\n",
       "    }\n",
       "</style>\n",
       "<table border=\"1\" class=\"dataframe\">\n",
       "  <thead>\n",
       "    <tr style=\"text-align: right;\">\n",
       "      <th></th>\n",
       "      <th>PC1</th>\n",
       "      <th>PC2</th>\n",
       "      <th>PC3</th>\n",
       "    </tr>\n",
       "  </thead>\n",
       "  <tbody>\n",
       "    <tr>\n",
       "      <th>0</th>\n",
       "      <td>-0.786464</td>\n",
       "      <td>-0.279556</td>\n",
       "      <td>-0.050088</td>\n",
       "    </tr>\n",
       "    <tr>\n",
       "      <th>1</th>\n",
       "      <td>-0.516875</td>\n",
       "      <td>0.057644</td>\n",
       "      <td>-0.396808</td>\n",
       "    </tr>\n",
       "    <tr>\n",
       "      <th>2</th>\n",
       "      <td>-0.846894</td>\n",
       "      <td>-0.612955</td>\n",
       "      <td>-0.118937</td>\n",
       "    </tr>\n",
       "    <tr>\n",
       "      <th>3</th>\n",
       "      <td>-0.278512</td>\n",
       "      <td>-0.232976</td>\n",
       "      <td>0.501861</td>\n",
       "    </tr>\n",
       "    <tr>\n",
       "      <th>4</th>\n",
       "      <td>-0.681599</td>\n",
       "      <td>-0.449064</td>\n",
       "      <td>-0.047141</td>\n",
       "    </tr>\n",
       "    <tr>\n",
       "      <th>5</th>\n",
       "      <td>-0.554025</td>\n",
       "      <td>-0.140825</td>\n",
       "      <td>-0.097149</td>\n",
       "    </tr>\n",
       "    <tr>\n",
       "      <th>6</th>\n",
       "      <td>-0.453556</td>\n",
       "      <td>-0.304427</td>\n",
       "      <td>0.169178</td>\n",
       "    </tr>\n",
       "    <tr>\n",
       "      <th>7</th>\n",
       "      <td>-0.536638</td>\n",
       "      <td>-0.015279</td>\n",
       "      <td>-0.290054</td>\n",
       "    </tr>\n",
       "    <tr>\n",
       "      <th>8</th>\n",
       "      <td>-0.655937</td>\n",
       "      <td>-0.146553</td>\n",
       "      <td>-0.260837</td>\n",
       "    </tr>\n",
       "    <tr>\n",
       "      <th>9</th>\n",
       "      <td>-0.812570</td>\n",
       "      <td>-0.253780</td>\n",
       "      <td>-0.074619</td>\n",
       "    </tr>\n",
       "  </tbody>\n",
       "</table>\n",
       "</div>"
      ],
      "text/plain": [
       "        PC1       PC2       PC3\n",
       "0 -0.786464 -0.279556 -0.050088\n",
       "1 -0.516875  0.057644 -0.396808\n",
       "2 -0.846894 -0.612955 -0.118937\n",
       "3 -0.278512 -0.232976  0.501861\n",
       "4 -0.681599 -0.449064 -0.047141\n",
       "5 -0.554025 -0.140825 -0.097149\n",
       "6 -0.453556 -0.304427  0.169178\n",
       "7 -0.536638 -0.015279 -0.290054\n",
       "8 -0.655937 -0.146553 -0.260837\n",
       "9 -0.812570 -0.253780 -0.074619"
      ]
     },
     "execution_count": 60,
     "metadata": {},
     "output_type": "execute_result"
    }
   ],
   "source": [
    "#Creating dataset using PCA (first 3 components)\n",
    "wine_data_pca =pd.DataFrame(pca_values[:,:3], columns=['PC1', 'PC2', 'PC3'])\n",
    "wine_data_pca.head(10)"
   ]
  },
  {
   "cell_type": "code",
   "execution_count": 61,
   "id": "132eb8a3",
   "metadata": {},
   "outputs": [
    {
     "data": {
      "text/plain": [
       "<AxesSubplot:>"
      ]
     },
     "execution_count": 61,
     "metadata": {},
     "output_type": "execute_result"
    },
    {
     "data": {
      "image/png": "[encoded data removed]",
      "text/plain": [
       "<Figure size 720x576 with 1 Axes>"
      ]
     },
     "metadata": {
      "needs_background": "light"
     },
     "output_type": "display_data"
    }
   ],
   "source": [
    "# Visualization of PCAs\n",
    "fig=plt.figure(figsize=(10,8))\n",
    "sns.scatterplot(data=wine_data_pca)"
   ]
  },
  {
   "cell_type": "markdown",
   "id": "ecffa1bd",
   "metadata": {},
   "source": [
    "# Checking with other Clustering Algorithms "
   ]
  },
  {
   "cell_type": "markdown",
   "id": "dd3f6d5c",
   "metadata": {},
   "source": [
    "## Hierarchical Clustering with PCA"
   ]
  },
  {
   "cell_type": "markdown",
   "id": "88c2e5ff",
   "metadata": {},
   "source": [
    "## Building Model "
   ]
  },
  {
   "cell_type": "code",
   "execution_count": 75,
   "id": "1f1796b5",
   "metadata": {},
   "outputs": [
    {
     "data": {
      "text/plain": [
       "<matplotlib.lines.Line2D at 0x1f4b65afc10>"
      ]
     },
     "execution_count": 75,
     "metadata": {},
     "output_type": "execute_result"
    },
    {
     "data": {
      "image/png": "[encoded data removed]",
      "text/plain": [
       "<Figure size 1440x720 with 1 Axes>"
      ]
     },
     "metadata": {
      "needs_background": "light"
     },
     "output_type": "display_data"
    }
   ],
   "source": [
    "plt.figure(figsize=(20,10))\n",
    "dendrogram=sch.dendrogram(sch.linkage(wine_data_pca, method='average'))\n",
    "plt.axhline(y=1.25)"
   ]
  },
  {
   "cell_type": "code",
   "execution_count": 63,
   "id": "32310dd0",
   "metadata": {},
   "outputs": [],
   "source": [
    "#From above dendrogram, we can see that '3' number of clusters are formed.\n",
    "hc = AgglomerativeClustering(n_clusters=3)"
   ]
  },
  {
   "cell_type": "code",
   "execution_count": 64,
   "id": "724995c3",
   "metadata": {},
   "outputs": [
    {
     "data": {
      "text/plain": [
       "array([0, 0, 0, 0, 0, 0, 0, 0, 0, 0, 0, 0, 0, 0, 0, 0, 0, 0, 0, 0, 0, 0,\n",
       "       0, 0, 0, 0, 0, 0, 0, 0, 0, 0, 0, 0, 0, 0, 0, 0, 0, 0, 0, 0, 0, 0,\n",
       "       0, 0, 0, 0, 0, 0, 0, 0, 0, 0, 2, 1, 2, 0, 2, 0, 2, 2, 1, 0, 2, 0,\n",
       "       2, 1, 0, 2, 2, 2, 1, 0, 2, 2, 2, 2, 2, 2, 2, 2, 2, 2, 0, 2, 0, 2,\n",
       "       2, 2, 2, 2, 2, 0, 2, 1, 2, 2, 2, 2, 1, 2, 0, 2, 0, 2, 1, 1, 1, 1,\n",
       "       1, 1, 1, 1, 1, 1, 1, 1, 1, 1, 1, 1, 1, 1, 1, 1, 1, 1, 1, 1, 1, 1,\n",
       "       1, 1, 1, 1, 1, 1, 1, 1, 1, 1, 1, 1, 1, 1], dtype=int64)"
      ]
     },
     "execution_count": 64,
     "metadata": {},
     "output_type": "execute_result"
    }
   ],
   "source": [
    "wine_data_hc=hc.fit(wine_data_pca)\n",
    "wine_data_hc.labels_"
   ]
  },
  {
   "cell_type": "code",
   "execution_count": 65,
   "id": "db2d5fa8",
   "metadata": {},
   "outputs": [
    {
     "data": {
      "text/plain": [
       "0.4468"
      ]
     },
     "execution_count": 65,
     "metadata": {},
     "output_type": "execute_result"
    }
   ],
   "source": [
    "#Calculating 'Silhouette' Score\n",
    "import sklearn\n",
    "round(sklearn.metrics.silhouette_score(wine_data_pca, wine_data_hc.labels_),4)"
   ]
  },
  {
   "cell_type": "code",
   "execution_count": 66,
   "id": "3874c356",
   "metadata": {},
   "outputs": [
    {
     "data": {
      "text/html": [
       "<div>\n",
       "<style scoped>\n",
       "    .dataframe tbody tr th:only-of-type {\n",
       "        vertical-align: middle;\n",
       "    }\n",
       "\n",
       "    .dataframe tbody tr th {\n",
       "        vertical-align: top;\n",
       "    }\n",
       "\n",
       "    .dataframe thead th {\n",
       "        text-align: right;\n",
       "    }\n",
       "</style>\n",
       "<table border=\"1\" class=\"dataframe\">\n",
       "  <thead>\n",
       "    <tr style=\"text-align: right;\">\n",
       "      <th></th>\n",
       "      <th>PC1</th>\n",
       "      <th>PC2</th>\n",
       "      <th>PC3</th>\n",
       "      <th>ClusterID_HC</th>\n",
       "    </tr>\n",
       "  </thead>\n",
       "  <tbody>\n",
       "    <tr>\n",
       "      <th>0</th>\n",
       "      <td>-0.786464</td>\n",
       "      <td>-0.279556</td>\n",
       "      <td>-0.050088</td>\n",
       "      <td>0</td>\n",
       "    </tr>\n",
       "    <tr>\n",
       "      <th>1</th>\n",
       "      <td>-0.516875</td>\n",
       "      <td>0.057644</td>\n",
       "      <td>-0.396808</td>\n",
       "      <td>0</td>\n",
       "    </tr>\n",
       "    <tr>\n",
       "      <th>2</th>\n",
       "      <td>-0.846894</td>\n",
       "      <td>-0.612955</td>\n",
       "      <td>-0.118937</td>\n",
       "      <td>0</td>\n",
       "    </tr>\n",
       "    <tr>\n",
       "      <th>3</th>\n",
       "      <td>-0.278512</td>\n",
       "      <td>-0.232976</td>\n",
       "      <td>0.501861</td>\n",
       "      <td>0</td>\n",
       "    </tr>\n",
       "    <tr>\n",
       "      <th>4</th>\n",
       "      <td>-0.681599</td>\n",
       "      <td>-0.449064</td>\n",
       "      <td>-0.047141</td>\n",
       "      <td>0</td>\n",
       "    </tr>\n",
       "  </tbody>\n",
       "</table>\n",
       "</div>"
      ],
      "text/plain": [
       "        PC1       PC2       PC3  ClusterID_HC\n",
       "0 -0.786464 -0.279556 -0.050088             0\n",
       "1 -0.516875  0.057644 -0.396808             0\n",
       "2 -0.846894 -0.612955 -0.118937             0\n",
       "3 -0.278512 -0.232976  0.501861             0\n",
       "4 -0.681599 -0.449064 -0.047141             0"
      ]
     },
     "execution_count": 66,
     "metadata": {},
     "output_type": "execute_result"
    }
   ],
   "source": [
    "#Adding Cluster column in the data\n",
    "wine_data_pca['ClusterID_HC']=wine_data_hc.labels_\n",
    "wine_data_pca.head()"
   ]
  },
  {
   "cell_type": "code",
   "execution_count": 67,
   "id": "1efd5f3c",
   "metadata": {},
   "outputs": [
    {
     "data": {
      "text/html": [
       "<div>\n",
       "<style scoped>\n",
       "    .dataframe tbody tr th:only-of-type {\n",
       "        vertical-align: middle;\n",
       "    }\n",
       "\n",
       "    .dataframe tbody tr th {\n",
       "        vertical-align: top;\n",
       "    }\n",
       "\n",
       "    .dataframe thead th {\n",
       "        text-align: right;\n",
       "    }\n",
       "</style>\n",
       "<table border=\"1\" class=\"dataframe\">\n",
       "  <thead>\n",
       "    <tr style=\"text-align: right;\">\n",
       "      <th></th>\n",
       "      <th>PC1</th>\n",
       "      <th>PC2</th>\n",
       "      <th>PC3</th>\n",
       "    </tr>\n",
       "    <tr>\n",
       "      <th>ClusterID_HC</th>\n",
       "      <th></th>\n",
       "      <th></th>\n",
       "      <th></th>\n",
       "    </tr>\n",
       "  </thead>\n",
       "  <tbody>\n",
       "    <tr>\n",
       "      <th>0</th>\n",
       "      <td>-0.495269</td>\n",
       "      <td>-0.127610</td>\n",
       "      <td>0.008369</td>\n",
       "    </tr>\n",
       "    <tr>\n",
       "      <th>1</th>\n",
       "      <td>0.674448</td>\n",
       "      <td>-0.166545</td>\n",
       "      <td>-0.020641</td>\n",
       "    </tr>\n",
       "    <tr>\n",
       "      <th>2</th>\n",
       "      <td>0.033367</td>\n",
       "      <td>0.455878</td>\n",
       "      <td>0.011586</td>\n",
       "    </tr>\n",
       "  </tbody>\n",
       "</table>\n",
       "</div>"
      ],
      "text/plain": [
       "                   PC1       PC2       PC3\n",
       "ClusterID_HC                              \n",
       "0            -0.495269 -0.127610  0.008369\n",
       "1             0.674448 -0.166545 -0.020641\n",
       "2             0.033367  0.455878  0.011586"
      ]
     },
     "execution_count": 67,
     "metadata": {},
     "output_type": "execute_result"
    }
   ],
   "source": [
    "#Grouping clusters\n",
    "wine_data_pca.groupby('ClusterID_HC').mean()"
   ]
  },
  {
   "cell_type": "code",
   "execution_count": 68,
   "id": "5b5640bb",
   "metadata": {},
   "outputs": [
    {
     "data": {
      "text/plain": [
       "0    65\n",
       "1    46\n",
       "2    35\n",
       "Name: ClusterID_HC, dtype: int64"
      ]
     },
     "execution_count": 68,
     "metadata": {},
     "output_type": "execute_result"
    }
   ],
   "source": [
    "wine_data_pca['ClusterID_HC'].value_counts()"
   ]
  },
  {
   "cell_type": "markdown",
   "id": "1d206d96",
   "metadata": {},
   "source": [
    "# Hierarchical Clustering without PCA "
   ]
  },
  {
   "cell_type": "code",
   "execution_count": 69,
   "id": "47c30ba8",
   "metadata": {},
   "outputs": [
    {
     "data": {
      "text/html": [
       "<div>\n",
       "<style scoped>\n",
       "    .dataframe tbody tr th:only-of-type {\n",
       "        vertical-align: middle;\n",
       "    }\n",
       "\n",
       "    .dataframe tbody tr th {\n",
       "        vertical-align: top;\n",
       "    }\n",
       "\n",
       "    .dataframe thead th {\n",
       "        text-align: right;\n",
       "    }\n",
       "</style>\n",
       "<table border=\"1\" class=\"dataframe\">\n",
       "  <thead>\n",
       "    <tr style=\"text-align: right;\">\n",
       "      <th></th>\n",
       "      <th>Malic</th>\n",
       "      <th>Ash</th>\n",
       "      <th>Alcalinity</th>\n",
       "      <th>Magnesium</th>\n",
       "      <th>Phenols</th>\n",
       "      <th>Flavanoids</th>\n",
       "      <th>Nonflavanoids</th>\n",
       "      <th>Proanthocyanins</th>\n",
       "      <th>Color</th>\n",
       "      <th>Hue</th>\n",
       "      <th>Dilution</th>\n",
       "      <th>Proline</th>\n",
       "    </tr>\n",
       "  </thead>\n",
       "  <tbody>\n",
       "    <tr>\n",
       "      <th>0</th>\n",
       "      <td>0.217978</td>\n",
       "      <td>0.528846</td>\n",
       "      <td>0.318841</td>\n",
       "      <td>0.919355</td>\n",
       "      <td>0.627586</td>\n",
       "      <td>0.757660</td>\n",
       "      <td>0.283019</td>\n",
       "      <td>0.903846</td>\n",
       "      <td>0.485523</td>\n",
       "      <td>0.549451</td>\n",
       "      <td>0.970696</td>\n",
       "      <td>0.561341</td>\n",
       "    </tr>\n",
       "    <tr>\n",
       "      <th>1</th>\n",
       "      <td>0.233708</td>\n",
       "      <td>0.250000</td>\n",
       "      <td>0.000000</td>\n",
       "      <td>0.483871</td>\n",
       "      <td>0.575862</td>\n",
       "      <td>0.674095</td>\n",
       "      <td>0.245283</td>\n",
       "      <td>0.418269</td>\n",
       "      <td>0.345212</td>\n",
       "      <td>0.560440</td>\n",
       "      <td>0.780220</td>\n",
       "      <td>0.550642</td>\n",
       "    </tr>\n",
       "    <tr>\n",
       "      <th>2</th>\n",
       "      <td>0.271910</td>\n",
       "      <td>0.596154</td>\n",
       "      <td>0.405797</td>\n",
       "      <td>0.693548</td>\n",
       "      <td>0.989655</td>\n",
       "      <td>0.877437</td>\n",
       "      <td>0.207547</td>\n",
       "      <td>0.850962</td>\n",
       "      <td>0.726058</td>\n",
       "      <td>0.351648</td>\n",
       "      <td>0.798535</td>\n",
       "      <td>0.857347</td>\n",
       "    </tr>\n",
       "    <tr>\n",
       "      <th>3</th>\n",
       "      <td>0.415730</td>\n",
       "      <td>0.951923</td>\n",
       "      <td>0.710145</td>\n",
       "      <td>0.774194</td>\n",
       "      <td>0.627586</td>\n",
       "      <td>0.654596</td>\n",
       "      <td>0.490566</td>\n",
       "      <td>0.677885</td>\n",
       "      <td>0.338530</td>\n",
       "      <td>0.549451</td>\n",
       "      <td>0.608059</td>\n",
       "      <td>0.325963</td>\n",
       "    </tr>\n",
       "    <tr>\n",
       "      <th>4</th>\n",
       "      <td>0.229213</td>\n",
       "      <td>0.548077</td>\n",
       "      <td>0.289855</td>\n",
       "      <td>0.677419</td>\n",
       "      <td>0.789655</td>\n",
       "      <td>0.849582</td>\n",
       "      <td>0.396226</td>\n",
       "      <td>0.750000</td>\n",
       "      <td>0.609131</td>\n",
       "      <td>0.560440</td>\n",
       "      <td>0.578755</td>\n",
       "      <td>0.835949</td>\n",
       "    </tr>\n",
       "  </tbody>\n",
       "</table>\n",
       "</div>"
      ],
      "text/plain": [
       "      Malic       Ash  Alcalinity  Magnesium   Phenols  Flavanoids  \\\n",
       "0  0.217978  0.528846    0.318841   0.919355  0.627586    0.757660   \n",
       "1  0.233708  0.250000    0.000000   0.483871  0.575862    0.674095   \n",
       "2  0.271910  0.596154    0.405797   0.693548  0.989655    0.877437   \n",
       "3  0.415730  0.951923    0.710145   0.774194  0.627586    0.654596   \n",
       "4  0.229213  0.548077    0.289855   0.677419  0.789655    0.849582   \n",
       "\n",
       "   Nonflavanoids  Proanthocyanins     Color       Hue  Dilution   Proline  \n",
       "0       0.283019         0.903846  0.485523  0.549451  0.970696  0.561341  \n",
       "1       0.245283         0.418269  0.345212  0.560440  0.780220  0.550642  \n",
       "2       0.207547         0.850962  0.726058  0.351648  0.798535  0.857347  \n",
       "3       0.490566         0.677885  0.338530  0.549451  0.608059  0.325963  \n",
       "4       0.396226         0.750000  0.609131  0.560440  0.578755  0.835949  "
      ]
     },
     "execution_count": 69,
     "metadata": {},
     "output_type": "execute_result"
    }
   ],
   "source": [
    "#Hierarchical Clustering without PCA\n",
    "data_std.head()"
   ]
  },
  {
   "cell_type": "code",
   "execution_count": 72,
   "id": "69b761b5",
   "metadata": {},
   "outputs": [
    {
     "data": {
      "text/plain": [
       "<matplotlib.lines.Line2D at 0x1f4b932aa90>"
      ]
     },
     "execution_count": 72,
     "metadata": {},
     "output_type": "execute_result"
    },
    {
     "data": {
      "image/png": "[encoded data removed]",
      "text/plain": [
       "<Figure size 1440x720 with 1 Axes>"
      ]
     },
     "metadata": {
      "needs_background": "light"
     },
     "output_type": "display_data"
    }
   ],
   "source": [
    "plt.figure(figsize=(20,10))\n",
    "dendrogram=sch.dendrogram(sch.linkage(data_std, method='average'))\n",
    "plt.axhline(y=0.9)"
   ]
  },
  {
   "cell_type": "code",
   "execution_count": 76,
   "id": "f02809ff",
   "metadata": {},
   "outputs": [],
   "source": [
    "#From above dendrogram, we are selecting number of clusters as '7'.\n",
    "hc=AgglomerativeClustering(n_clusters=7)"
   ]
  },
  {
   "cell_type": "code",
   "execution_count": 79,
   "id": "c0eeb697",
   "metadata": {},
   "outputs": [
    {
     "data": {
      "text/plain": [
       "array([0, 2, 0, 0, 0, 2, 0, 2, 2, 0, 2, 2, 0, 0, 0, 0, 2, 0, 2, 2, 1, 1,\n",
       "       2, 2, 0, 2, 0, 0, 0, 0, 0, 1, 0, 0, 2, 2, 0, 2, 2, 2, 2, 2, 2, 2,\n",
       "       0, 0, 0, 0, 0, 2, 0, 0, 0, 0, 6, 6, 6, 1, 3, 0, 1, 6, 6, 1, 3, 1,\n",
       "       6, 6, 1, 1, 1, 3, 5, 1, 1, 3, 3, 3, 3, 3, 3, 1, 1, 1, 1, 1, 1, 1,\n",
       "       1, 3, 1, 3, 1, 1, 1, 3, 3, 3, 1, 3, 5, 1, 1, 1, 1, 1, 5, 5, 5, 5,\n",
       "       5, 5, 5, 5, 5, 5, 5, 5, 5, 5, 4, 5, 5, 4, 4, 4, 4, 5, 4, 4, 4, 5,\n",
       "       5, 5, 4, 4, 4, 4, 4, 5, 4, 4, 4, 4, 4, 4], dtype=int64)"
      ]
     },
     "execution_count": 79,
     "metadata": {},
     "output_type": "execute_result"
    }
   ],
   "source": [
    "wine_data_hc1=hc.fit(data_std)\n",
    "wine_data_hc1.labels_"
   ]
  },
  {
   "cell_type": "code",
   "execution_count": 78,
   "id": "ac89eb7f",
   "metadata": {},
   "outputs": [
    {
     "data": {
      "text/plain": [
       "0.1313"
      ]
     },
     "execution_count": 78,
     "metadata": {},
     "output_type": "execute_result"
    }
   ],
   "source": [
    "#Calculating 'Silhoutte' Score\n",
    "round(sklearn.metrics.silhouette_score(data_std, wine_data_hc1.labels_),4)"
   ]
  },
  {
   "cell_type": "code",
   "execution_count": 81,
   "id": "b8dc46d0",
   "metadata": {},
   "outputs": [
    {
     "data": {
      "text/html": [
       "<div>\n",
       "<style scoped>\n",
       "    .dataframe tbody tr th:only-of-type {\n",
       "        vertical-align: middle;\n",
       "    }\n",
       "\n",
       "    .dataframe tbody tr th {\n",
       "        vertical-align: top;\n",
       "    }\n",
       "\n",
       "    .dataframe thead th {\n",
       "        text-align: right;\n",
       "    }\n",
       "</style>\n",
       "<table border=\"1\" class=\"dataframe\">\n",
       "  <thead>\n",
       "    <tr style=\"text-align: right;\">\n",
       "      <th></th>\n",
       "      <th>Malic</th>\n",
       "      <th>Ash</th>\n",
       "      <th>Alcalinity</th>\n",
       "      <th>Magnesium</th>\n",
       "      <th>Phenols</th>\n",
       "      <th>Flavanoids</th>\n",
       "      <th>Nonflavanoids</th>\n",
       "      <th>Proanthocyanins</th>\n",
       "      <th>Color</th>\n",
       "      <th>Hue</th>\n",
       "      <th>Dilution</th>\n",
       "      <th>Proline</th>\n",
       "      <th>ClusterID</th>\n",
       "    </tr>\n",
       "  </thead>\n",
       "  <tbody>\n",
       "    <tr>\n",
       "      <th>0</th>\n",
       "      <td>0.217978</td>\n",
       "      <td>0.528846</td>\n",
       "      <td>0.318841</td>\n",
       "      <td>0.919355</td>\n",
       "      <td>0.627586</td>\n",
       "      <td>0.757660</td>\n",
       "      <td>0.283019</td>\n",
       "      <td>0.903846</td>\n",
       "      <td>0.485523</td>\n",
       "      <td>0.549451</td>\n",
       "      <td>0.970696</td>\n",
       "      <td>0.561341</td>\n",
       "      <td>0</td>\n",
       "    </tr>\n",
       "    <tr>\n",
       "      <th>1</th>\n",
       "      <td>0.233708</td>\n",
       "      <td>0.250000</td>\n",
       "      <td>0.000000</td>\n",
       "      <td>0.483871</td>\n",
       "      <td>0.575862</td>\n",
       "      <td>0.674095</td>\n",
       "      <td>0.245283</td>\n",
       "      <td>0.418269</td>\n",
       "      <td>0.345212</td>\n",
       "      <td>0.560440</td>\n",
       "      <td>0.780220</td>\n",
       "      <td>0.550642</td>\n",
       "      <td>2</td>\n",
       "    </tr>\n",
       "    <tr>\n",
       "      <th>2</th>\n",
       "      <td>0.271910</td>\n",
       "      <td>0.596154</td>\n",
       "      <td>0.405797</td>\n",
       "      <td>0.693548</td>\n",
       "      <td>0.989655</td>\n",
       "      <td>0.877437</td>\n",
       "      <td>0.207547</td>\n",
       "      <td>0.850962</td>\n",
       "      <td>0.726058</td>\n",
       "      <td>0.351648</td>\n",
       "      <td>0.798535</td>\n",
       "      <td>0.857347</td>\n",
       "      <td>0</td>\n",
       "    </tr>\n",
       "    <tr>\n",
       "      <th>3</th>\n",
       "      <td>0.415730</td>\n",
       "      <td>0.951923</td>\n",
       "      <td>0.710145</td>\n",
       "      <td>0.774194</td>\n",
       "      <td>0.627586</td>\n",
       "      <td>0.654596</td>\n",
       "      <td>0.490566</td>\n",
       "      <td>0.677885</td>\n",
       "      <td>0.338530</td>\n",
       "      <td>0.549451</td>\n",
       "      <td>0.608059</td>\n",
       "      <td>0.325963</td>\n",
       "      <td>0</td>\n",
       "    </tr>\n",
       "    <tr>\n",
       "      <th>4</th>\n",
       "      <td>0.229213</td>\n",
       "      <td>0.548077</td>\n",
       "      <td>0.289855</td>\n",
       "      <td>0.677419</td>\n",
       "      <td>0.789655</td>\n",
       "      <td>0.849582</td>\n",
       "      <td>0.396226</td>\n",
       "      <td>0.750000</td>\n",
       "      <td>0.609131</td>\n",
       "      <td>0.560440</td>\n",
       "      <td>0.578755</td>\n",
       "      <td>0.835949</td>\n",
       "      <td>0</td>\n",
       "    </tr>\n",
       "  </tbody>\n",
       "</table>\n",
       "</div>"
      ],
      "text/plain": [
       "      Malic       Ash  Alcalinity  Magnesium   Phenols  Flavanoids  \\\n",
       "0  0.217978  0.528846    0.318841   0.919355  0.627586    0.757660   \n",
       "1  0.233708  0.250000    0.000000   0.483871  0.575862    0.674095   \n",
       "2  0.271910  0.596154    0.405797   0.693548  0.989655    0.877437   \n",
       "3  0.415730  0.951923    0.710145   0.774194  0.627586    0.654596   \n",
       "4  0.229213  0.548077    0.289855   0.677419  0.789655    0.849582   \n",
       "\n",
       "   Nonflavanoids  Proanthocyanins     Color       Hue  Dilution   Proline  \\\n",
       "0       0.283019         0.903846  0.485523  0.549451  0.970696  0.561341   \n",
       "1       0.245283         0.418269  0.345212  0.560440  0.780220  0.550642   \n",
       "2       0.207547         0.850962  0.726058  0.351648  0.798535  0.857347   \n",
       "3       0.490566         0.677885  0.338530  0.549451  0.608059  0.325963   \n",
       "4       0.396226         0.750000  0.609131  0.560440  0.578755  0.835949   \n",
       "\n",
       "   ClusterID  \n",
       "0          0  \n",
       "1          2  \n",
       "2          0  \n",
       "3          0  \n",
       "4          0  "
      ]
     },
     "execution_count": 81,
     "metadata": {},
     "output_type": "execute_result"
    }
   ],
   "source": [
    "#Adding cluster column\n",
    "data_std['ClusterID']=wine_data_hc1.labels_\n",
    "data_std.head()"
   ]
  },
  {
   "cell_type": "code",
   "execution_count": 82,
   "id": "b96a4cbc",
   "metadata": {},
   "outputs": [
    {
     "data": {
      "text/html": [
       "<div>\n",
       "<style scoped>\n",
       "    .dataframe tbody tr th:only-of-type {\n",
       "        vertical-align: middle;\n",
       "    }\n",
       "\n",
       "    .dataframe tbody tr th {\n",
       "        vertical-align: top;\n",
       "    }\n",
       "\n",
       "    .dataframe thead th {\n",
       "        text-align: right;\n",
       "    }\n",
       "</style>\n",
       "<table border=\"1\" class=\"dataframe\">\n",
       "  <thead>\n",
       "    <tr style=\"text-align: right;\">\n",
       "      <th></th>\n",
       "      <th>Malic</th>\n",
       "      <th>Ash</th>\n",
       "      <th>Alcalinity</th>\n",
       "      <th>Magnesium</th>\n",
       "      <th>Phenols</th>\n",
       "      <th>Flavanoids</th>\n",
       "      <th>Nonflavanoids</th>\n",
       "      <th>Proanthocyanins</th>\n",
       "      <th>Color</th>\n",
       "      <th>Hue</th>\n",
       "      <th>Dilution</th>\n",
       "      <th>Proline</th>\n",
       "    </tr>\n",
       "    <tr>\n",
       "      <th>ClusterID</th>\n",
       "      <th></th>\n",
       "      <th></th>\n",
       "      <th></th>\n",
       "      <th></th>\n",
       "      <th></th>\n",
       "      <th></th>\n",
       "      <th></th>\n",
       "      <th></th>\n",
       "      <th></th>\n",
       "      <th></th>\n",
       "      <th></th>\n",
       "      <th></th>\n",
       "    </tr>\n",
       "  </thead>\n",
       "  <tbody>\n",
       "    <tr>\n",
       "      <th>0</th>\n",
       "      <td>0.231835</td>\n",
       "      <td>0.631410</td>\n",
       "      <td>0.476329</td>\n",
       "      <td>0.663978</td>\n",
       "      <td>0.671724</td>\n",
       "      <td>0.760353</td>\n",
       "      <td>0.341509</td>\n",
       "      <td>0.726763</td>\n",
       "      <td>0.523237</td>\n",
       "      <td>0.615751</td>\n",
       "      <td>0.642125</td>\n",
       "      <td>0.633928</td>\n",
       "    </tr>\n",
       "    <tr>\n",
       "      <th>1</th>\n",
       "      <td>0.227341</td>\n",
       "      <td>0.336859</td>\n",
       "      <td>0.626812</td>\n",
       "      <td>0.326344</td>\n",
       "      <td>0.529770</td>\n",
       "      <td>0.563417</td>\n",
       "      <td>0.310692</td>\n",
       "      <td>0.614744</td>\n",
       "      <td>0.198998</td>\n",
       "      <td>0.539560</td>\n",
       "      <td>0.682784</td>\n",
       "      <td>0.177936</td>\n",
       "    </tr>\n",
       "    <tr>\n",
       "      <th>2</th>\n",
       "      <td>0.362104</td>\n",
       "      <td>0.425699</td>\n",
       "      <td>0.349144</td>\n",
       "      <td>0.510264</td>\n",
       "      <td>0.600784</td>\n",
       "      <td>0.690808</td>\n",
       "      <td>0.242710</td>\n",
       "      <td>0.635490</td>\n",
       "      <td>0.411723</td>\n",
       "      <td>0.498501</td>\n",
       "      <td>0.733433</td>\n",
       "      <td>0.542861</td>\n",
       "    </tr>\n",
       "    <tr>\n",
       "      <th>3</th>\n",
       "      <td>0.205693</td>\n",
       "      <td>0.500641</td>\n",
       "      <td>0.766667</td>\n",
       "      <td>0.287097</td>\n",
       "      <td>0.305287</td>\n",
       "      <td>0.394986</td>\n",
       "      <td>0.632704</td>\n",
       "      <td>0.470513</td>\n",
       "      <td>0.174981</td>\n",
       "      <td>0.600000</td>\n",
       "      <td>0.502076</td>\n",
       "      <td>0.146743</td>\n",
       "    </tr>\n",
       "    <tr>\n",
       "      <th>4</th>\n",
       "      <td>0.653814</td>\n",
       "      <td>0.527328</td>\n",
       "      <td>0.752098</td>\n",
       "      <td>0.478778</td>\n",
       "      <td>0.233031</td>\n",
       "      <td>0.128574</td>\n",
       "      <td>0.571003</td>\n",
       "      <td>0.385881</td>\n",
       "      <td>0.830735</td>\n",
       "      <td>0.096588</td>\n",
       "      <td>0.139965</td>\n",
       "      <td>0.260455</td>\n",
       "    </tr>\n",
       "    <tr>\n",
       "      <th>5</th>\n",
       "      <td>0.548510</td>\n",
       "      <td>0.464047</td>\n",
       "      <td>0.667612</td>\n",
       "      <td>0.417952</td>\n",
       "      <td>0.210045</td>\n",
       "      <td>0.126680</td>\n",
       "      <td>0.603774</td>\n",
       "      <td>0.256271</td>\n",
       "      <td>0.417691</td>\n",
       "      <td>0.237936</td>\n",
       "      <td>0.193343</td>\n",
       "      <td>0.229424</td>\n",
       "    </tr>\n",
       "    <tr>\n",
       "      <th>6</th>\n",
       "      <td>0.187801</td>\n",
       "      <td>0.244505</td>\n",
       "      <td>0.453416</td>\n",
       "      <td>0.523041</td>\n",
       "      <td>0.308867</td>\n",
       "      <td>0.283327</td>\n",
       "      <td>0.609164</td>\n",
       "      <td>0.197115</td>\n",
       "      <td>0.262965</td>\n",
       "      <td>0.595918</td>\n",
       "      <td>0.274202</td>\n",
       "      <td>0.240677</td>\n",
       "    </tr>\n",
       "  </tbody>\n",
       "</table>\n",
       "</div>"
      ],
      "text/plain": [
       "              Malic       Ash  Alcalinity  Magnesium   Phenols  Flavanoids  \\\n",
       "ClusterID                                                                    \n",
       "0          0.231835  0.631410    0.476329   0.663978  0.671724    0.760353   \n",
       "1          0.227341  0.336859    0.626812   0.326344  0.529770    0.563417   \n",
       "2          0.362104  0.425699    0.349144   0.510264  0.600784    0.690808   \n",
       "3          0.205693  0.500641    0.766667   0.287097  0.305287    0.394986   \n",
       "4          0.653814  0.527328    0.752098   0.478778  0.233031    0.128574   \n",
       "5          0.548510  0.464047    0.667612   0.417952  0.210045    0.126680   \n",
       "6          0.187801  0.244505    0.453416   0.523041  0.308867    0.283327   \n",
       "\n",
       "           Nonflavanoids  Proanthocyanins     Color       Hue  Dilution  \\\n",
       "ClusterID                                                                 \n",
       "0               0.341509         0.726763  0.523237  0.615751  0.642125   \n",
       "1               0.310692         0.614744  0.198998  0.539560  0.682784   \n",
       "2               0.242710         0.635490  0.411723  0.498501  0.733433   \n",
       "3               0.632704         0.470513  0.174981  0.600000  0.502076   \n",
       "4               0.571003         0.385881  0.830735  0.096588  0.139965   \n",
       "5               0.603774         0.256271  0.417691  0.237936  0.193343   \n",
       "6               0.609164         0.197115  0.262965  0.595918  0.274202   \n",
       "\n",
       "            Proline  \n",
       "ClusterID            \n",
       "0          0.633928  \n",
       "1          0.177936  \n",
       "2          0.542861  \n",
       "3          0.146743  \n",
       "4          0.260455  \n",
       "5          0.229424  \n",
       "6          0.240677  "
      ]
     },
     "execution_count": 82,
     "metadata": {},
     "output_type": "execute_result"
    }
   ],
   "source": [
    "#Grouping Clusters\n",
    "data_std.groupby('ClusterID').mean()"
   ]
  },
  {
   "cell_type": "markdown",
   "id": "e79e7b7b",
   "metadata": {},
   "source": [
    "# Observation:"
   ]
  },
  {
   "cell_type": "markdown",
   "id": "ba0628f4",
   "metadata": {},
   "source": [
    "Silhouette score (Hierarchical Clustering) :\n",
    "\n",
    "With PCA : 0.4468\n",
    "\n",
    "Without PCA : 0.1313\n",
    "\n",
    "From this, we can say that Hierarchical clustering model done with the help of PCA is better than without PCA.  "
   ]
  },
  {
   "cell_type": "markdown",
   "id": "756522e8",
   "metadata": {},
   "source": [
    "# Kmeans with PCA "
   ]
  },
  {
   "cell_type": "code",
   "execution_count": 83,
   "id": "7a260051",
   "metadata": {},
   "outputs": [
    {
     "data": {
      "text/html": [
       "<div>\n",
       "<style scoped>\n",
       "    .dataframe tbody tr th:only-of-type {\n",
       "        vertical-align: middle;\n",
       "    }\n",
       "\n",
       "    .dataframe tbody tr th {\n",
       "        vertical-align: top;\n",
       "    }\n",
       "\n",
       "    .dataframe thead th {\n",
       "        text-align: right;\n",
       "    }\n",
       "</style>\n",
       "<table border=\"1\" class=\"dataframe\">\n",
       "  <thead>\n",
       "    <tr style=\"text-align: right;\">\n",
       "      <th></th>\n",
       "      <th>PC1</th>\n",
       "      <th>PC2</th>\n",
       "      <th>PC3</th>\n",
       "    </tr>\n",
       "  </thead>\n",
       "  <tbody>\n",
       "    <tr>\n",
       "      <th>0</th>\n",
       "      <td>-0.786464</td>\n",
       "      <td>-0.279556</td>\n",
       "      <td>-0.050088</td>\n",
       "    </tr>\n",
       "    <tr>\n",
       "      <th>1</th>\n",
       "      <td>-0.516875</td>\n",
       "      <td>0.057644</td>\n",
       "      <td>-0.396808</td>\n",
       "    </tr>\n",
       "    <tr>\n",
       "      <th>2</th>\n",
       "      <td>-0.846894</td>\n",
       "      <td>-0.612955</td>\n",
       "      <td>-0.118937</td>\n",
       "    </tr>\n",
       "    <tr>\n",
       "      <th>3</th>\n",
       "      <td>-0.278512</td>\n",
       "      <td>-0.232976</td>\n",
       "      <td>0.501861</td>\n",
       "    </tr>\n",
       "    <tr>\n",
       "      <th>4</th>\n",
       "      <td>-0.681599</td>\n",
       "      <td>-0.449064</td>\n",
       "      <td>-0.047141</td>\n",
       "    </tr>\n",
       "  </tbody>\n",
       "</table>\n",
       "</div>"
      ],
      "text/plain": [
       "        PC1       PC2       PC3\n",
       "0 -0.786464 -0.279556 -0.050088\n",
       "1 -0.516875  0.057644 -0.396808\n",
       "2 -0.846894 -0.612955 -0.118937\n",
       "3 -0.278512 -0.232976  0.501861\n",
       "4 -0.681599 -0.449064 -0.047141"
      ]
     },
     "execution_count": 83,
     "metadata": {},
     "output_type": "execute_result"
    }
   ],
   "source": [
    "#Kmeans with PCA\n",
    "wine_data_pca.drop(wine_data_pca.columns[-1], axis=1, inplace=True)\n",
    "wine_data_pca.head()"
   ]
  },
  {
   "cell_type": "code",
   "execution_count": 85,
   "id": "29331c63",
   "metadata": {},
   "outputs": [
    {
     "data": {
      "image/png": "[encoded data removed]",
      "text/plain": [
       "<Figure size 576x360 with 1 Axes>"
      ]
     },
     "metadata": {
      "needs_background": "light"
     },
     "output_type": "display_data"
    }
   ],
   "source": [
    "#'Elbow' curve\n",
    "plt.figure(figsize=[8,5])\n",
    "\n",
    "wcss=[]\n",
    "for i in range(1,6):\n",
    "    kmeans=KMeans(n_clusters=i, init='k-means++')\n",
    "    kmeans.fit(wine_data_pca)\n",
    "    wcss.append(kmeans.inertia_)\n",
    "    \n",
    "plt.plot(range(1,6), wcss,'bo-', color = 'g')\n",
    "plt.title('Elbow Method')\n",
    "plt.xlabel('K value')\n",
    "plt.ylabel('WCSS')\n",
    "plt.show()"
   ]
  },
  {
   "cell_type": "code",
   "execution_count": 86,
   "id": "cac66901",
   "metadata": {},
   "outputs": [
    {
     "data": {
      "text/html": [
       "<style>#sk-container-id-1 {color: black;background-color: white;}#sk-container-id-1 pre{padding: 0;}#sk-container-id-1 div.sk-toggleable {background-color: white;}#sk-container-id-1 label.sk-toggleable__label {cursor: pointer;display: block;width: 100%;margin-bottom: 0;padding: 0.3em;box-sizing: border-box;text-align: center;}#sk-container-id-1 label.sk-toggleable__label-arrow:before {content: \"▸\";float: left;margin-right: 0.25em;color: #696969;}#sk-container-id-1 label.sk-toggleable__label-arrow:hover:before {color: black;}#sk-container-id-1 div.sk-estimator:hover label.sk-toggleable__label-arrow:before {color: black;}#sk-container-id-1 div.sk-toggleable__content {max-height: 0;max-width: 0;overflow: hidden;text-align: left;background-color: #f0f8ff;}#sk-container-id-1 div.sk-toggleable__content pre {margin: 0.2em;color: black;border-radius: 0.25em;background-color: #f0f8ff;}#sk-container-id-1 input.sk-toggleable__control:checked~div.sk-toggleable__content {max-height: 200px;max-width: 100%;overflow: auto;}#sk-container-id-1 input.sk-toggleable__control:checked~label.sk-toggleable__label-arrow:before {content: \"▾\";}#sk-container-id-1 div.sk-estimator input.sk-toggleable__control:checked~label.sk-toggleable__label {background-color: #d4ebff;}#sk-container-id-1 div.sk-label input.sk-toggleable__control:checked~label.sk-toggleable__label {background-color: #d4ebff;}#sk-container-id-1 input.sk-hidden--visually {border: 0;clip: rect(1px 1px 1px 1px);clip: rect(1px, 1px, 1px, 1px);height: 1px;margin: -1px;overflow: hidden;padding: 0;position: absolute;width: 1px;}#sk-container-id-1 div.sk-estimator {font-family: monospace;background-color: #f0f8ff;border: 1px dotted black;border-radius: 0.25em;box-sizing: border-box;margin-bottom: 0.5em;}#sk-container-id-1 div.sk-estimator:hover {background-color: #d4ebff;}#sk-container-id-1 div.sk-parallel-item::after {content: \"\";width: 100%;border-bottom: 1px solid gray;flex-grow: 1;}#sk-container-id-1 div.sk-label:hover label.sk-toggleable__label {background-color: #d4ebff;}#sk-container-id-1 div.sk-serial::before {content: \"\";position: absolute;border-left: 1px solid gray;box-sizing: border-box;top: 0;bottom: 0;left: 50%;z-index: 0;}#sk-container-id-1 div.sk-serial {display: flex;flex-direction: column;align-items: center;background-color: white;padding-right: 0.2em;padding-left: 0.2em;position: relative;}#sk-container-id-1 div.sk-item {position: relative;z-index: 1;}#sk-container-id-1 div.sk-parallel {display: flex;align-items: stretch;justify-content: center;background-color: white;position: relative;}#sk-container-id-1 div.sk-item::before, #sk-container-id-1 div.sk-parallel-item::before {content: \"\";position: absolute;border-left: 1px solid gray;box-sizing: border-box;top: 0;bottom: 0;left: 50%;z-index: -1;}#sk-container-id-1 div.sk-parallel-item {display: flex;flex-direction: column;z-index: 1;position: relative;background-color: white;}#sk-container-id-1 div.sk-parallel-item:first-child::after {align-self: flex-end;width: 50%;}#sk-container-id-1 div.sk-parallel-item:last-child::after {align-self: flex-start;width: 50%;}#sk-container-id-1 div.sk-parallel-item:only-child::after {width: 0;}#sk-container-id-1 div.sk-dashed-wrapped {border: 1px dashed gray;margin: 0 0.4em 0.5em 0.4em;box-sizing: border-box;padding-bottom: 0.4em;background-color: white;}#sk-container-id-1 div.sk-label label {font-family: monospace;font-weight: bold;display: inline-block;line-height: 1.2em;}#sk-container-id-1 div.sk-label-container {text-align: center;}#sk-container-id-1 div.sk-container {/* jupyter's `normalize.less` sets `[hidden] { display: none; }` but bootstrap.min.css set `[hidden] { display: none !important; }` so we also need the `!important` here to be able to override the default hidden behavior on the sphinx rendered scikit-learn.org. See: https://github.com/scikit-learn/scikit-learn/issues/21755 */display: inline-block !important;position: relative;}#sk-container-id-1 div.sk-text-repr-fallback {display: none;}</style><div id=\"sk-container-id-1\" class=\"sk-top-container\"><div class=\"sk-text-repr-fallback\"><pre>KMeans(n_clusters=3)</pre><b>In a Jupyter environment, please rerun this cell to show the HTML representation or trust the notebook. <br />On GitHub, the HTML representation is unable to render, please try loading this page with nbviewer.org.</b></div><div class=\"sk-container\" hidden><div class=\"sk-item\"><div class=\"sk-estimator sk-toggleable\"><input class=\"sk-toggleable__control sk-hidden--visually\" id=\"sk-estimator-id-1\" type=\"checkbox\" checked><label for=\"sk-estimator-id-1\" class=\"sk-toggleable__label sk-toggleable__label-arrow\">KMeans</label><div class=\"sk-toggleable__content\"><pre>KMeans(n_clusters=3)</pre></div></div></div></div></div>"
      ],
      "text/plain": [
       "KMeans(n_clusters=3)"
      ]
     },
     "execution_count": 86,
     "metadata": {},
     "output_type": "execute_result"
    }
   ],
   "source": [
    "#From above elbow method curve, we will select K value as '3'.\n",
    "wine_kmeans=KMeans(n_clusters=3).fit(wine_data_pca)\n",
    "wine_kmeans"
   ]
  },
  {
   "cell_type": "code",
   "execution_count": 87,
   "id": "213a94a6",
   "metadata": {},
   "outputs": [
    {
     "data": {
      "text/plain": [
       "array([2, 2, 2, 2, 2, 2, 2, 2, 2, 2, 2, 2, 2, 2, 2, 2, 2, 2, 2, 2, 2, 2,\n",
       "       2, 2, 2, 2, 2, 2, 2, 2, 2, 2, 2, 2, 2, 2, 2, 2, 2, 2, 2, 2, 2, 2,\n",
       "       2, 2, 2, 2, 2, 2, 2, 2, 2, 2, 0, 1, 0, 2, 0, 2, 0, 0, 0, 0, 0, 2,\n",
       "       0, 0, 0, 0, 0, 0, 1, 2, 0, 0, 0, 0, 0, 0, 0, 0, 0, 0, 2, 0, 0, 0,\n",
       "       0, 0, 0, 0, 0, 2, 0, 0, 0, 0, 0, 0, 1, 0, 2, 0, 0, 0, 0, 1, 1, 1,\n",
       "       1, 1, 1, 1, 1, 1, 1, 1, 1, 1, 1, 1, 1, 1, 1, 1, 1, 1, 1, 1, 1, 1,\n",
       "       1, 1, 1, 1, 1, 1, 1, 1, 1, 1, 1, 1, 1, 1])"
      ]
     },
     "execution_count": 87,
     "metadata": {},
     "output_type": "execute_result"
    }
   ],
   "source": [
    "wine_kmeans.labels_"
   ]
  },
  {
   "cell_type": "code",
   "execution_count": 88,
   "id": "e47bc099",
   "metadata": {},
   "outputs": [
    {
     "data": {
      "text/plain": [
       "0.4707"
      ]
     },
     "execution_count": 88,
     "metadata": {},
     "output_type": "execute_result"
    }
   ],
   "source": [
    "#Calculating 'Silhouette' score\n",
    "round(sklearn.metrics.silhouette_score(wine_data_pca, wine_kmeans.labels_),4)"
   ]
  },
  {
   "cell_type": "code",
   "execution_count": 89,
   "id": "a3ae9b58",
   "metadata": {},
   "outputs": [],
   "source": [
    "#Adding cluster column\n",
    "wine_data_pca['ClusterID_kmeans']=wine_kmeans.labels_"
   ]
  },
  {
   "cell_type": "code",
   "execution_count": 90,
   "id": "6f0164b2",
   "metadata": {},
   "outputs": [
    {
     "data": {
      "text/html": [
       "<div>\n",
       "<style scoped>\n",
       "    .dataframe tbody tr th:only-of-type {\n",
       "        vertical-align: middle;\n",
       "    }\n",
       "\n",
       "    .dataframe tbody tr th {\n",
       "        vertical-align: top;\n",
       "    }\n",
       "\n",
       "    .dataframe thead th {\n",
       "        text-align: right;\n",
       "    }\n",
       "</style>\n",
       "<table border=\"1\" class=\"dataframe\">\n",
       "  <thead>\n",
       "    <tr style=\"text-align: right;\">\n",
       "      <th></th>\n",
       "      <th>PC1</th>\n",
       "      <th>PC2</th>\n",
       "      <th>PC3</th>\n",
       "      <th>ClusterID_kmeans</th>\n",
       "    </tr>\n",
       "  </thead>\n",
       "  <tbody>\n",
       "    <tr>\n",
       "      <th>0</th>\n",
       "      <td>-0.786464</td>\n",
       "      <td>-0.279556</td>\n",
       "      <td>-0.050088</td>\n",
       "      <td>2</td>\n",
       "    </tr>\n",
       "    <tr>\n",
       "      <th>1</th>\n",
       "      <td>-0.516875</td>\n",
       "      <td>0.057644</td>\n",
       "      <td>-0.396808</td>\n",
       "      <td>2</td>\n",
       "    </tr>\n",
       "    <tr>\n",
       "      <th>2</th>\n",
       "      <td>-0.846894</td>\n",
       "      <td>-0.612955</td>\n",
       "      <td>-0.118937</td>\n",
       "      <td>2</td>\n",
       "    </tr>\n",
       "    <tr>\n",
       "      <th>3</th>\n",
       "      <td>-0.278512</td>\n",
       "      <td>-0.232976</td>\n",
       "      <td>0.501861</td>\n",
       "      <td>2</td>\n",
       "    </tr>\n",
       "    <tr>\n",
       "      <th>4</th>\n",
       "      <td>-0.681599</td>\n",
       "      <td>-0.449064</td>\n",
       "      <td>-0.047141</td>\n",
       "      <td>2</td>\n",
       "    </tr>\n",
       "  </tbody>\n",
       "</table>\n",
       "</div>"
      ],
      "text/plain": [
       "        PC1       PC2       PC3  ClusterID_kmeans\n",
       "0 -0.786464 -0.279556 -0.050088                 2\n",
       "1 -0.516875  0.057644 -0.396808                 2\n",
       "2 -0.846894 -0.612955 -0.118937                 2\n",
       "3 -0.278512 -0.232976  0.501861                 2\n",
       "4 -0.681599 -0.449064 -0.047141                 2"
      ]
     },
     "execution_count": 90,
     "metadata": {},
     "output_type": "execute_result"
    }
   ],
   "source": [
    "wine_data_pca.head()"
   ]
  },
  {
   "cell_type": "code",
   "execution_count": 91,
   "id": "56d13545",
   "metadata": {},
   "outputs": [
    {
     "data": {
      "text/html": [
       "<div>\n",
       "<style scoped>\n",
       "    .dataframe tbody tr th:only-of-type {\n",
       "        vertical-align: middle;\n",
       "    }\n",
       "\n",
       "    .dataframe tbody tr th {\n",
       "        vertical-align: top;\n",
       "    }\n",
       "\n",
       "    .dataframe thead th {\n",
       "        text-align: right;\n",
       "    }\n",
       "</style>\n",
       "<table border=\"1\" class=\"dataframe\">\n",
       "  <thead>\n",
       "    <tr style=\"text-align: right;\">\n",
       "      <th></th>\n",
       "      <th>PC1</th>\n",
       "      <th>PC2</th>\n",
       "      <th>PC3</th>\n",
       "    </tr>\n",
       "    <tr>\n",
       "      <th>ClusterID_kmeans</th>\n",
       "      <th></th>\n",
       "      <th></th>\n",
       "      <th></th>\n",
       "    </tr>\n",
       "  </thead>\n",
       "  <tbody>\n",
       "    <tr>\n",
       "      <th>0</th>\n",
       "      <td>0.038888</td>\n",
       "      <td>0.408717</td>\n",
       "      <td>0.045354</td>\n",
       "    </tr>\n",
       "    <tr>\n",
       "      <th>1</th>\n",
       "      <td>0.708718</td>\n",
       "      <td>-0.196318</td>\n",
       "      <td>-0.039170</td>\n",
       "    </tr>\n",
       "    <tr>\n",
       "      <th>2</th>\n",
       "      <td>-0.515382</td>\n",
       "      <td>-0.152942</td>\n",
       "      <td>-0.005002</td>\n",
       "    </tr>\n",
       "  </tbody>\n",
       "</table>\n",
       "</div>"
      ],
      "text/plain": [
       "                       PC1       PC2       PC3\n",
       "ClusterID_kmeans                              \n",
       "0                 0.038888  0.408717  0.045354\n",
       "1                 0.708718 -0.196318 -0.039170\n",
       "2                -0.515382 -0.152942 -0.005002"
      ]
     },
     "execution_count": 91,
     "metadata": {},
     "output_type": "execute_result"
    }
   ],
   "source": [
    "#Grouping cluster\n",
    "wine_data_pca.groupby('ClusterID_kmeans').mean()"
   ]
  },
  {
   "cell_type": "markdown",
   "id": "f3d4cba1",
   "metadata": {},
   "source": [
    "# Kmeans without PCA "
   ]
  },
  {
   "cell_type": "code",
   "execution_count": 92,
   "id": "42060289",
   "metadata": {},
   "outputs": [
    {
     "data": {
      "text/html": [
       "<div>\n",
       "<style scoped>\n",
       "    .dataframe tbody tr th:only-of-type {\n",
       "        vertical-align: middle;\n",
       "    }\n",
       "\n",
       "    .dataframe tbody tr th {\n",
       "        vertical-align: top;\n",
       "    }\n",
       "\n",
       "    .dataframe thead th {\n",
       "        text-align: right;\n",
       "    }\n",
       "</style>\n",
       "<table border=\"1\" class=\"dataframe\">\n",
       "  <thead>\n",
       "    <tr style=\"text-align: right;\">\n",
       "      <th></th>\n",
       "      <th>Malic</th>\n",
       "      <th>Ash</th>\n",
       "      <th>Alcalinity</th>\n",
       "      <th>Magnesium</th>\n",
       "      <th>Phenols</th>\n",
       "      <th>Flavanoids</th>\n",
       "      <th>Nonflavanoids</th>\n",
       "      <th>Proanthocyanins</th>\n",
       "      <th>Color</th>\n",
       "      <th>Hue</th>\n",
       "      <th>Dilution</th>\n",
       "      <th>Proline</th>\n",
       "    </tr>\n",
       "  </thead>\n",
       "  <tbody>\n",
       "    <tr>\n",
       "      <th>0</th>\n",
       "      <td>0.217978</td>\n",
       "      <td>0.528846</td>\n",
       "      <td>0.318841</td>\n",
       "      <td>0.919355</td>\n",
       "      <td>0.627586</td>\n",
       "      <td>0.757660</td>\n",
       "      <td>0.283019</td>\n",
       "      <td>0.903846</td>\n",
       "      <td>0.485523</td>\n",
       "      <td>0.549451</td>\n",
       "      <td>0.970696</td>\n",
       "      <td>0.561341</td>\n",
       "    </tr>\n",
       "    <tr>\n",
       "      <th>1</th>\n",
       "      <td>0.233708</td>\n",
       "      <td>0.250000</td>\n",
       "      <td>0.000000</td>\n",
       "      <td>0.483871</td>\n",
       "      <td>0.575862</td>\n",
       "      <td>0.674095</td>\n",
       "      <td>0.245283</td>\n",
       "      <td>0.418269</td>\n",
       "      <td>0.345212</td>\n",
       "      <td>0.560440</td>\n",
       "      <td>0.780220</td>\n",
       "      <td>0.550642</td>\n",
       "    </tr>\n",
       "    <tr>\n",
       "      <th>2</th>\n",
       "      <td>0.271910</td>\n",
       "      <td>0.596154</td>\n",
       "      <td>0.405797</td>\n",
       "      <td>0.693548</td>\n",
       "      <td>0.989655</td>\n",
       "      <td>0.877437</td>\n",
       "      <td>0.207547</td>\n",
       "      <td>0.850962</td>\n",
       "      <td>0.726058</td>\n",
       "      <td>0.351648</td>\n",
       "      <td>0.798535</td>\n",
       "      <td>0.857347</td>\n",
       "    </tr>\n",
       "    <tr>\n",
       "      <th>3</th>\n",
       "      <td>0.415730</td>\n",
       "      <td>0.951923</td>\n",
       "      <td>0.710145</td>\n",
       "      <td>0.774194</td>\n",
       "      <td>0.627586</td>\n",
       "      <td>0.654596</td>\n",
       "      <td>0.490566</td>\n",
       "      <td>0.677885</td>\n",
       "      <td>0.338530</td>\n",
       "      <td>0.549451</td>\n",
       "      <td>0.608059</td>\n",
       "      <td>0.325963</td>\n",
       "    </tr>\n",
       "    <tr>\n",
       "      <th>4</th>\n",
       "      <td>0.229213</td>\n",
       "      <td>0.548077</td>\n",
       "      <td>0.289855</td>\n",
       "      <td>0.677419</td>\n",
       "      <td>0.789655</td>\n",
       "      <td>0.849582</td>\n",
       "      <td>0.396226</td>\n",
       "      <td>0.750000</td>\n",
       "      <td>0.609131</td>\n",
       "      <td>0.560440</td>\n",
       "      <td>0.578755</td>\n",
       "      <td>0.835949</td>\n",
       "    </tr>\n",
       "  </tbody>\n",
       "</table>\n",
       "</div>"
      ],
      "text/plain": [
       "      Malic       Ash  Alcalinity  Magnesium   Phenols  Flavanoids  \\\n",
       "0  0.217978  0.528846    0.318841   0.919355  0.627586    0.757660   \n",
       "1  0.233708  0.250000    0.000000   0.483871  0.575862    0.674095   \n",
       "2  0.271910  0.596154    0.405797   0.693548  0.989655    0.877437   \n",
       "3  0.415730  0.951923    0.710145   0.774194  0.627586    0.654596   \n",
       "4  0.229213  0.548077    0.289855   0.677419  0.789655    0.849582   \n",
       "\n",
       "   Nonflavanoids  Proanthocyanins     Color       Hue  Dilution   Proline  \n",
       "0       0.283019         0.903846  0.485523  0.549451  0.970696  0.561341  \n",
       "1       0.245283         0.418269  0.345212  0.560440  0.780220  0.550642  \n",
       "2       0.207547         0.850962  0.726058  0.351648  0.798535  0.857347  \n",
       "3       0.490566         0.677885  0.338530  0.549451  0.608059  0.325963  \n",
       "4       0.396226         0.750000  0.609131  0.560440  0.578755  0.835949  "
      ]
     },
     "execution_count": 92,
     "metadata": {},
     "output_type": "execute_result"
    }
   ],
   "source": [
    "#Kmeans without PCA\n",
    "data_std.drop(data_std.columns[-1], axis=1, inplace=True)\n",
    "data_std.head()"
   ]
  },
  {
   "cell_type": "code",
   "execution_count": 93,
   "id": "10ee43aa",
   "metadata": {},
   "outputs": [
    {
     "data": {
      "image/png": "[encoded data removed]",
      "text/plain": [
       "<Figure size 576x360 with 1 Axes>"
      ]
     },
     "metadata": {
      "needs_background": "light"
     },
     "output_type": "display_data"
    }
   ],
   "source": [
    "#'Elbow' Curve\n",
    "plt.figure(figsize=[8,5])\n",
    "\n",
    "wcss=[]\n",
    "for i in range(1,6):\n",
    "    kmeans=KMeans(n_clusters=i, init='k-means++')\n",
    "    kmeans.fit(data_std)\n",
    "    wcss.append(kmeans.inertia_)\n",
    "    \n",
    "plt.plot(range(1,6), wcss,'bo-', color = 'g')\n",
    "plt.title('Elbow Method')\n",
    "plt.xlabel('K value')\n",
    "plt.ylabel('WCSS')\n",
    "plt.show()"
   ]
  },
  {
   "cell_type": "code",
   "execution_count": 94,
   "id": "3227e40d",
   "metadata": {},
   "outputs": [
    {
     "data": {
      "text/plain": [
       "array([0, 0, 0, 0, 0, 0, 0, 0, 0, 0, 0, 0, 0, 0, 0, 0, 0, 0, 0, 0, 0, 0,\n",
       "       0, 0, 0, 0, 0, 0, 0, 0, 0, 0, 0, 0, 0, 0, 0, 0, 0, 0, 0, 0, 0, 0,\n",
       "       0, 0, 0, 0, 0, 0, 0, 0, 0, 0, 2, 1, 2, 0, 2, 0, 2, 2, 2, 2, 2, 0,\n",
       "       2, 2, 2, 2, 2, 2, 1, 2, 2, 2, 2, 2, 2, 2, 2, 2, 2, 2, 0, 2, 2, 2,\n",
       "       2, 2, 2, 2, 2, 0, 2, 2, 2, 2, 2, 2, 1, 2, 0, 2, 2, 2, 2, 1, 1, 1,\n",
       "       1, 1, 1, 1, 1, 1, 1, 1, 1, 1, 1, 1, 1, 1, 1, 1, 1, 1, 1, 1, 1, 1,\n",
       "       1, 1, 1, 1, 1, 1, 1, 1, 1, 1, 1, 1, 1, 1])"
      ]
     },
     "execution_count": 94,
     "metadata": {},
     "output_type": "execute_result"
    }
   ],
   "source": [
    "#above elbow method curve, we will select K value '3'\n",
    "wine_kmeans1=KMeans(n_clusters=3).fit(data_std)\n",
    "wine_kmeans1.labels_"
   ]
  },
  {
   "cell_type": "code",
   "execution_count": 95,
   "id": "80e6c950",
   "metadata": {},
   "outputs": [
    {
     "data": {
      "text/plain": [
       "0.2992"
      ]
     },
     "execution_count": 95,
     "metadata": {},
     "output_type": "execute_result"
    }
   ],
   "source": [
    "#Calculating 'Silhouette' score\n",
    "round(sklearn.metrics.silhouette_score(data_std, wine_kmeans1.labels_),4)"
   ]
  },
  {
   "cell_type": "code",
   "execution_count": 96,
   "id": "8c9aef7c",
   "metadata": {},
   "outputs": [
    {
     "data": {
      "text/html": [
       "<div>\n",
       "<style scoped>\n",
       "    .dataframe tbody tr th:only-of-type {\n",
       "        vertical-align: middle;\n",
       "    }\n",
       "\n",
       "    .dataframe tbody tr th {\n",
       "        vertical-align: top;\n",
       "    }\n",
       "\n",
       "    .dataframe thead th {\n",
       "        text-align: right;\n",
       "    }\n",
       "</style>\n",
       "<table border=\"1\" class=\"dataframe\">\n",
       "  <thead>\n",
       "    <tr style=\"text-align: right;\">\n",
       "      <th></th>\n",
       "      <th>Malic</th>\n",
       "      <th>Ash</th>\n",
       "      <th>Alcalinity</th>\n",
       "      <th>Magnesium</th>\n",
       "      <th>Phenols</th>\n",
       "      <th>Flavanoids</th>\n",
       "      <th>Nonflavanoids</th>\n",
       "      <th>Proanthocyanins</th>\n",
       "      <th>Color</th>\n",
       "      <th>Hue</th>\n",
       "      <th>Dilution</th>\n",
       "      <th>Proline</th>\n",
       "      <th>ClusterID</th>\n",
       "    </tr>\n",
       "  </thead>\n",
       "  <tbody>\n",
       "    <tr>\n",
       "      <th>0</th>\n",
       "      <td>0.217978</td>\n",
       "      <td>0.528846</td>\n",
       "      <td>0.318841</td>\n",
       "      <td>0.919355</td>\n",
       "      <td>0.627586</td>\n",
       "      <td>0.757660</td>\n",
       "      <td>0.283019</td>\n",
       "      <td>0.903846</td>\n",
       "      <td>0.485523</td>\n",
       "      <td>0.549451</td>\n",
       "      <td>0.970696</td>\n",
       "      <td>0.561341</td>\n",
       "      <td>0</td>\n",
       "    </tr>\n",
       "    <tr>\n",
       "      <th>1</th>\n",
       "      <td>0.233708</td>\n",
       "      <td>0.250000</td>\n",
       "      <td>0.000000</td>\n",
       "      <td>0.483871</td>\n",
       "      <td>0.575862</td>\n",
       "      <td>0.674095</td>\n",
       "      <td>0.245283</td>\n",
       "      <td>0.418269</td>\n",
       "      <td>0.345212</td>\n",
       "      <td>0.560440</td>\n",
       "      <td>0.780220</td>\n",
       "      <td>0.550642</td>\n",
       "      <td>0</td>\n",
       "    </tr>\n",
       "    <tr>\n",
       "      <th>2</th>\n",
       "      <td>0.271910</td>\n",
       "      <td>0.596154</td>\n",
       "      <td>0.405797</td>\n",
       "      <td>0.693548</td>\n",
       "      <td>0.989655</td>\n",
       "      <td>0.877437</td>\n",
       "      <td>0.207547</td>\n",
       "      <td>0.850962</td>\n",
       "      <td>0.726058</td>\n",
       "      <td>0.351648</td>\n",
       "      <td>0.798535</td>\n",
       "      <td>0.857347</td>\n",
       "      <td>0</td>\n",
       "    </tr>\n",
       "    <tr>\n",
       "      <th>3</th>\n",
       "      <td>0.415730</td>\n",
       "      <td>0.951923</td>\n",
       "      <td>0.710145</td>\n",
       "      <td>0.774194</td>\n",
       "      <td>0.627586</td>\n",
       "      <td>0.654596</td>\n",
       "      <td>0.490566</td>\n",
       "      <td>0.677885</td>\n",
       "      <td>0.338530</td>\n",
       "      <td>0.549451</td>\n",
       "      <td>0.608059</td>\n",
       "      <td>0.325963</td>\n",
       "      <td>0</td>\n",
       "    </tr>\n",
       "    <tr>\n",
       "      <th>4</th>\n",
       "      <td>0.229213</td>\n",
       "      <td>0.548077</td>\n",
       "      <td>0.289855</td>\n",
       "      <td>0.677419</td>\n",
       "      <td>0.789655</td>\n",
       "      <td>0.849582</td>\n",
       "      <td>0.396226</td>\n",
       "      <td>0.750000</td>\n",
       "      <td>0.609131</td>\n",
       "      <td>0.560440</td>\n",
       "      <td>0.578755</td>\n",
       "      <td>0.835949</td>\n",
       "      <td>0</td>\n",
       "    </tr>\n",
       "  </tbody>\n",
       "</table>\n",
       "</div>"
      ],
      "text/plain": [
       "      Malic       Ash  Alcalinity  Magnesium   Phenols  Flavanoids  \\\n",
       "0  0.217978  0.528846    0.318841   0.919355  0.627586    0.757660   \n",
       "1  0.233708  0.250000    0.000000   0.483871  0.575862    0.674095   \n",
       "2  0.271910  0.596154    0.405797   0.693548  0.989655    0.877437   \n",
       "3  0.415730  0.951923    0.710145   0.774194  0.627586    0.654596   \n",
       "4  0.229213  0.548077    0.289855   0.677419  0.789655    0.849582   \n",
       "\n",
       "   Nonflavanoids  Proanthocyanins     Color       Hue  Dilution   Proline  \\\n",
       "0       0.283019         0.903846  0.485523  0.549451  0.970696  0.561341   \n",
       "1       0.245283         0.418269  0.345212  0.560440  0.780220  0.550642   \n",
       "2       0.207547         0.850962  0.726058  0.351648  0.798535  0.857347   \n",
       "3       0.490566         0.677885  0.338530  0.549451  0.608059  0.325963   \n",
       "4       0.396226         0.750000  0.609131  0.560440  0.578755  0.835949   \n",
       "\n",
       "   ClusterID  \n",
       "0          0  \n",
       "1          0  \n",
       "2          0  \n",
       "3          0  \n",
       "4          0  "
      ]
     },
     "execution_count": 96,
     "metadata": {},
     "output_type": "execute_result"
    }
   ],
   "source": [
    "#Adding cluster column in the data\n",
    "data_std['ClusterID']=wine_kmeans1.labels_\n",
    "data_std.head()"
   ]
  },
  {
   "cell_type": "code",
   "execution_count": 97,
   "id": "afb1e36d",
   "metadata": {},
   "outputs": [
    {
     "data": {
      "text/html": [
       "<div>\n",
       "<style scoped>\n",
       "    .dataframe tbody tr th:only-of-type {\n",
       "        vertical-align: middle;\n",
       "    }\n",
       "\n",
       "    .dataframe tbody tr th {\n",
       "        vertical-align: top;\n",
       "    }\n",
       "\n",
       "    .dataframe thead th {\n",
       "        text-align: right;\n",
       "    }\n",
       "</style>\n",
       "<table border=\"1\" class=\"dataframe\">\n",
       "  <thead>\n",
       "    <tr style=\"text-align: right;\">\n",
       "      <th></th>\n",
       "      <th>Malic</th>\n",
       "      <th>Ash</th>\n",
       "      <th>Alcalinity</th>\n",
       "      <th>Magnesium</th>\n",
       "      <th>Phenols</th>\n",
       "      <th>Flavanoids</th>\n",
       "      <th>Nonflavanoids</th>\n",
       "      <th>Proanthocyanins</th>\n",
       "      <th>Color</th>\n",
       "      <th>Hue</th>\n",
       "      <th>Dilution</th>\n",
       "      <th>Proline</th>\n",
       "    </tr>\n",
       "    <tr>\n",
       "      <th>ClusterID</th>\n",
       "      <th></th>\n",
       "      <th></th>\n",
       "      <th></th>\n",
       "      <th></th>\n",
       "      <th></th>\n",
       "      <th></th>\n",
       "      <th></th>\n",
       "      <th></th>\n",
       "      <th></th>\n",
       "      <th></th>\n",
       "      <th></th>\n",
       "      <th></th>\n",
       "    </tr>\n",
       "  </thead>\n",
       "  <tbody>\n",
       "    <tr>\n",
       "      <th>0</th>\n",
       "      <td>0.272434</td>\n",
       "      <td>0.538782</td>\n",
       "      <td>0.447343</td>\n",
       "      <td>0.572043</td>\n",
       "      <td>0.647586</td>\n",
       "      <td>0.726045</td>\n",
       "      <td>0.288994</td>\n",
       "      <td>0.688462</td>\n",
       "      <td>0.450390</td>\n",
       "      <td>0.562821</td>\n",
       "      <td>0.688767</td>\n",
       "      <td>0.561507</td>\n",
       "    </tr>\n",
       "    <tr>\n",
       "      <th>1</th>\n",
       "      <td>0.580417</td>\n",
       "      <td>0.484432</td>\n",
       "      <td>0.696860</td>\n",
       "      <td>0.453149</td>\n",
       "      <td>0.219787</td>\n",
       "      <td>0.125282</td>\n",
       "      <td>0.593890</td>\n",
       "      <td>0.306548</td>\n",
       "      <td>0.612896</td>\n",
       "      <td>0.178964</td>\n",
       "      <td>0.160649</td>\n",
       "      <td>0.241254</td>\n",
       "    </tr>\n",
       "    <tr>\n",
       "      <th>2</th>\n",
       "      <td>0.237640</td>\n",
       "      <td>0.355769</td>\n",
       "      <td>0.658762</td>\n",
       "      <td>0.324047</td>\n",
       "      <td>0.390361</td>\n",
       "      <td>0.439795</td>\n",
       "      <td>0.479846</td>\n",
       "      <td>0.493335</td>\n",
       "      <td>0.177642</td>\n",
       "      <td>0.564086</td>\n",
       "      <td>0.553780</td>\n",
       "      <td>0.149705</td>\n",
       "    </tr>\n",
       "  </tbody>\n",
       "</table>\n",
       "</div>"
      ],
      "text/plain": [
       "              Malic       Ash  Alcalinity  Magnesium   Phenols  Flavanoids  \\\n",
       "ClusterID                                                                    \n",
       "0          0.272434  0.538782    0.447343   0.572043  0.647586    0.726045   \n",
       "1          0.580417  0.484432    0.696860   0.453149  0.219787    0.125282   \n",
       "2          0.237640  0.355769    0.658762   0.324047  0.390361    0.439795   \n",
       "\n",
       "           Nonflavanoids  Proanthocyanins     Color       Hue  Dilution  \\\n",
       "ClusterID                                                                 \n",
       "0               0.288994         0.688462  0.450390  0.562821  0.688767   \n",
       "1               0.593890         0.306548  0.612896  0.178964  0.160649   \n",
       "2               0.479846         0.493335  0.177642  0.564086  0.553780   \n",
       "\n",
       "            Proline  \n",
       "ClusterID            \n",
       "0          0.561507  \n",
       "1          0.241254  \n",
       "2          0.149705  "
      ]
     },
     "execution_count": 97,
     "metadata": {},
     "output_type": "execute_result"
    }
   ],
   "source": [
    "#Grouping Clusters\n",
    "data_std.groupby('ClusterID').mean()"
   ]
  },
  {
   "cell_type": "code",
   "execution_count": 98,
   "id": "f3b1a43e",
   "metadata": {},
   "outputs": [
    {
     "data": {
      "text/plain": [
       "0    60\n",
       "2    44\n",
       "1    42\n",
       "Name: ClusterID, dtype: int64"
      ]
     },
     "execution_count": 98,
     "metadata": {},
     "output_type": "execute_result"
    }
   ],
   "source": [
    "data_std['ClusterID'].value_counts()"
   ]
  },
  {
   "cell_type": "markdown",
   "id": "05113736",
   "metadata": {},
   "source": [
    "# Observation :\n",
    "\n",
    "Silhouette score (KMeans Clustering) :\n",
    "\n",
    "With PCA : 0.4707\n",
    "\n",
    "Without PCA : 0.2992\n",
    "\n",
    "From this, we can say that KMeans clustering model done with the help of PCA is better than without PCA. "
   ]
  }
 ],
 "metadata": {
  "kernelspec": {
   "display_name": "Python 3 (ipykernel)",
   "language": "python",
   "name": "python3"
  },
  "language_info": {
   "codemirror_mode": {
    "name": "ipython",
    "version": 3
   },
   "file_extension": ".py",
   "mimetype": "text/x-python",
   "name": "python",
   "nbconvert_exporter": "python",
   "pygments_lexer": "ipython3",
   "version": "3.9.7"
  }
 },
 "nbformat": 4,
 "nbformat_minor": 5
}
